{
  "nbformat": 4,
  "nbformat_minor": 0,
  "metadata": {
    "kernelspec": {
      "display_name": "Python 3",
      "language": "python",
      "name": "python3"
    },
    "language_info": {
      "codemirror_mode": {
        "name": "ipython",
        "version": 3
      },
      "file_extension": ".py",
      "mimetype": "text/x-python",
      "name": "python",
      "nbconvert_exporter": "python",
      "pygments_lexer": "ipython3",
      "version": "3.6.4"
    },
    "colab": {
      "name": "IPL_Player_Clusters.ipynb",
      "provenance": [],
      "collapsed_sections": [
        "PTeyiH0U2sKh",
        "s92FVi3-2sK3"
      ]
    }
  },
  "cells": [
    {
      "cell_type": "markdown",
      "metadata": {
        "id": "tEI6vwOj2sJq",
        "colab_type": "text"
      },
      "source": [
        "  # PLAYER CLUSTERS"
      ]
    },
    {
      "cell_type": "markdown",
      "metadata": {
        "id": "kS98F-fn2sJt",
        "colab_type": "text"
      },
      "source": [
        "#### Aim: To create clusters of players based on their strengths in order to show a well-rounded cricket team of all time.\n"
      ]
    },
    {
      "cell_type": "code",
      "metadata": {
        "id": "dTOKWuymlePI",
        "colab_type": "code",
        "colab": {
          "base_uri": "https://localhost:8080/",
          "height": 34
        },
        "outputId": "d182f8fb-6c79-4854-e41f-a08e2c52a1ec"
      },
      "source": [
        "from google.colab import drive\n",
        "drive.mount('/content/drive')"
      ],
      "execution_count": 92,
      "outputs": [
        {
          "output_type": "stream",
          "text": [
            "Drive already mounted at /content/drive; to attempt to forcibly remount, call drive.mount(\"/content/drive\", force_remount=True).\n"
          ],
          "name": "stdout"
        }
      ]
    },
    {
      "cell_type": "markdown",
      "metadata": {
        "id": "EyK62RvU2sJv",
        "colab_type": "text"
      },
      "source": [
        "# A. Data preprocessing"
      ]
    },
    {
      "cell_type": "code",
      "metadata": {
        "id": "z8OFnKMv2sJw",
        "colab_type": "code",
        "colab": {}
      },
      "source": [
        "# Importing the libraries\n",
        "\n",
        "import pandas as pd\n",
        "import numpy as np\n",
        "import seaborn as sns"
      ],
      "execution_count": 93,
      "outputs": []
    },
    {
      "cell_type": "code",
      "metadata": {
        "id": "dWERXALtSt8m",
        "colab_type": "code",
        "colab": {
          "base_uri": "https://localhost:8080/",
          "height": 224
        },
        "outputId": "bdfcfae4-8507-469d-a5e5-e14dbbbb9dde"
      },
      "source": [
        "# Retrieving the first dataset\n",
        "\n",
        "runs = pd.read_csv(r'/content/drive/My Drive/Sem 8/ML/IA/IA2/datasets/Ball_by_Ball.csv')\n",
        "runs.head()"
      ],
      "execution_count": 94,
      "outputs": [
        {
          "output_type": "execute_result",
          "data": {
            "text/html": [
              "<div>\n",
              "<style scoped>\n",
              "    .dataframe tbody tr th:only-of-type {\n",
              "        vertical-align: middle;\n",
              "    }\n",
              "\n",
              "    .dataframe tbody tr th {\n",
              "        vertical-align: top;\n",
              "    }\n",
              "\n",
              "    .dataframe thead th {\n",
              "        text-align: right;\n",
              "    }\n",
              "</style>\n",
              "<table border=\"1\" class=\"dataframe\">\n",
              "  <thead>\n",
              "    <tr style=\"text-align: right;\">\n",
              "      <th></th>\n",
              "      <th>Match_Id</th>\n",
              "      <th>Innings_Id</th>\n",
              "      <th>Over_Id</th>\n",
              "      <th>Ball_Id</th>\n",
              "      <th>Team_Batting_Id</th>\n",
              "      <th>Team_Bowling_Id</th>\n",
              "      <th>Striker_Id</th>\n",
              "      <th>Striker_Batting_Position</th>\n",
              "      <th>Non_Striker_Id</th>\n",
              "      <th>Bowler_Id</th>\n",
              "      <th>Batsman_Scored</th>\n",
              "      <th>Extra_Type</th>\n",
              "      <th>Extra_Runs</th>\n",
              "      <th>Player_dissimal_Id</th>\n",
              "      <th>Dissimal_Type</th>\n",
              "      <th>Fielder_Id</th>\n",
              "    </tr>\n",
              "  </thead>\n",
              "  <tbody>\n",
              "    <tr>\n",
              "      <th>0</th>\n",
              "      <td>335987</td>\n",
              "      <td>1</td>\n",
              "      <td>1</td>\n",
              "      <td>1</td>\n",
              "      <td>1</td>\n",
              "      <td>2</td>\n",
              "      <td>1</td>\n",
              "      <td>1</td>\n",
              "      <td>2</td>\n",
              "      <td>14</td>\n",
              "      <td>0</td>\n",
              "      <td>legbyes</td>\n",
              "      <td>1</td>\n",
              "      <td></td>\n",
              "      <td></td>\n",
              "      <td></td>\n",
              "    </tr>\n",
              "    <tr>\n",
              "      <th>1</th>\n",
              "      <td>335987</td>\n",
              "      <td>1</td>\n",
              "      <td>1</td>\n",
              "      <td>2</td>\n",
              "      <td>1</td>\n",
              "      <td>2</td>\n",
              "      <td>2</td>\n",
              "      <td>2</td>\n",
              "      <td>1</td>\n",
              "      <td>14</td>\n",
              "      <td>0</td>\n",
              "      <td></td>\n",
              "      <td></td>\n",
              "      <td></td>\n",
              "      <td></td>\n",
              "      <td></td>\n",
              "    </tr>\n",
              "    <tr>\n",
              "      <th>2</th>\n",
              "      <td>335987</td>\n",
              "      <td>1</td>\n",
              "      <td>1</td>\n",
              "      <td>3</td>\n",
              "      <td>1</td>\n",
              "      <td>2</td>\n",
              "      <td>2</td>\n",
              "      <td>2</td>\n",
              "      <td>1</td>\n",
              "      <td>14</td>\n",
              "      <td>0</td>\n",
              "      <td>wides</td>\n",
              "      <td>1</td>\n",
              "      <td></td>\n",
              "      <td></td>\n",
              "      <td></td>\n",
              "    </tr>\n",
              "    <tr>\n",
              "      <th>3</th>\n",
              "      <td>335987</td>\n",
              "      <td>1</td>\n",
              "      <td>1</td>\n",
              "      <td>4</td>\n",
              "      <td>1</td>\n",
              "      <td>2</td>\n",
              "      <td>2</td>\n",
              "      <td>2</td>\n",
              "      <td>1</td>\n",
              "      <td>14</td>\n",
              "      <td>0</td>\n",
              "      <td></td>\n",
              "      <td></td>\n",
              "      <td></td>\n",
              "      <td></td>\n",
              "      <td></td>\n",
              "    </tr>\n",
              "    <tr>\n",
              "      <th>4</th>\n",
              "      <td>335987</td>\n",
              "      <td>1</td>\n",
              "      <td>1</td>\n",
              "      <td>5</td>\n",
              "      <td>1</td>\n",
              "      <td>2</td>\n",
              "      <td>2</td>\n",
              "      <td>2</td>\n",
              "      <td>1</td>\n",
              "      <td>14</td>\n",
              "      <td>0</td>\n",
              "      <td></td>\n",
              "      <td></td>\n",
              "      <td></td>\n",
              "      <td></td>\n",
              "      <td></td>\n",
              "    </tr>\n",
              "  </tbody>\n",
              "</table>\n",
              "</div>"
            ],
            "text/plain": [
              "   Match_Id  Innings_Id  Over_Id  ...  Player_dissimal_Id  Dissimal_Type  Fielder_Id\n",
              "0    335987           1        1  ...                                               \n",
              "1    335987           1        1  ...                                               \n",
              "2    335987           1        1  ...                                               \n",
              "3    335987           1        1  ...                                               \n",
              "4    335987           1        1  ...                                               \n",
              "\n",
              "[5 rows x 16 columns]"
            ]
          },
          "metadata": {
            "tags": []
          },
          "execution_count": 94
        }
      ]
    },
    {
      "cell_type": "code",
      "metadata": {
        "id": "BTh4eyIe2sJ2",
        "colab_type": "code",
        "colab": {
          "base_uri": "https://localhost:8080/",
          "height": 204
        },
        "outputId": "657cffda-a1d6-4257-e36d-3ba0821b68bd"
      },
      "source": [
        "# Retrieving the second dataset\n",
        "\n",
        "Players = pd.read_csv(r'/content/drive/My Drive/Sem 8/ML/IA/IA2/datasets/Player.csv')\n",
        "Players = Players.drop([\"Is_Umpire\", \"Unnamed: 7\"], axis = 1)\n",
        "# Players = Players[[\"Player_Id\", \"Player_Name\"]]\n",
        "Players.head()"
      ],
      "execution_count": 95,
      "outputs": [
        {
          "output_type": "execute_result",
          "data": {
            "text/html": [
              "<div>\n",
              "<style scoped>\n",
              "    .dataframe tbody tr th:only-of-type {\n",
              "        vertical-align: middle;\n",
              "    }\n",
              "\n",
              "    .dataframe tbody tr th {\n",
              "        vertical-align: top;\n",
              "    }\n",
              "\n",
              "    .dataframe thead th {\n",
              "        text-align: right;\n",
              "    }\n",
              "</style>\n",
              "<table border=\"1\" class=\"dataframe\">\n",
              "  <thead>\n",
              "    <tr style=\"text-align: right;\">\n",
              "      <th></th>\n",
              "      <th>Player_Id</th>\n",
              "      <th>Player_Name</th>\n",
              "      <th>DOB</th>\n",
              "      <th>Batting_Hand</th>\n",
              "      <th>Bowling_Skill</th>\n",
              "      <th>Country</th>\n",
              "    </tr>\n",
              "  </thead>\n",
              "  <tbody>\n",
              "    <tr>\n",
              "      <th>0</th>\n",
              "      <td>1</td>\n",
              "      <td>SC Ganguly</td>\n",
              "      <td>8-Jul-72</td>\n",
              "      <td>Left_Hand</td>\n",
              "      <td>Right-arm medium</td>\n",
              "      <td>India</td>\n",
              "    </tr>\n",
              "    <tr>\n",
              "      <th>1</th>\n",
              "      <td>2</td>\n",
              "      <td>BB McCullum</td>\n",
              "      <td>27-Sep-81</td>\n",
              "      <td>Right_Hand</td>\n",
              "      <td>Right-arm medium</td>\n",
              "      <td>New Zealand</td>\n",
              "    </tr>\n",
              "    <tr>\n",
              "      <th>2</th>\n",
              "      <td>3</td>\n",
              "      <td>RT Ponting</td>\n",
              "      <td>19-Dec-74</td>\n",
              "      <td>Right_Hand</td>\n",
              "      <td>Right-arm medium</td>\n",
              "      <td>Australia</td>\n",
              "    </tr>\n",
              "    <tr>\n",
              "      <th>3</th>\n",
              "      <td>4</td>\n",
              "      <td>DJ Hussey</td>\n",
              "      <td>15-Jul-77</td>\n",
              "      <td>Right_Hand</td>\n",
              "      <td>Right-arm offbreak</td>\n",
              "      <td>Australia</td>\n",
              "    </tr>\n",
              "    <tr>\n",
              "      <th>4</th>\n",
              "      <td>5</td>\n",
              "      <td>Mohammad Hafeez</td>\n",
              "      <td>17-Oct-80</td>\n",
              "      <td>Right_Hand</td>\n",
              "      <td>Right-arm offbreak</td>\n",
              "      <td>Pakistan</td>\n",
              "    </tr>\n",
              "  </tbody>\n",
              "</table>\n",
              "</div>"
            ],
            "text/plain": [
              "   Player_Id      Player_Name  ...       Bowling_Skill      Country\n",
              "0          1       SC Ganguly  ...    Right-arm medium        India\n",
              "1          2      BB McCullum  ...    Right-arm medium  New Zealand\n",
              "2          3       RT Ponting  ...    Right-arm medium    Australia\n",
              "3          4        DJ Hussey  ...  Right-arm offbreak    Australia\n",
              "4          5  Mohammad Hafeez  ...  Right-arm offbreak     Pakistan\n",
              "\n",
              "[5 rows x 6 columns]"
            ]
          },
          "metadata": {
            "tags": []
          },
          "execution_count": 95
        }
      ]
    },
    {
      "cell_type": "code",
      "metadata": {
        "id": "TMInY0ko2sJ7",
        "colab_type": "code",
        "colab": {
          "base_uri": "https://localhost:8080/",
          "height": 204
        },
        "outputId": "c1b0a066-0d37-4a41-89a8-84078843db71"
      },
      "source": [
        "# Keeping only the relevant data for analysis\n",
        "\n",
        "runs = runs[[\"Match_Id\", \"Over_Id\", \"Striker_Id\", \"Bowler_Id\", \"Batsman_Scored\", \"Extra_Runs\"]]\n",
        "runs.head()"
      ],
      "execution_count": 96,
      "outputs": [
        {
          "output_type": "execute_result",
          "data": {
            "text/html": [
              "<div>\n",
              "<style scoped>\n",
              "    .dataframe tbody tr th:only-of-type {\n",
              "        vertical-align: middle;\n",
              "    }\n",
              "\n",
              "    .dataframe tbody tr th {\n",
              "        vertical-align: top;\n",
              "    }\n",
              "\n",
              "    .dataframe thead th {\n",
              "        text-align: right;\n",
              "    }\n",
              "</style>\n",
              "<table border=\"1\" class=\"dataframe\">\n",
              "  <thead>\n",
              "    <tr style=\"text-align: right;\">\n",
              "      <th></th>\n",
              "      <th>Match_Id</th>\n",
              "      <th>Over_Id</th>\n",
              "      <th>Striker_Id</th>\n",
              "      <th>Bowler_Id</th>\n",
              "      <th>Batsman_Scored</th>\n",
              "      <th>Extra_Runs</th>\n",
              "    </tr>\n",
              "  </thead>\n",
              "  <tbody>\n",
              "    <tr>\n",
              "      <th>0</th>\n",
              "      <td>335987</td>\n",
              "      <td>1</td>\n",
              "      <td>1</td>\n",
              "      <td>14</td>\n",
              "      <td>0</td>\n",
              "      <td>1</td>\n",
              "    </tr>\n",
              "    <tr>\n",
              "      <th>1</th>\n",
              "      <td>335987</td>\n",
              "      <td>1</td>\n",
              "      <td>2</td>\n",
              "      <td>14</td>\n",
              "      <td>0</td>\n",
              "      <td></td>\n",
              "    </tr>\n",
              "    <tr>\n",
              "      <th>2</th>\n",
              "      <td>335987</td>\n",
              "      <td>1</td>\n",
              "      <td>2</td>\n",
              "      <td>14</td>\n",
              "      <td>0</td>\n",
              "      <td>1</td>\n",
              "    </tr>\n",
              "    <tr>\n",
              "      <th>3</th>\n",
              "      <td>335987</td>\n",
              "      <td>1</td>\n",
              "      <td>2</td>\n",
              "      <td>14</td>\n",
              "      <td>0</td>\n",
              "      <td></td>\n",
              "    </tr>\n",
              "    <tr>\n",
              "      <th>4</th>\n",
              "      <td>335987</td>\n",
              "      <td>1</td>\n",
              "      <td>2</td>\n",
              "      <td>14</td>\n",
              "      <td>0</td>\n",
              "      <td></td>\n",
              "    </tr>\n",
              "  </tbody>\n",
              "</table>\n",
              "</div>"
            ],
            "text/plain": [
              "   Match_Id  Over_Id  Striker_Id  Bowler_Id Batsman_Scored Extra_Runs\n",
              "0    335987        1           1         14              0          1\n",
              "1    335987        1           2         14              0           \n",
              "2    335987        1           2         14              0          1\n",
              "3    335987        1           2         14              0           \n",
              "4    335987        1           2         14              0           "
            ]
          },
          "metadata": {
            "tags": []
          },
          "execution_count": 96
        }
      ]
    },
    {
      "cell_type": "markdown",
      "metadata": {
        "id": "-b7uVCzP2sKB",
        "colab_type": "text"
      },
      "source": [
        "#### The Extra_Runs column contains null values. "
      ]
    },
    {
      "cell_type": "code",
      "metadata": {
        "id": "HD4FIS8l2sKC",
        "colab_type": "code",
        "colab": {
          "base_uri": "https://localhost:8080/",
          "height": 136
        },
        "outputId": "19ed784f-0f21-4f92-a396-f63f4409532a"
      },
      "source": [
        "# Checking for null values\n",
        "\n",
        "runs.isnull().sum()"
      ],
      "execution_count": 97,
      "outputs": [
        {
          "output_type": "execute_result",
          "data": {
            "text/plain": [
              "Match_Id          0\n",
              "Over_Id           0\n",
              "Striker_Id        0\n",
              "Bowler_Id         0\n",
              "Batsman_Scored    0\n",
              "Extra_Runs        0\n",
              "dtype: int64"
            ]
          },
          "metadata": {
            "tags": []
          },
          "execution_count": 97
        }
      ]
    },
    {
      "cell_type": "code",
      "metadata": {
        "id": "WHFhAdXj2sKH",
        "colab_type": "code",
        "colab": {
          "base_uri": "https://localhost:8080/",
          "height": 136
        },
        "outputId": "3445f6c8-c3e1-44de-d71b-2e88e07f6705"
      },
      "source": [
        "# Since isnull() gives no null values, we check for data types.\n",
        "\n",
        "runs.dtypes"
      ],
      "execution_count": 98,
      "outputs": [
        {
          "output_type": "execute_result",
          "data": {
            "text/plain": [
              "Match_Id           int64\n",
              "Over_Id            int64\n",
              "Striker_Id         int64\n",
              "Bowler_Id          int64\n",
              "Batsman_Scored    object\n",
              "Extra_Runs        object\n",
              "dtype: object"
            ]
          },
          "metadata": {
            "tags": []
          },
          "execution_count": 98
        }
      ]
    },
    {
      "cell_type": "markdown",
      "metadata": {
        "id": "8E-jPJbETc4y",
        "colab_type": "text"
      },
      "source": [
        "#### Converting object columns into numeric values."
      ]
    },
    {
      "cell_type": "code",
      "metadata": {
        "id": "Tkd4CxUx2sKN",
        "colab_type": "code",
        "colab": {
          "base_uri": "https://localhost:8080/",
          "height": 483
        },
        "outputId": "56a12c3f-888e-4c71-8239-2fae58372acf"
      },
      "source": [
        "# Replacing null values with 0 runs.\n",
        "\n",
        "runs[\"Extra_Runs\"] = pd.to_numeric(runs[\"Extra_Runs\"], errors=\"coerce\")\n",
        "runs[\"Extra_Runs\"] = runs[\"Extra_Runs\"].fillna(0)\n",
        "\n",
        "runs[\"Batsman_Scored\"] = pd.to_numeric(runs[\"Batsman_Scored\"], errors=\"coerce\")\n",
        "runs[\"Batsman_Scored\"] = runs[\"Batsman_Scored\"].fillna(0)\n",
        "runs.head(14)"
      ],
      "execution_count": 99,
      "outputs": [
        {
          "output_type": "execute_result",
          "data": {
            "text/html": [
              "<div>\n",
              "<style scoped>\n",
              "    .dataframe tbody tr th:only-of-type {\n",
              "        vertical-align: middle;\n",
              "    }\n",
              "\n",
              "    .dataframe tbody tr th {\n",
              "        vertical-align: top;\n",
              "    }\n",
              "\n",
              "    .dataframe thead th {\n",
              "        text-align: right;\n",
              "    }\n",
              "</style>\n",
              "<table border=\"1\" class=\"dataframe\">\n",
              "  <thead>\n",
              "    <tr style=\"text-align: right;\">\n",
              "      <th></th>\n",
              "      <th>Match_Id</th>\n",
              "      <th>Over_Id</th>\n",
              "      <th>Striker_Id</th>\n",
              "      <th>Bowler_Id</th>\n",
              "      <th>Batsman_Scored</th>\n",
              "      <th>Extra_Runs</th>\n",
              "    </tr>\n",
              "  </thead>\n",
              "  <tbody>\n",
              "    <tr>\n",
              "      <th>0</th>\n",
              "      <td>335987</td>\n",
              "      <td>1</td>\n",
              "      <td>1</td>\n",
              "      <td>14</td>\n",
              "      <td>0.0</td>\n",
              "      <td>1.0</td>\n",
              "    </tr>\n",
              "    <tr>\n",
              "      <th>1</th>\n",
              "      <td>335987</td>\n",
              "      <td>1</td>\n",
              "      <td>2</td>\n",
              "      <td>14</td>\n",
              "      <td>0.0</td>\n",
              "      <td>0.0</td>\n",
              "    </tr>\n",
              "    <tr>\n",
              "      <th>2</th>\n",
              "      <td>335987</td>\n",
              "      <td>1</td>\n",
              "      <td>2</td>\n",
              "      <td>14</td>\n",
              "      <td>0.0</td>\n",
              "      <td>1.0</td>\n",
              "    </tr>\n",
              "    <tr>\n",
              "      <th>3</th>\n",
              "      <td>335987</td>\n",
              "      <td>1</td>\n",
              "      <td>2</td>\n",
              "      <td>14</td>\n",
              "      <td>0.0</td>\n",
              "      <td>0.0</td>\n",
              "    </tr>\n",
              "    <tr>\n",
              "      <th>4</th>\n",
              "      <td>335987</td>\n",
              "      <td>1</td>\n",
              "      <td>2</td>\n",
              "      <td>14</td>\n",
              "      <td>0.0</td>\n",
              "      <td>0.0</td>\n",
              "    </tr>\n",
              "    <tr>\n",
              "      <th>5</th>\n",
              "      <td>335987</td>\n",
              "      <td>1</td>\n",
              "      <td>2</td>\n",
              "      <td>14</td>\n",
              "      <td>0.0</td>\n",
              "      <td>0.0</td>\n",
              "    </tr>\n",
              "    <tr>\n",
              "      <th>6</th>\n",
              "      <td>335987</td>\n",
              "      <td>1</td>\n",
              "      <td>2</td>\n",
              "      <td>14</td>\n",
              "      <td>0.0</td>\n",
              "      <td>1.0</td>\n",
              "    </tr>\n",
              "    <tr>\n",
              "      <th>7</th>\n",
              "      <td>335987</td>\n",
              "      <td>2</td>\n",
              "      <td>2</td>\n",
              "      <td>15</td>\n",
              "      <td>0.0</td>\n",
              "      <td>0.0</td>\n",
              "    </tr>\n",
              "    <tr>\n",
              "      <th>8</th>\n",
              "      <td>335987</td>\n",
              "      <td>2</td>\n",
              "      <td>2</td>\n",
              "      <td>15</td>\n",
              "      <td>4.0</td>\n",
              "      <td>0.0</td>\n",
              "    </tr>\n",
              "    <tr>\n",
              "      <th>9</th>\n",
              "      <td>335987</td>\n",
              "      <td>2</td>\n",
              "      <td>2</td>\n",
              "      <td>15</td>\n",
              "      <td>4.0</td>\n",
              "      <td>0.0</td>\n",
              "    </tr>\n",
              "    <tr>\n",
              "      <th>10</th>\n",
              "      <td>335987</td>\n",
              "      <td>2</td>\n",
              "      <td>2</td>\n",
              "      <td>15</td>\n",
              "      <td>6.0</td>\n",
              "      <td>0.0</td>\n",
              "    </tr>\n",
              "    <tr>\n",
              "      <th>11</th>\n",
              "      <td>335987</td>\n",
              "      <td>2</td>\n",
              "      <td>2</td>\n",
              "      <td>15</td>\n",
              "      <td>4.0</td>\n",
              "      <td>0.0</td>\n",
              "    </tr>\n",
              "    <tr>\n",
              "      <th>12</th>\n",
              "      <td>335987</td>\n",
              "      <td>2</td>\n",
              "      <td>2</td>\n",
              "      <td>15</td>\n",
              "      <td>0.0</td>\n",
              "      <td>0.0</td>\n",
              "    </tr>\n",
              "    <tr>\n",
              "      <th>13</th>\n",
              "      <td>335987</td>\n",
              "      <td>3</td>\n",
              "      <td>1</td>\n",
              "      <td>14</td>\n",
              "      <td>0.0</td>\n",
              "      <td>0.0</td>\n",
              "    </tr>\n",
              "  </tbody>\n",
              "</table>\n",
              "</div>"
            ],
            "text/plain": [
              "    Match_Id  Over_Id  Striker_Id  Bowler_Id  Batsman_Scored  Extra_Runs\n",
              "0     335987        1           1         14             0.0         1.0\n",
              "1     335987        1           2         14             0.0         0.0\n",
              "2     335987        1           2         14             0.0         1.0\n",
              "3     335987        1           2         14             0.0         0.0\n",
              "4     335987        1           2         14             0.0         0.0\n",
              "5     335987        1           2         14             0.0         0.0\n",
              "6     335987        1           2         14             0.0         1.0\n",
              "7     335987        2           2         15             0.0         0.0\n",
              "8     335987        2           2         15             4.0         0.0\n",
              "9     335987        2           2         15             4.0         0.0\n",
              "10    335987        2           2         15             6.0         0.0\n",
              "11    335987        2           2         15             4.0         0.0\n",
              "12    335987        2           2         15             0.0         0.0\n",
              "13    335987        3           1         14             0.0         0.0"
            ]
          },
          "metadata": {
            "tags": []
          },
          "execution_count": 99
        }
      ]
    },
    {
      "cell_type": "markdown",
      "metadata": {
        "id": "Ss5tZiHb2sKS",
        "colab_type": "text"
      },
      "source": [
        "# B. Creating a dataframe for Batsmen"
      ]
    },
    {
      "cell_type": "markdown",
      "metadata": {
        "id": "bZo83Ps0T3bD",
        "colab_type": "text"
      },
      "source": [
        "####Strike rate of a batsman can be calculated with the help of the number of runs scored by him and the number of balls he faced.\n",
        "\n",
        "####strike_rate = runs per 100 balls faced"
      ]
    },
    {
      "cell_type": "code",
      "metadata": {
        "id": "1dH7kCK12sKU",
        "colab_type": "code",
        "colab": {}
      },
      "source": [
        "A = []\n",
        "B = []\n",
        "\n",
        "for i in runs[\"Striker_Id\"].unique():\n",
        "    a = runs[\"Batsman_Scored\"][runs[\"Striker_Id\"] == i].sum()\n",
        "    b = runs[\"Match_Id\"][runs[\"Striker_Id\"] == i].count()\n",
        "    A.append(a)\n",
        "    B.append(b)\n",
        "\n",
        "Batsmen = pd.DataFrame({\"Player_names\": runs[\"Striker_Id\"].unique()})\n",
        "\n",
        "Batsmen[\"Runs\"] = A\n",
        "Batsmen[\"Balls_played\"] = B\n",
        "\n",
        "# Calculating strike rate using the formula (strike_rate = runs per 100 balls faced)\n",
        "\n",
        "Batsmen[\"Strike_Rate\"] = (Batsmen[\"Runs\"] * 100 / Batsmen[\"Balls_played\"]).round(2)\n"
      ],
      "execution_count": 100,
      "outputs": []
    },
    {
      "cell_type": "code",
      "metadata": {
        "id": "v7R_ymaErNNL",
        "colab_type": "code",
        "colab": {
          "base_uri": "https://localhost:8080/",
          "height": 282
        },
        "outputId": "5b401186-459d-46e2-b877-a53d7819c37d"
      },
      "source": [
        "# Checking the distribution of batsmen\n",
        "\n",
        "Batsmen[\"Strike_Rate\"].hist(color=\"pink\")"
      ],
      "execution_count": 101,
      "outputs": [
        {
          "output_type": "execute_result",
          "data": {
            "text/plain": [
              "<matplotlib.axes._subplots.AxesSubplot at 0x7fcf1b3f3080>"
            ]
          },
          "metadata": {
            "tags": []
          },
          "execution_count": 101
        },
        {
          "output_type": "display_data",
          "data": {
            "image/png": "[encoded data removed]",
            "text/plain": [
              "<Figure size 432x288 with 1 Axes>"
            ]
          },
          "metadata": {
            "tags": []
          }
        }
      ]
    },
    {
      "cell_type": "markdown",
      "metadata": {
        "id": "D2es8LWlUbjI",
        "colab_type": "text"
      },
      "source": [
        "**Filter 1**\n",
        "*Since we have to assess batsmen, the players with very low strike rates are not required to be considered as they tend to bat very few times and are usually bowlers/fielders.*"
      ]
    },
    {
      "cell_type": "code",
      "metadata": {
        "id": "ldIj7zQPUaBb",
        "colab_type": "code",
        "colab": {}
      },
      "source": [
        "Batsmen = Batsmen[Batsmen[\"Strike_Rate\"] > 60]\n",
        "Batsmen = Batsmen[Batsmen[\"Strike_Rate\"] < 150]"
      ],
      "execution_count": 102,
      "outputs": []
    },
    {
      "cell_type": "markdown",
      "metadata": {
        "id": "BH1NQfRNU0rC",
        "colab_type": "text"
      },
      "source": [
        "**Filter 2** \n",
        "*run rate: runs per over(or per 6 balls)*"
      ]
    },
    {
      "cell_type": "code",
      "metadata": {
        "id": "42gl-DqbU06f",
        "colab_type": "code",
        "colab": {}
      },
      "source": [
        "Batsmen = Batsmen[(Batsmen[\"Runs\"]*6/Batsmen[\"Balls_played\"]) > 6]"
      ],
      "execution_count": 103,
      "outputs": []
    },
    {
      "cell_type": "code",
      "metadata": {
        "id": "BzHnc5NbrzSm",
        "colab_type": "code",
        "colab": {
          "base_uri": "https://localhost:8080/",
          "height": 204
        },
        "outputId": "15e42311-c5ad-44b9-de35-f6a70ad470ea"
      },
      "source": [
        "Batsmen.head()"
      ],
      "execution_count": 104,
      "outputs": [
        {
          "output_type": "execute_result",
          "data": {
            "text/html": [
              "<div>\n",
              "<style scoped>\n",
              "    .dataframe tbody tr th:only-of-type {\n",
              "        vertical-align: middle;\n",
              "    }\n",
              "\n",
              "    .dataframe tbody tr th {\n",
              "        vertical-align: top;\n",
              "    }\n",
              "\n",
              "    .dataframe thead th {\n",
              "        text-align: right;\n",
              "    }\n",
              "</style>\n",
              "<table border=\"1\" class=\"dataframe\">\n",
              "  <thead>\n",
              "    <tr style=\"text-align: right;\">\n",
              "      <th></th>\n",
              "      <th>Player_names</th>\n",
              "      <th>Runs</th>\n",
              "      <th>Balls_played</th>\n",
              "      <th>Strike_Rate</th>\n",
              "    </tr>\n",
              "  </thead>\n",
              "  <tbody>\n",
              "    <tr>\n",
              "      <th>0</th>\n",
              "      <td>1</td>\n",
              "      <td>1349.0</td>\n",
              "      <td>1326</td>\n",
              "      <td>101.73</td>\n",
              "    </tr>\n",
              "    <tr>\n",
              "      <th>1</th>\n",
              "      <td>2</td>\n",
              "      <td>2435.0</td>\n",
              "      <td>1954</td>\n",
              "      <td>124.62</td>\n",
              "    </tr>\n",
              "    <tr>\n",
              "      <th>3</th>\n",
              "      <td>4</td>\n",
              "      <td>1322.0</td>\n",
              "      <td>1101</td>\n",
              "      <td>120.07</td>\n",
              "    </tr>\n",
              "    <tr>\n",
              "      <th>5</th>\n",
              "      <td>6</td>\n",
              "      <td>2170.0</td>\n",
              "      <td>1918</td>\n",
              "      <td>113.14</td>\n",
              "    </tr>\n",
              "    <tr>\n",
              "      <th>6</th>\n",
              "      <td>7</td>\n",
              "      <td>130.0</td>\n",
              "      <td>129</td>\n",
              "      <td>100.78</td>\n",
              "    </tr>\n",
              "  </tbody>\n",
              "</table>\n",
              "</div>"
            ],
            "text/plain": [
              "   Player_names    Runs  Balls_played  Strike_Rate\n",
              "0             1  1349.0          1326       101.73\n",
              "1             2  2435.0          1954       124.62\n",
              "3             4  1322.0          1101       120.07\n",
              "5             6  2170.0          1918       113.14\n",
              "6             7   130.0           129       100.78"
            ]
          },
          "metadata": {
            "tags": []
          },
          "execution_count": 104
        }
      ]
    },
    {
      "cell_type": "code",
      "metadata": {
        "id": "DF1A1XHC2sKZ",
        "colab_type": "code",
        "colab": {
          "base_uri": "https://localhost:8080/",
          "height": 282
        },
        "outputId": "713c3dde-6f97-43de-ad33-790e37469c42"
      },
      "source": [
        "Batsmen[\"Strike_Rate\"].hist(color=\"pink\")"
      ],
      "execution_count": 105,
      "outputs": [
        {
          "output_type": "execute_result",
          "data": {
            "text/plain": [
              "<matplotlib.axes._subplots.AxesSubplot at 0x7fcf1566cba8>"
            ]
          },
          "metadata": {
            "tags": []
          },
          "execution_count": 105
        },
        {
          "output_type": "display_data",
          "data": {
            "image/png": "[encoded data removed]",
            "text/plain": [
              "<Figure size 432x288 with 1 Axes>"
            ]
          },
          "metadata": {
            "tags": []
          }
        }
      ]
    },
    {
      "cell_type": "markdown",
      "metadata": {
        "id": "96vlEl8u2sKc",
        "colab_type": "text"
      },
      "source": [
        "# C. Applying K Means Clustering on Batsmen Data"
      ]
    },
    {
      "cell_type": "code",
      "metadata": {
        "id": "Ux0GYnjZ2sKd",
        "colab_type": "code",
        "colab": {
          "base_uri": "https://localhost:8080/",
          "height": 410
        },
        "outputId": "d4b45c28-bd8c-4213-bf64-269b96a6b75b"
      },
      "source": [
        "import matplotlib.pyplot as plt\n",
        "%matplotlib inline\n",
        "\n",
        "sns.set_style(\"whitegrid\")\n",
        "fig = plt.figure(figsize=(12,6))\n",
        "plt.scatter(Batsmen[\"Strike_Rate\"], Batsmen[\"Runs\"], color=\"red\")\n",
        "plt.xlabel(\"Strike Rate of the Batsmen\", fontsize=14)\n",
        "plt.ylabel(\"Runs scored by the Batsmen\", fontsize=14)\n",
        "plt.title(\"IPL Batsmen\", fontsize=16)\n",
        "plt.show()"
      ],
      "execution_count": 106,
      "outputs": [
        {
          "output_type": "display_data",
          "data": {
            "image/png": "[encoded data removed]",
            "text/plain": [
              "<Figure size 864x432 with 1 Axes>"
            ]
          },
          "metadata": {
            "tags": []
          }
        }
      ]
    },
    {
      "cell_type": "markdown",
      "metadata": {
        "id": "PTeyiH0U2sKh",
        "colab_type": "text"
      },
      "source": [
        "#### The distribution of the Batsmen appears to be in largely five clusters:\n",
        "**under 500 runs - highest density of dots**\n",
        "\n",
        "*500 - 1000 runs*\n",
        "\n",
        "*1000 - 2000 runs*\n",
        "\n",
        "*2000 - 3000 runs*\n",
        "\n",
        "*above 3000 runs*"
      ]
    },
    {
      "cell_type": "markdown",
      "metadata": {
        "id": "nyj6LDZZ2sKh",
        "colab_type": "text"
      },
      "source": [
        "### Applying the clustering algorithm"
      ]
    },
    {
      "cell_type": "code",
      "metadata": {
        "id": "3WBox7ln2sKi",
        "colab_type": "code",
        "colab": {
          "base_uri": "https://localhost:8080/",
          "height": 410
        },
        "outputId": "67bd8c62-4fea-4300-9eeb-f9d202e281b6"
      },
      "source": [
        "from sklearn.cluster import KMeans\n",
        "\n",
        "kmeans = KMeans(n_clusters=5)\n",
        "kmeans.fit(Batsmen[[\"Strike_Rate\", \"Runs\"]])\n",
        "Batsmen[\"cluster\"] = kmeans.labels_\n",
        "\n",
        "fig = plt.figure(figsize=(12,6))\n",
        "\n",
        "colors = [\"blue\", \"sienna\", \"limegreen\", \"red\", \"black\"]\n",
        "\n",
        "for r in range(1,6):\n",
        "    clustered_Batsmen = Batsmen[Batsmen[\"cluster\"] == r]\n",
        "    plt.scatter(clustered_Batsmen[\"Strike_Rate\"], clustered_Batsmen[\"Runs\"], color=colors[r-1])\n",
        "    \n",
        "plt.title(\"IPL Batsmen\", fontsize=16)\n",
        "plt.xlabel(\"Strike Rate of the Batsmen\", fontsize=14)\n",
        "plt.ylabel(\"Runs scored by the Batsmen\", fontsize=14)\n",
        "    \n",
        "plt.show()"
      ],
      "execution_count": 107,
      "outputs": [
        {
          "output_type": "display_data",
          "data": {
            "image/png": "[encoded data removed]",
            "text/plain": [
              "<Figure size 864x432 with 1 Axes>"
            ]
          },
          "metadata": {
            "tags": []
          }
        }
      ]
    },
    {
      "cell_type": "markdown",
      "metadata": {
        "id": "3-5xnUtH2sKl",
        "colab_type": "text"
      },
      "source": [
        "### Merging the Player dataframe and Batsmen dataframe to show player names and cluster ids."
      ]
    },
    {
      "cell_type": "code",
      "metadata": {
        "id": "GIKcJx_l2sKm",
        "colab_type": "code",
        "colab": {
          "base_uri": "https://localhost:8080/",
          "height": 204
        },
        "outputId": "baf3eb8a-d5e8-488b-caa3-f52546ae4303"
      },
      "source": [
        "Batsmen = Batsmen.rename(columns={\"Player_names\": \"Player_Id\"})\n",
        "Batsmen = Batsmen.sort_values(by ='cluster' )\n",
        "Batsmen.head()"
      ],
      "execution_count": 108,
      "outputs": [
        {
          "output_type": "execute_result",
          "data": {
            "text/html": [
              "<div>\n",
              "<style scoped>\n",
              "    .dataframe tbody tr th:only-of-type {\n",
              "        vertical-align: middle;\n",
              "    }\n",
              "\n",
              "    .dataframe tbody tr th {\n",
              "        vertical-align: top;\n",
              "    }\n",
              "\n",
              "    .dataframe thead th {\n",
              "        text-align: right;\n",
              "    }\n",
              "</style>\n",
              "<table border=\"1\" class=\"dataframe\">\n",
              "  <thead>\n",
              "    <tr style=\"text-align: right;\">\n",
              "      <th></th>\n",
              "      <th>Player_Id</th>\n",
              "      <th>Runs</th>\n",
              "      <th>Balls_played</th>\n",
              "      <th>Strike_Rate</th>\n",
              "      <th>cluster</th>\n",
              "    </tr>\n",
              "  </thead>\n",
              "  <tbody>\n",
              "    <tr>\n",
              "      <th>182</th>\n",
              "      <td>182</td>\n",
              "      <td>81.0</td>\n",
              "      <td>71</td>\n",
              "      <td>114.08</td>\n",
              "      <td>0</td>\n",
              "    </tr>\n",
              "    <tr>\n",
              "      <th>231</th>\n",
              "      <td>231</td>\n",
              "      <td>237.0</td>\n",
              "      <td>213</td>\n",
              "      <td>111.27</td>\n",
              "      <td>0</td>\n",
              "    </tr>\n",
              "    <tr>\n",
              "      <th>239</th>\n",
              "      <td>240</td>\n",
              "      <td>10.0</td>\n",
              "      <td>9</td>\n",
              "      <td>111.11</td>\n",
              "      <td>0</td>\n",
              "    </tr>\n",
              "    <tr>\n",
              "      <th>240</th>\n",
              "      <td>241</td>\n",
              "      <td>203.0</td>\n",
              "      <td>159</td>\n",
              "      <td>127.67</td>\n",
              "      <td>0</td>\n",
              "    </tr>\n",
              "    <tr>\n",
              "      <th>243</th>\n",
              "      <td>244</td>\n",
              "      <td>34.0</td>\n",
              "      <td>26</td>\n",
              "      <td>130.77</td>\n",
              "      <td>0</td>\n",
              "    </tr>\n",
              "  </tbody>\n",
              "</table>\n",
              "</div>"
            ],
            "text/plain": [
              "     Player_Id   Runs  Balls_played  Strike_Rate  cluster\n",
              "182        182   81.0            71       114.08        0\n",
              "231        231  237.0           213       111.27        0\n",
              "239        240   10.0             9       111.11        0\n",
              "240        241  203.0           159       127.67        0\n",
              "243        244   34.0            26       130.77        0"
            ]
          },
          "metadata": {
            "tags": []
          },
          "execution_count": 108
        }
      ]
    },
    {
      "cell_type": "code",
      "metadata": {
        "id": "ECtB5wqnLWQr",
        "colab_type": "code",
        "colab": {}
      },
      "source": [
        "Players_batsmen = Players[[\"Player_Id\", \"Player_Name\",\"Batting_Hand\",\"DOB\",\"Country\"]]"
      ],
      "execution_count": 109,
      "outputs": []
    },
    {
      "cell_type": "markdown",
      "metadata": {
        "id": "UKuV3Cs8X4cI",
        "colab_type": "text"
      },
      "source": [
        "Displaying the Batting Hand of Batsmen"
      ]
    },
    {
      "cell_type": "code",
      "metadata": {
        "id": "letjLnJ0BM5f",
        "colab_type": "code",
        "colab": {
          "base_uri": "https://localhost:8080/",
          "height": 419
        },
        "outputId": "00821e12-9925-44d9-cb63-2021de4ff3d3"
      },
      "source": [
        "Batsmen = Batsmen[Batsmen.columns].merge(Players_batsmen, \"left\")\n",
        "Batsmen"
      ],
      "execution_count": 110,
      "outputs": [
        {
          "output_type": "execute_result",
          "data": {
            "text/html": [
              "<div>\n",
              "<style scoped>\n",
              "    .dataframe tbody tr th:only-of-type {\n",
              "        vertical-align: middle;\n",
              "    }\n",
              "\n",
              "    .dataframe tbody tr th {\n",
              "        vertical-align: top;\n",
              "    }\n",
              "\n",
              "    .dataframe thead th {\n",
              "        text-align: right;\n",
              "    }\n",
              "</style>\n",
              "<table border=\"1\" class=\"dataframe\">\n",
              "  <thead>\n",
              "    <tr style=\"text-align: right;\">\n",
              "      <th></th>\n",
              "      <th>Player_Id</th>\n",
              "      <th>Runs</th>\n",
              "      <th>Balls_played</th>\n",
              "      <th>Strike_Rate</th>\n",
              "      <th>cluster</th>\n",
              "      <th>Player_Name</th>\n",
              "      <th>Batting_Hand</th>\n",
              "      <th>DOB</th>\n",
              "      <th>Country</th>\n",
              "    </tr>\n",
              "  </thead>\n",
              "  <tbody>\n",
              "    <tr>\n",
              "      <th>0</th>\n",
              "      <td>182</td>\n",
              "      <td>81.0</td>\n",
              "      <td>71</td>\n",
              "      <td>114.08</td>\n",
              "      <td>0</td>\n",
              "      <td>LA Carseldine</td>\n",
              "      <td>Left_Hand</td>\n",
              "      <td>17-Nov-75</td>\n",
              "      <td>Australia</td>\n",
              "    </tr>\n",
              "    <tr>\n",
              "      <th>1</th>\n",
              "      <td>231</td>\n",
              "      <td>237.0</td>\n",
              "      <td>213</td>\n",
              "      <td>111.27</td>\n",
              "      <td>0</td>\n",
              "      <td>MD Mishra</td>\n",
              "      <td>Right_Hand</td>\n",
              "      <td>9-Feb-84</td>\n",
              "      <td>India</td>\n",
              "    </tr>\n",
              "    <tr>\n",
              "      <th>2</th>\n",
              "      <td>240</td>\n",
              "      <td>10.0</td>\n",
              "      <td>9</td>\n",
              "      <td>111.11</td>\n",
              "      <td>0</td>\n",
              "      <td>KAJ Roach</td>\n",
              "      <td>Right_Hand</td>\n",
              "      <td>30-Jun-88</td>\n",
              "      <td>West Indies</td>\n",
              "    </tr>\n",
              "    <tr>\n",
              "      <th>3</th>\n",
              "      <td>241</td>\n",
              "      <td>203.0</td>\n",
              "      <td>159</td>\n",
              "      <td>127.67</td>\n",
              "      <td>0</td>\n",
              "      <td>PD Collingwood</td>\n",
              "      <td>Right_Hand</td>\n",
              "      <td>26-May-76</td>\n",
              "      <td>England</td>\n",
              "    </tr>\n",
              "    <tr>\n",
              "      <th>4</th>\n",
              "      <td>244</td>\n",
              "      <td>34.0</td>\n",
              "      <td>26</td>\n",
              "      <td>130.77</td>\n",
              "      <td>0</td>\n",
              "      <td>A Mithun</td>\n",
              "      <td>Right_Hand</td>\n",
              "      <td>25-Oct-89</td>\n",
              "      <td>India</td>\n",
              "    </tr>\n",
              "    <tr>\n",
              "      <th>...</th>\n",
              "      <td>...</td>\n",
              "      <td>...</td>\n",
              "      <td>...</td>\n",
              "      <td>...</td>\n",
              "      <td>...</td>\n",
              "      <td>...</td>\n",
              "      <td>...</td>\n",
              "      <td>...</td>\n",
              "      <td>...</td>\n",
              "    </tr>\n",
              "    <tr>\n",
              "      <th>219</th>\n",
              "      <td>280</td>\n",
              "      <td>423.0</td>\n",
              "      <td>325</td>\n",
              "      <td>130.15</td>\n",
              "      <td>4</td>\n",
              "      <td>NLTC Perera</td>\n",
              "      <td>Left_Hand</td>\n",
              "      <td>3-Apr-89</td>\n",
              "      <td>Sri Lanka</td>\n",
              "    </tr>\n",
              "    <tr>\n",
              "      <th>220</th>\n",
              "      <td>74</td>\n",
              "      <td>739.0</td>\n",
              "      <td>690</td>\n",
              "      <td>107.10</td>\n",
              "      <td>4</td>\n",
              "      <td>GC Smith</td>\n",
              "      <td>Left_Hand</td>\n",
              "      <td>1-Feb-81</td>\n",
              "      <td>South Africa</td>\n",
              "    </tr>\n",
              "    <tr>\n",
              "      <th>221</th>\n",
              "      <td>372</td>\n",
              "      <td>379.0</td>\n",
              "      <td>284</td>\n",
              "      <td>133.45</td>\n",
              "      <td>4</td>\n",
              "      <td>CJ Anderson</td>\n",
              "      <td>Left_Hand</td>\n",
              "      <td>13-Dec-90</td>\n",
              "      <td>New Zealand</td>\n",
              "    </tr>\n",
              "    <tr>\n",
              "      <th>222</th>\n",
              "      <td>329</td>\n",
              "      <td>342.0</td>\n",
              "      <td>280</td>\n",
              "      <td>122.14</td>\n",
              "      <td>4</td>\n",
              "      <td>Gurkeerat Singh</td>\n",
              "      <td>Right_Hand</td>\n",
              "      <td>29-Jun-90</td>\n",
              "      <td>India</td>\n",
              "    </tr>\n",
              "    <tr>\n",
              "      <th>223</th>\n",
              "      <td>178</td>\n",
              "      <td>676.0</td>\n",
              "      <td>587</td>\n",
              "      <td>115.16</td>\n",
              "      <td>4</td>\n",
              "      <td>TL Suman</td>\n",
              "      <td>Right_Hand</td>\n",
              "      <td>15-Dec-83</td>\n",
              "      <td>India</td>\n",
              "    </tr>\n",
              "  </tbody>\n",
              "</table>\n",
              "<p>224 rows × 9 columns</p>\n",
              "</div>"
            ],
            "text/plain": [
              "     Player_Id   Runs  Balls_played  ...  Batting_Hand        DOB       Country\n",
              "0          182   81.0            71  ...     Left_Hand  17-Nov-75     Australia\n",
              "1          231  237.0           213  ...    Right_Hand   9-Feb-84         India\n",
              "2          240   10.0             9  ...    Right_Hand  30-Jun-88   West Indies\n",
              "3          241  203.0           159  ...    Right_Hand  26-May-76       England\n",
              "4          244   34.0            26  ...    Right_Hand  25-Oct-89         India\n",
              "..         ...    ...           ...  ...           ...        ...           ...\n",
              "219        280  423.0           325  ...     Left_Hand   3-Apr-89     Sri Lanka\n",
              "220         74  739.0           690  ...     Left_Hand   1-Feb-81  South Africa\n",
              "221        372  379.0           284  ...     Left_Hand  13-Dec-90   New Zealand\n",
              "222        329  342.0           280  ...    Right_Hand  29-Jun-90         India\n",
              "223        178  676.0           587  ...    Right_Hand  15-Dec-83         India\n",
              "\n",
              "[224 rows x 9 columns]"
            ]
          },
          "metadata": {
            "tags": []
          },
          "execution_count": 110
        }
      ]
    },
    {
      "cell_type": "code",
      "metadata": {
        "id": "wM7aUOJC0FD3",
        "colab_type": "code",
        "colab": {}
      },
      "source": [
        "def plot_bar(df, feat_x, feat_y, normalize=True):\n",
        "    \"\"\" Plot with vertical bars of the requested dataframe and features\"\"\"\n",
        "    \n",
        "    ct = pd.crosstab(df[feat_x], df[feat_y])\n",
        "    if normalize == True:\n",
        "        ct = ct.div(ct.sum(axis=1), axis=0)\n",
        "    return ct.plot(kind='bar', stacked=True)"
      ],
      "execution_count": 111,
      "outputs": []
    },
    {
      "cell_type": "markdown",
      "metadata": {
        "id": "R0sIAEk01Cig",
        "colab_type": "text"
      },
      "source": [
        "**Data visualization of Batting Hand and Cluster assigned to player**"
      ]
    },
    {
      "cell_type": "code",
      "metadata": {
        "id": "MaIumUPFyA9W",
        "colab_type": "code",
        "colab": {
          "base_uri": "https://localhost:8080/",
          "height": 328
        },
        "outputId": "dcf34979-e191-4533-9a14-e26b0416cefb"
      },
      "source": [
        "plot_bar(Batsmen, 'Batting_Hand', 'cluster')\n",
        "plt.show()"
      ],
      "execution_count": 112,
      "outputs": [
        {
          "output_type": "display_data",
          "data": {
            "image/png": "[encoded data removed]",
            "text/plain": [
              "<Figure size 432x288 with 1 Axes>"
            ]
          },
          "metadata": {
            "tags": []
          }
        }
      ]
    },
    {
      "cell_type": "markdown",
      "metadata": {
        "id": "GjcWdRupX_8u",
        "colab_type": "text"
      },
      "source": [
        "Saving the batsmen data along with the batting hand and cluster id in a csv file "
      ]
    },
    {
      "cell_type": "code",
      "metadata": {
        "id": "RISPy2fXBcdf",
        "colab_type": "code",
        "colab": {}
      },
      "source": [
        "Batsmen.to_csv('Batsmen.csv') "
      ],
      "execution_count": 113,
      "outputs": []
    },
    {
      "cell_type": "markdown",
      "metadata": {
        "id": "mTHvdWef2sKp",
        "colab_type": "text"
      },
      "source": [
        "# D. Creating a dataframe for Bowler data"
      ]
    },
    {
      "cell_type": "markdown",
      "metadata": {
        "id": "mOK8X1FBYSUP",
        "colab_type": "text"
      },
      "source": [
        "####Economy rate of a bowler can be calculated with the help of the number of runs conceded by him and the number of balls he bowled.\n",
        "\n",
        "####economy rate = total runs conceded/number of overs bowled"
      ]
    },
    {
      "cell_type": "code",
      "metadata": {
        "id": "urGjrOOz2sKq",
        "colab_type": "code",
        "colab": {
          "base_uri": "https://localhost:8080/",
          "height": 204
        },
        "outputId": "4e604384-4daa-42de-ea80-da539f4ef3c5"
      },
      "source": [
        "C = []\n",
        "E = []\n",
        "\n",
        "for j in runs[\"Bowler_Id\"].unique():\n",
        "    c = runs[\"Batsman_Scored\"][runs[\"Bowler_Id\"] == j].sum() + runs[\"Extra_Runs\"][runs[\"Bowler_Id\"] == j].sum()\n",
        "    \n",
        "    e = runs[\"Over_Id\"][runs[\"Bowler_Id\"] == j].count()/6\n",
        "    \n",
        "    C.append(c)\n",
        "    E.append(e)\n",
        "    \n",
        "Bowlers = pd.DataFrame({\"Bowler_names\": runs[\"Bowler_Id\"].unique()})\n",
        "\n",
        "Bowlers[\"Runs\"] = C\n",
        "Bowlers[\"Over_count\"] = E\n",
        "\n",
        "# Calculating economy rate using the formula (total runs conceded/number of overs bowled)\n",
        "\n",
        "Bowlers[\"Econ_Rate\"] = (Bowlers[\"Runs\"] / Bowlers[\"Over_count\"]).round(2)\n",
        "\n",
        "Bowlers.head()"
      ],
      "execution_count": 114,
      "outputs": [
        {
          "output_type": "execute_result",
          "data": {
            "text/html": [
              "<div>\n",
              "<style scoped>\n",
              "    .dataframe tbody tr th:only-of-type {\n",
              "        vertical-align: middle;\n",
              "    }\n",
              "\n",
              "    .dataframe tbody tr th {\n",
              "        vertical-align: top;\n",
              "    }\n",
              "\n",
              "    .dataframe thead th {\n",
              "        text-align: right;\n",
              "    }\n",
              "</style>\n",
              "<table border=\"1\" class=\"dataframe\">\n",
              "  <thead>\n",
              "    <tr style=\"text-align: right;\">\n",
              "      <th></th>\n",
              "      <th>Bowler_names</th>\n",
              "      <th>Runs</th>\n",
              "      <th>Over_count</th>\n",
              "      <th>Econ_Rate</th>\n",
              "    </tr>\n",
              "  </thead>\n",
              "  <tbody>\n",
              "    <tr>\n",
              "      <th>0</th>\n",
              "      <td>14</td>\n",
              "      <td>3135.0</td>\n",
              "      <td>421.500000</td>\n",
              "      <td>7.44</td>\n",
              "    </tr>\n",
              "    <tr>\n",
              "      <th>1</th>\n",
              "      <td>15</td>\n",
              "      <td>2511.0</td>\n",
              "      <td>338.333333</td>\n",
              "      <td>7.42</td>\n",
              "    </tr>\n",
              "    <tr>\n",
              "      <th>2</th>\n",
              "      <td>13</td>\n",
              "      <td>41.0</td>\n",
              "      <td>4.166667</td>\n",
              "      <td>9.84</td>\n",
              "    </tr>\n",
              "    <tr>\n",
              "      <th>3</th>\n",
              "      <td>9</td>\n",
              "      <td>2316.0</td>\n",
              "      <td>299.833333</td>\n",
              "      <td>7.72</td>\n",
              "    </tr>\n",
              "    <tr>\n",
              "      <th>4</th>\n",
              "      <td>16</td>\n",
              "      <td>82.0</td>\n",
              "      <td>9.166667</td>\n",
              "      <td>8.95</td>\n",
              "    </tr>\n",
              "  </tbody>\n",
              "</table>\n",
              "</div>"
            ],
            "text/plain": [
              "   Bowler_names    Runs  Over_count  Econ_Rate\n",
              "0            14  3135.0  421.500000       7.44\n",
              "1            15  2511.0  338.333333       7.42\n",
              "2            13    41.0    4.166667       9.84\n",
              "3             9  2316.0  299.833333       7.72\n",
              "4            16    82.0    9.166667       8.95"
            ]
          },
          "metadata": {
            "tags": []
          },
          "execution_count": 114
        }
      ]
    },
    {
      "cell_type": "code",
      "metadata": {
        "id": "Hphc8wb42sKu",
        "colab_type": "code",
        "colab": {
          "base_uri": "https://localhost:8080/",
          "height": 282
        },
        "outputId": "0534c0d1-1594-4435-b82a-b2350ffed46e"
      },
      "source": [
        "# Checking the distribution of batsmen \n",
        "\n",
        "Bowlers[\"Econ_Rate\"].hist(color=\"pink\")"
      ],
      "execution_count": 115,
      "outputs": [
        {
          "output_type": "execute_result",
          "data": {
            "text/plain": [
              "<matplotlib.axes._subplots.AxesSubplot at 0x7fcf14bc5f28>"
            ]
          },
          "metadata": {
            "tags": []
          },
          "execution_count": 115
        },
        {
          "output_type": "display_data",
          "data": {
            "image/png": "[encoded data removed]",
            "text/plain": [
              "<Figure size 432x288 with 1 Axes>"
            ]
          },
          "metadata": {
            "tags": []
          }
        }
      ]
    },
    {
      "cell_type": "markdown",
      "metadata": {
        "id": "aldHnn9rZ8eq",
        "colab_type": "text"
      },
      "source": [
        "**Filter 1**\n",
        "*Since we have to assess bowlers, the players with economy rates above 10.5 are not likely to be good candidates for bowling as they are most likely batsmen.*"
      ]
    },
    {
      "cell_type": "code",
      "metadata": {
        "id": "MoM9Fhrh2sKx",
        "colab_type": "code",
        "colab": {
          "base_uri": "https://localhost:8080/",
          "height": 282
        },
        "outputId": "b3bddf09-2c65-4528-e415-00576f7c75f3"
      },
      "source": [
        "Bowlers = Bowlers[(Bowlers[\"Econ_Rate\"] > 4) & (Bowlers[\"Econ_Rate\"] < 10.5)]\n",
        "Bowlers[\"Econ_Rate\"].hist(color=\"pink\")"
      ],
      "execution_count": 116,
      "outputs": [
        {
          "output_type": "execute_result",
          "data": {
            "text/plain": [
              "<matplotlib.axes._subplots.AxesSubplot at 0x7fcf14b180f0>"
            ]
          },
          "metadata": {
            "tags": []
          },
          "execution_count": 116
        },
        {
          "output_type": "display_data",
          "data": {
            "image/png": "[encoded data removed]",
            "text/plain": [
              "<Figure size 432x288 with 1 Axes>"
            ]
          },
          "metadata": {
            "tags": []
          }
        }
      ]
    },
    {
      "cell_type": "markdown",
      "metadata": {
        "id": "FjWlN-gN2sK0",
        "colab_type": "text"
      },
      "source": [
        "# E. Applying K Means Clustering on Bowlers Data"
      ]
    },
    {
      "cell_type": "code",
      "metadata": {
        "id": "kxoyv_Sk2sK0",
        "colab_type": "code",
        "colab": {
          "base_uri": "https://localhost:8080/",
          "height": 410
        },
        "outputId": "3afd4297-aa99-457a-d26a-f09bc040c004"
      },
      "source": [
        "sns.set_style(\"whitegrid\")\n",
        "\n",
        "fig = plt.figure(figsize=(12,6))\n",
        "plt.scatter(Bowlers[\"Econ_Rate\"], Bowlers[\"Runs\"], color=\"teal\")\n",
        "plt.xlabel(\"Economy Rate of the Bowler\", fontsize=14)\n",
        "plt.ylabel(\"Number of Overs bowled by the Bowler\", fontsize=14)\n",
        "plt.title(\"IPL Bowlers\", fontsize=16)\n",
        "plt.show()"
      ],
      "execution_count": 117,
      "outputs": [
        {
          "output_type": "display_data",
          "data": {
            "image/png": "[encoded data removed]",
            "text/plain": [
              "<Figure size 864x432 with 1 Axes>"
            ]
          },
          "metadata": {
            "tags": []
          }
        }
      ]
    },
    {
      "cell_type": "markdown",
      "metadata": {
        "id": "s92FVi3-2sK3",
        "colab_type": "text"
      },
      "source": [
        "#### The distribution appears to be in largely 5 clusters:\n",
        "**under 500 runs - highest density of dots**\n",
        "\n",
        "*500 - 1000 runs*\n",
        "\n",
        "*1000 - 1500 runs*\n",
        "\n",
        "*1500 - 2000 runs*\n",
        "\n",
        "*above 2000 runs*"
      ]
    },
    {
      "cell_type": "markdown",
      "metadata": {
        "id": "H0A4ZWat2sK3",
        "colab_type": "text"
      },
      "source": [
        "### Applying the clustering algorithm"
      ]
    },
    {
      "cell_type": "code",
      "metadata": {
        "id": "huPmUWDo2sK4",
        "colab_type": "code",
        "colab": {
          "base_uri": "https://localhost:8080/",
          "height": 410
        },
        "outputId": "0e9b932e-f90a-4f59-d3f9-8a480c782376"
      },
      "source": [
        "from sklearn.cluster import KMeans\n",
        "\n",
        "kmeans = KMeans(n_clusters=5)\n",
        "kmeans.fit(Bowlers[[\"Econ_Rate\", \"Over_count\"]])\n",
        "Bowlers[\"cluster\"] = kmeans.labels_\n",
        "\n",
        "fig = plt.figure(figsize=(12,6))\n",
        "\n",
        "colors = [\"blue\", \"lightgreen\", \"black\", \"red\"]\n",
        "\n",
        "for r in range(1,5):\n",
        "    clustered_Bowlers = Bowlers[Bowlers[\"cluster\"] == r]\n",
        "    plt.scatter(clustered_Bowlers[\"Econ_Rate\"], clustered_Bowlers[\"Over_count\"], color=colors[r-1])\n",
        "    \n",
        "plt.title(\"IPL Bowlers\", fontsize=16)\n",
        "plt.xlabel(\"Economy Rate of the Bowler\", fontsize=14)\n",
        "plt.ylabel(\"Number of Overs bowled by the Bowler\", fontsize=14)\n",
        "    \n",
        "plt.show()"
      ],
      "execution_count": 118,
      "outputs": [
        {
          "output_type": "display_data",
          "data": {
            "image/png": "[encoded data removed]",
            "text/plain": [
              "<Figure size 864x432 with 1 Axes>"
            ]
          },
          "metadata": {
            "tags": []
          }
        }
      ]
    },
    {
      "cell_type": "markdown",
      "metadata": {
        "id": "isaOn05O2sK7",
        "colab_type": "text"
      },
      "source": [
        "### Merging the Player dataframe and Bowlers dataframe to show player names and cluster ids."
      ]
    },
    {
      "cell_type": "code",
      "metadata": {
        "id": "nIVGJSai2sK7",
        "colab_type": "code",
        "colab": {
          "base_uri": "https://localhost:8080/",
          "height": 204
        },
        "outputId": "5cf3a8e7-1199-4aed-c357-ff4875e9c790"
      },
      "source": [
        "Bowlers = Bowlers.rename(columns={\"Bowler_names\": \"Player_Id\"})\n",
        "Bowlers = Bowlers.sort_values(by ='cluster' )\n",
        "Bowlers.head()"
      ],
      "execution_count": 119,
      "outputs": [
        {
          "output_type": "execute_result",
          "data": {
            "text/html": [
              "<div>\n",
              "<style scoped>\n",
              "    .dataframe tbody tr th:only-of-type {\n",
              "        vertical-align: middle;\n",
              "    }\n",
              "\n",
              "    .dataframe tbody tr th {\n",
              "        vertical-align: top;\n",
              "    }\n",
              "\n",
              "    .dataframe thead th {\n",
              "        text-align: right;\n",
              "    }\n",
              "</style>\n",
              "<table border=\"1\" class=\"dataframe\">\n",
              "  <thead>\n",
              "    <tr style=\"text-align: right;\">\n",
              "      <th></th>\n",
              "      <th>Player_Id</th>\n",
              "      <th>Runs</th>\n",
              "      <th>Over_count</th>\n",
              "      <th>Econ_Rate</th>\n",
              "      <th>cluster</th>\n",
              "    </tr>\n",
              "  </thead>\n",
              "  <tbody>\n",
              "    <tr>\n",
              "      <th>330</th>\n",
              "      <td>396</td>\n",
              "      <td>7.0</td>\n",
              "      <td>1.000000</td>\n",
              "      <td>7.00</td>\n",
              "      <td>0</td>\n",
              "    </tr>\n",
              "    <tr>\n",
              "      <th>150</th>\n",
              "      <td>211</td>\n",
              "      <td>129.0</td>\n",
              "      <td>14.666667</td>\n",
              "      <td>8.80</td>\n",
              "      <td>0</td>\n",
              "    </tr>\n",
              "    <tr>\n",
              "      <th>153</th>\n",
              "      <td>209</td>\n",
              "      <td>232.0</td>\n",
              "      <td>24.000000</td>\n",
              "      <td>9.67</td>\n",
              "      <td>0</td>\n",
              "    </tr>\n",
              "    <tr>\n",
              "      <th>154</th>\n",
              "      <td>219</td>\n",
              "      <td>8.0</td>\n",
              "      <td>1.000000</td>\n",
              "      <td>8.00</td>\n",
              "      <td>0</td>\n",
              "    </tr>\n",
              "    <tr>\n",
              "      <th>155</th>\n",
              "      <td>217</td>\n",
              "      <td>58.0</td>\n",
              "      <td>7.833333</td>\n",
              "      <td>7.40</td>\n",
              "      <td>0</td>\n",
              "    </tr>\n",
              "  </tbody>\n",
              "</table>\n",
              "</div>"
            ],
            "text/plain": [
              "     Player_Id   Runs  Over_count  Econ_Rate  cluster\n",
              "330        396    7.0    1.000000       7.00        0\n",
              "150        211  129.0   14.666667       8.80        0\n",
              "153        209  232.0   24.000000       9.67        0\n",
              "154        219    8.0    1.000000       8.00        0\n",
              "155        217   58.0    7.833333       7.40        0"
            ]
          },
          "metadata": {
            "tags": []
          },
          "execution_count": 119
        }
      ]
    },
    {
      "cell_type": "code",
      "metadata": {
        "colab_type": "code",
        "id": "hynpWG-WMEn_",
        "colab": {}
      },
      "source": [
        "Players_bowlers = Players[[\"Player_Id\", \"Player_Name\",\"Bowling_Skill\",\"DOB\",\"Country\"]]"
      ],
      "execution_count": 120,
      "outputs": []
    },
    {
      "cell_type": "markdown",
      "metadata": {
        "id": "TbTpmPy3cT1u",
        "colab_type": "text"
      },
      "source": [
        "Displaying the Bowling Skill of Batsmen"
      ]
    },
    {
      "cell_type": "code",
      "metadata": {
        "id": "_tPzb1gN2sK-",
        "colab_type": "code",
        "colab": {
          "base_uri": "https://localhost:8080/",
          "height": 419
        },
        "outputId": "2c064edc-5b22-4f57-8fde-1c9fe35698eb"
      },
      "source": [
        "Bowlers = Bowlers[Bowlers.columns].merge(Players_bowlers, \"left\")\n",
        "Bowlers"
      ],
      "execution_count": 121,
      "outputs": [
        {
          "output_type": "execute_result",
          "data": {
            "text/html": [
              "<div>\n",
              "<style scoped>\n",
              "    .dataframe tbody tr th:only-of-type {\n",
              "        vertical-align: middle;\n",
              "    }\n",
              "\n",
              "    .dataframe tbody tr th {\n",
              "        vertical-align: top;\n",
              "    }\n",
              "\n",
              "    .dataframe thead th {\n",
              "        text-align: right;\n",
              "    }\n",
              "</style>\n",
              "<table border=\"1\" class=\"dataframe\">\n",
              "  <thead>\n",
              "    <tr style=\"text-align: right;\">\n",
              "      <th></th>\n",
              "      <th>Player_Id</th>\n",
              "      <th>Runs</th>\n",
              "      <th>Over_count</th>\n",
              "      <th>Econ_Rate</th>\n",
              "      <th>cluster</th>\n",
              "      <th>Player_Name</th>\n",
              "      <th>Bowling_Skill</th>\n",
              "      <th>DOB</th>\n",
              "      <th>Country</th>\n",
              "    </tr>\n",
              "  </thead>\n",
              "  <tbody>\n",
              "    <tr>\n",
              "      <th>0</th>\n",
              "      <td>396</td>\n",
              "      <td>7.0</td>\n",
              "      <td>1.000000</td>\n",
              "      <td>7.00</td>\n",
              "      <td>0</td>\n",
              "      <td>KS Williamson</td>\n",
              "      <td>Right-arm offbreak</td>\n",
              "      <td>8-Aug-90</td>\n",
              "      <td>New Zealand</td>\n",
              "    </tr>\n",
              "    <tr>\n",
              "      <th>1</th>\n",
              "      <td>211</td>\n",
              "      <td>129.0</td>\n",
              "      <td>14.666667</td>\n",
              "      <td>8.80</td>\n",
              "      <td>0</td>\n",
              "      <td>AA Jhunjhunwala</td>\n",
              "      <td>Right-arm offbreak</td>\n",
              "      <td>1-Dec-82</td>\n",
              "      <td>India</td>\n",
              "    </tr>\n",
              "    <tr>\n",
              "      <th>2</th>\n",
              "      <td>209</td>\n",
              "      <td>232.0</td>\n",
              "      <td>24.000000</td>\n",
              "      <td>9.67</td>\n",
              "      <td>0</td>\n",
              "      <td>R Sathish</td>\n",
              "      <td>Right-arm medium</td>\n",
              "      <td>14-Jan-81</td>\n",
              "      <td>India</td>\n",
              "    </tr>\n",
              "    <tr>\n",
              "      <th>3</th>\n",
              "      <td>219</td>\n",
              "      <td>8.0</td>\n",
              "      <td>1.000000</td>\n",
              "      <td>8.00</td>\n",
              "      <td>0</td>\n",
              "      <td>RS Gavaskar</td>\n",
              "      <td>Slow left-arm orthodox</td>\n",
              "      <td>20-Feb-76</td>\n",
              "      <td>India</td>\n",
              "    </tr>\n",
              "    <tr>\n",
              "      <th>4</th>\n",
              "      <td>217</td>\n",
              "      <td>58.0</td>\n",
              "      <td>7.833333</td>\n",
              "      <td>7.40</td>\n",
              "      <td>0</td>\n",
              "      <td>JM Kemp</td>\n",
              "      <td>Right-arm fast-medium</td>\n",
              "      <td>2-Oct-77</td>\n",
              "      <td>South Africa</td>\n",
              "    </tr>\n",
              "    <tr>\n",
              "      <th>...</th>\n",
              "      <td>...</td>\n",
              "      <td>...</td>\n",
              "      <td>...</td>\n",
              "      <td>...</td>\n",
              "      <td>...</td>\n",
              "      <td>...</td>\n",
              "      <td>...</td>\n",
              "      <td>...</td>\n",
              "      <td>...</td>\n",
              "    </tr>\n",
              "    <tr>\n",
              "      <th>287</th>\n",
              "      <td>188</td>\n",
              "      <td>1074.0</td>\n",
              "      <td>144.166667</td>\n",
              "      <td>7.45</td>\n",
              "      <td>4</td>\n",
              "      <td>RJ Harris</td>\n",
              "      <td>Right-arm fast</td>\n",
              "      <td>11-Oct-79</td>\n",
              "      <td>Australia</td>\n",
              "    </tr>\n",
              "    <tr>\n",
              "      <th>288</th>\n",
              "      <td>186</td>\n",
              "      <td>1415.0</td>\n",
              "      <td>178.166667</td>\n",
              "      <td>7.94</td>\n",
              "      <td>4</td>\n",
              "      <td>SB Jakati</td>\n",
              "      <td>Slow left-arm orthodox</td>\n",
              "      <td>27-Nov-80</td>\n",
              "      <td>India</td>\n",
              "    </tr>\n",
              "    <tr>\n",
              "      <th>289</th>\n",
              "      <td>154</td>\n",
              "      <td>805.0</td>\n",
              "      <td>113.833333</td>\n",
              "      <td>7.07</td>\n",
              "      <td>4</td>\n",
              "      <td>JP Duminy</td>\n",
              "      <td>Right-arm offbreak</td>\n",
              "      <td>14-Apr-84</td>\n",
              "      <td>South Africa</td>\n",
              "    </tr>\n",
              "    <tr>\n",
              "      <th>290</th>\n",
              "      <td>382</td>\n",
              "      <td>1249.0</td>\n",
              "      <td>158.000000</td>\n",
              "      <td>7.91</td>\n",
              "      <td>4</td>\n",
              "      <td>YS Chahal</td>\n",
              "      <td>Legbreak googly</td>\n",
              "      <td>23-Jul-90</td>\n",
              "      <td>India</td>\n",
              "    </tr>\n",
              "    <tr>\n",
              "      <th>291</th>\n",
              "      <td>221</td>\n",
              "      <td>1724.0</td>\n",
              "      <td>210.666667</td>\n",
              "      <td>8.18</td>\n",
              "      <td>4</td>\n",
              "      <td>KA Pollard</td>\n",
              "      <td>Right-arm medium-fast</td>\n",
              "      <td>12-May-87</td>\n",
              "      <td>West Indies</td>\n",
              "    </tr>\n",
              "  </tbody>\n",
              "</table>\n",
              "<p>292 rows × 9 columns</p>\n",
              "</div>"
            ],
            "text/plain": [
              "     Player_Id    Runs  ...        DOB       Country\n",
              "0          396     7.0  ...   8-Aug-90   New Zealand\n",
              "1          211   129.0  ...   1-Dec-82         India\n",
              "2          209   232.0  ...  14-Jan-81         India\n",
              "3          219     8.0  ...  20-Feb-76         India\n",
              "4          217    58.0  ...   2-Oct-77  South Africa\n",
              "..         ...     ...  ...        ...           ...\n",
              "287        188  1074.0  ...  11-Oct-79     Australia\n",
              "288        186  1415.0  ...  27-Nov-80         India\n",
              "289        154   805.0  ...  14-Apr-84  South Africa\n",
              "290        382  1249.0  ...  23-Jul-90         India\n",
              "291        221  1724.0  ...  12-May-87   West Indies\n",
              "\n",
              "[292 rows x 9 columns]"
            ]
          },
          "metadata": {
            "tags": []
          },
          "execution_count": 121
        }
      ]
    },
    {
      "cell_type": "markdown",
      "metadata": {
        "id": "JJ3JqLw50xwv",
        "colab_type": "text"
      },
      "source": [
        "**Data visualization of Bowling Skill and Cluster assigned to player**"
      ]
    },
    {
      "cell_type": "code",
      "metadata": {
        "id": "be6HSFuz0OzG",
        "colab_type": "code",
        "colab": {
          "base_uri": "https://localhost:8080/",
          "height": 389
        },
        "outputId": "9bb779ba-439a-4595-b923-3db0cf3b9d95"
      },
      "source": [
        "plot_bar(Bowlers, 'Bowling_Skill', 'cluster')\n",
        "plt.show()"
      ],
      "execution_count": 122,
      "outputs": [
        {
          "output_type": "display_data",
          "data": {
            "image/png": "[encoded data removed]",
            "text/plain": [
              "<Figure size 432x288 with 1 Axes>"
            ]
          },
          "metadata": {
            "tags": []
          }
        }
      ]
    },
    {
      "cell_type": "markdown",
      "metadata": {
        "id": "tdSB3rmScbJM",
        "colab_type": "text"
      },
      "source": [
        "Saving the bowlers data along with the bowling skill and cluster id in a csv file"
      ]
    },
    {
      "cell_type": "code",
      "metadata": {
        "id": "M-AXqJ_YBpGc",
        "colab_type": "code",
        "colab": {}
      },
      "source": [
        "Bowlers.to_csv('Bowlers.csv') "
      ],
      "execution_count": 123,
      "outputs": []
    },
    {
      "cell_type": "code",
      "metadata": {
        "id": "QY404jyGc7kv",
        "colab_type": "code",
        "colab": {
          "base_uri": "https://localhost:8080/",
          "height": 419
        },
        "outputId": "4567d330-13ab-46f2-d82a-ff55f69da703"
      },
      "source": [
        "final=pd.concat([Batsmen,Bowlers],sort=\"True\").reset_index(drop=True)\n",
        "final"
      ],
      "execution_count": 124,
      "outputs": [
        {
          "output_type": "execute_result",
          "data": {
            "text/html": [
              "<div>\n",
              "<style scoped>\n",
              "    .dataframe tbody tr th:only-of-type {\n",
              "        vertical-align: middle;\n",
              "    }\n",
              "\n",
              "    .dataframe tbody tr th {\n",
              "        vertical-align: top;\n",
              "    }\n",
              "\n",
              "    .dataframe thead th {\n",
              "        text-align: right;\n",
              "    }\n",
              "</style>\n",
              "<table border=\"1\" class=\"dataframe\">\n",
              "  <thead>\n",
              "    <tr style=\"text-align: right;\">\n",
              "      <th></th>\n",
              "      <th>Balls_played</th>\n",
              "      <th>Batting_Hand</th>\n",
              "      <th>Bowling_Skill</th>\n",
              "      <th>Country</th>\n",
              "      <th>DOB</th>\n",
              "      <th>Econ_Rate</th>\n",
              "      <th>Over_count</th>\n",
              "      <th>Player_Id</th>\n",
              "      <th>Player_Name</th>\n",
              "      <th>Runs</th>\n",
              "      <th>Strike_Rate</th>\n",
              "      <th>cluster</th>\n",
              "    </tr>\n",
              "  </thead>\n",
              "  <tbody>\n",
              "    <tr>\n",
              "      <th>0</th>\n",
              "      <td>71.0</td>\n",
              "      <td>Left_Hand</td>\n",
              "      <td>NaN</td>\n",
              "      <td>Australia</td>\n",
              "      <td>17-Nov-75</td>\n",
              "      <td>NaN</td>\n",
              "      <td>NaN</td>\n",
              "      <td>182</td>\n",
              "      <td>LA Carseldine</td>\n",
              "      <td>81.0</td>\n",
              "      <td>114.08</td>\n",
              "      <td>0</td>\n",
              "    </tr>\n",
              "    <tr>\n",
              "      <th>1</th>\n",
              "      <td>213.0</td>\n",
              "      <td>Right_Hand</td>\n",
              "      <td>NaN</td>\n",
              "      <td>India</td>\n",
              "      <td>9-Feb-84</td>\n",
              "      <td>NaN</td>\n",
              "      <td>NaN</td>\n",
              "      <td>231</td>\n",
              "      <td>MD Mishra</td>\n",
              "      <td>237.0</td>\n",
              "      <td>111.27</td>\n",
              "      <td>0</td>\n",
              "    </tr>\n",
              "    <tr>\n",
              "      <th>2</th>\n",
              "      <td>9.0</td>\n",
              "      <td>Right_Hand</td>\n",
              "      <td>NaN</td>\n",
              "      <td>West Indies</td>\n",
              "      <td>30-Jun-88</td>\n",
              "      <td>NaN</td>\n",
              "      <td>NaN</td>\n",
              "      <td>240</td>\n",
              "      <td>KAJ Roach</td>\n",
              "      <td>10.0</td>\n",
              "      <td>111.11</td>\n",
              "      <td>0</td>\n",
              "    </tr>\n",
              "    <tr>\n",
              "      <th>3</th>\n",
              "      <td>159.0</td>\n",
              "      <td>Right_Hand</td>\n",
              "      <td>NaN</td>\n",
              "      <td>England</td>\n",
              "      <td>26-May-76</td>\n",
              "      <td>NaN</td>\n",
              "      <td>NaN</td>\n",
              "      <td>241</td>\n",
              "      <td>PD Collingwood</td>\n",
              "      <td>203.0</td>\n",
              "      <td>127.67</td>\n",
              "      <td>0</td>\n",
              "    </tr>\n",
              "    <tr>\n",
              "      <th>4</th>\n",
              "      <td>26.0</td>\n",
              "      <td>Right_Hand</td>\n",
              "      <td>NaN</td>\n",
              "      <td>India</td>\n",
              "      <td>25-Oct-89</td>\n",
              "      <td>NaN</td>\n",
              "      <td>NaN</td>\n",
              "      <td>244</td>\n",
              "      <td>A Mithun</td>\n",
              "      <td>34.0</td>\n",
              "      <td>130.77</td>\n",
              "      <td>0</td>\n",
              "    </tr>\n",
              "    <tr>\n",
              "      <th>...</th>\n",
              "      <td>...</td>\n",
              "      <td>...</td>\n",
              "      <td>...</td>\n",
              "      <td>...</td>\n",
              "      <td>...</td>\n",
              "      <td>...</td>\n",
              "      <td>...</td>\n",
              "      <td>...</td>\n",
              "      <td>...</td>\n",
              "      <td>...</td>\n",
              "      <td>...</td>\n",
              "      <td>...</td>\n",
              "    </tr>\n",
              "    <tr>\n",
              "      <th>511</th>\n",
              "      <td>NaN</td>\n",
              "      <td>NaN</td>\n",
              "      <td>Right-arm fast</td>\n",
              "      <td>Australia</td>\n",
              "      <td>11-Oct-79</td>\n",
              "      <td>7.45</td>\n",
              "      <td>144.166667</td>\n",
              "      <td>188</td>\n",
              "      <td>RJ Harris</td>\n",
              "      <td>1074.0</td>\n",
              "      <td>NaN</td>\n",
              "      <td>4</td>\n",
              "    </tr>\n",
              "    <tr>\n",
              "      <th>512</th>\n",
              "      <td>NaN</td>\n",
              "      <td>NaN</td>\n",
              "      <td>Slow left-arm orthodox</td>\n",
              "      <td>India</td>\n",
              "      <td>27-Nov-80</td>\n",
              "      <td>7.94</td>\n",
              "      <td>178.166667</td>\n",
              "      <td>186</td>\n",
              "      <td>SB Jakati</td>\n",
              "      <td>1415.0</td>\n",
              "      <td>NaN</td>\n",
              "      <td>4</td>\n",
              "    </tr>\n",
              "    <tr>\n",
              "      <th>513</th>\n",
              "      <td>NaN</td>\n",
              "      <td>NaN</td>\n",
              "      <td>Right-arm offbreak</td>\n",
              "      <td>South Africa</td>\n",
              "      <td>14-Apr-84</td>\n",
              "      <td>7.07</td>\n",
              "      <td>113.833333</td>\n",
              "      <td>154</td>\n",
              "      <td>JP Duminy</td>\n",
              "      <td>805.0</td>\n",
              "      <td>NaN</td>\n",
              "      <td>4</td>\n",
              "    </tr>\n",
              "    <tr>\n",
              "      <th>514</th>\n",
              "      <td>NaN</td>\n",
              "      <td>NaN</td>\n",
              "      <td>Legbreak googly</td>\n",
              "      <td>India</td>\n",
              "      <td>23-Jul-90</td>\n",
              "      <td>7.91</td>\n",
              "      <td>158.000000</td>\n",
              "      <td>382</td>\n",
              "      <td>YS Chahal</td>\n",
              "      <td>1249.0</td>\n",
              "      <td>NaN</td>\n",
              "      <td>4</td>\n",
              "    </tr>\n",
              "    <tr>\n",
              "      <th>515</th>\n",
              "      <td>NaN</td>\n",
              "      <td>NaN</td>\n",
              "      <td>Right-arm medium-fast</td>\n",
              "      <td>West Indies</td>\n",
              "      <td>12-May-87</td>\n",
              "      <td>8.18</td>\n",
              "      <td>210.666667</td>\n",
              "      <td>221</td>\n",
              "      <td>KA Pollard</td>\n",
              "      <td>1724.0</td>\n",
              "      <td>NaN</td>\n",
              "      <td>4</td>\n",
              "    </tr>\n",
              "  </tbody>\n",
              "</table>\n",
              "<p>516 rows × 12 columns</p>\n",
              "</div>"
            ],
            "text/plain": [
              "     Balls_played Batting_Hand  ... Strike_Rate cluster\n",
              "0            71.0    Left_Hand  ...      114.08       0\n",
              "1           213.0   Right_Hand  ...      111.27       0\n",
              "2             9.0   Right_Hand  ...      111.11       0\n",
              "3           159.0   Right_Hand  ...      127.67       0\n",
              "4            26.0   Right_Hand  ...      130.77       0\n",
              "..            ...          ...  ...         ...     ...\n",
              "511           NaN          NaN  ...         NaN       4\n",
              "512           NaN          NaN  ...         NaN       4\n",
              "513           NaN          NaN  ...         NaN       4\n",
              "514           NaN          NaN  ...         NaN       4\n",
              "515           NaN          NaN  ...         NaN       4\n",
              "\n",
              "[516 rows x 12 columns]"
            ]
          },
          "metadata": {
            "tags": []
          },
          "execution_count": 124
        }
      ]
    },
    {
      "cell_type": "markdown",
      "metadata": {
        "id": "-2HvSJtMcntb",
        "colab_type": "text"
      },
      "source": [
        "Saving the batsmen and bowlers data along with the batting hand, bowling skill and cluster id in a csv file"
      ]
    },
    {
      "cell_type": "code",
      "metadata": {
        "id": "YMMw19oLB4S1",
        "colab_type": "code",
        "colab": {}
      },
      "source": [
        "final.to_csv('final.csv')"
      ],
      "execution_count": 125,
      "outputs": []
    },
    {
      "cell_type": "markdown",
      "metadata": {
        "id": "5guG_MpLeJV1",
        "colab_type": "text"
      },
      "source": [
        "#F. Example of a well-rounded Team"
      ]
    },
    {
      "cell_type": "markdown",
      "metadata": {
        "id": "S5SMv_fEeaZi",
        "colab_type": "text"
      },
      "source": [
        "####Selecting top 5 batsmen"
      ]
    },
    {
      "cell_type": "code",
      "metadata": {
        "id": "TjodyxR1FZEf",
        "colab_type": "code",
        "colab": {
          "base_uri": "https://localhost:8080/",
          "height": 204
        },
        "outputId": "42ff044f-971d-42b3-a712-b91debfb744b"
      },
      "source": [
        "# batsmen_team = pd.read_csv(\"Batsmen.csv\",nrows=5)\n",
        "batsmen_team=Batsmen[['Player_Name','Strike_Rate','DOB','Country']]\n",
        "batsmen_team=batsmen_team.head(5)\n",
        "batsmen_team"
      ],
      "execution_count": 126,
      "outputs": [
        {
          "output_type": "execute_result",
          "data": {
            "text/html": [
              "<div>\n",
              "<style scoped>\n",
              "    .dataframe tbody tr th:only-of-type {\n",
              "        vertical-align: middle;\n",
              "    }\n",
              "\n",
              "    .dataframe tbody tr th {\n",
              "        vertical-align: top;\n",
              "    }\n",
              "\n",
              "    .dataframe thead th {\n",
              "        text-align: right;\n",
              "    }\n",
              "</style>\n",
              "<table border=\"1\" class=\"dataframe\">\n",
              "  <thead>\n",
              "    <tr style=\"text-align: right;\">\n",
              "      <th></th>\n",
              "      <th>Player_Name</th>\n",
              "      <th>Strike_Rate</th>\n",
              "      <th>DOB</th>\n",
              "      <th>Country</th>\n",
              "    </tr>\n",
              "  </thead>\n",
              "  <tbody>\n",
              "    <tr>\n",
              "      <th>0</th>\n",
              "      <td>LA Carseldine</td>\n",
              "      <td>114.08</td>\n",
              "      <td>17-Nov-75</td>\n",
              "      <td>Australia</td>\n",
              "    </tr>\n",
              "    <tr>\n",
              "      <th>1</th>\n",
              "      <td>MD Mishra</td>\n",
              "      <td>111.27</td>\n",
              "      <td>9-Feb-84</td>\n",
              "      <td>India</td>\n",
              "    </tr>\n",
              "    <tr>\n",
              "      <th>2</th>\n",
              "      <td>KAJ Roach</td>\n",
              "      <td>111.11</td>\n",
              "      <td>30-Jun-88</td>\n",
              "      <td>West Indies</td>\n",
              "    </tr>\n",
              "    <tr>\n",
              "      <th>3</th>\n",
              "      <td>PD Collingwood</td>\n",
              "      <td>127.67</td>\n",
              "      <td>26-May-76</td>\n",
              "      <td>England</td>\n",
              "    </tr>\n",
              "    <tr>\n",
              "      <th>4</th>\n",
              "      <td>A Mithun</td>\n",
              "      <td>130.77</td>\n",
              "      <td>25-Oct-89</td>\n",
              "      <td>India</td>\n",
              "    </tr>\n",
              "  </tbody>\n",
              "</table>\n",
              "</div>"
            ],
            "text/plain": [
              "      Player_Name  Strike_Rate        DOB      Country\n",
              "0   LA Carseldine       114.08  17-Nov-75    Australia\n",
              "1       MD Mishra       111.27   9-Feb-84        India\n",
              "2       KAJ Roach       111.11  30-Jun-88  West Indies\n",
              "3  PD Collingwood       127.67  26-May-76      England\n",
              "4        A Mithun       130.77  25-Oct-89        India"
            ]
          },
          "metadata": {
            "tags": []
          },
          "execution_count": 126
        }
      ]
    },
    {
      "cell_type": "markdown",
      "metadata": {
        "id": "aA34hwuLegY-",
        "colab_type": "text"
      },
      "source": [
        "####Selecting top 5 bowlers"
      ]
    },
    {
      "cell_type": "code",
      "metadata": {
        "id": "6I4oS1s3tPLt",
        "colab_type": "code",
        "colab": {
          "base_uri": "https://localhost:8080/",
          "height": 204
        },
        "outputId": "070a31bd-1815-4fb8-dec8-9a452560e78d"
      },
      "source": [
        "# bowlers_team = pd.read_csv(\"Bowlers.csv\",nrows=5)\n",
        "bowlers_team=Bowlers[['Player_Name','Econ_Rate','DOB','Country']]\n",
        "bowlers_team=bowlers_team.head(5)\n",
        "bowlers_team"
      ],
      "execution_count": 127,
      "outputs": [
        {
          "output_type": "execute_result",
          "data": {
            "text/html": [
              "<div>\n",
              "<style scoped>\n",
              "    .dataframe tbody tr th:only-of-type {\n",
              "        vertical-align: middle;\n",
              "    }\n",
              "\n",
              "    .dataframe tbody tr th {\n",
              "        vertical-align: top;\n",
              "    }\n",
              "\n",
              "    .dataframe thead th {\n",
              "        text-align: right;\n",
              "    }\n",
              "</style>\n",
              "<table border=\"1\" class=\"dataframe\">\n",
              "  <thead>\n",
              "    <tr style=\"text-align: right;\">\n",
              "      <th></th>\n",
              "      <th>Player_Name</th>\n",
              "      <th>Econ_Rate</th>\n",
              "      <th>DOB</th>\n",
              "      <th>Country</th>\n",
              "    </tr>\n",
              "  </thead>\n",
              "  <tbody>\n",
              "    <tr>\n",
              "      <th>0</th>\n",
              "      <td>KS Williamson</td>\n",
              "      <td>7.00</td>\n",
              "      <td>8-Aug-90</td>\n",
              "      <td>New Zealand</td>\n",
              "    </tr>\n",
              "    <tr>\n",
              "      <th>1</th>\n",
              "      <td>AA Jhunjhunwala</td>\n",
              "      <td>8.80</td>\n",
              "      <td>1-Dec-82</td>\n",
              "      <td>India</td>\n",
              "    </tr>\n",
              "    <tr>\n",
              "      <th>2</th>\n",
              "      <td>R Sathish</td>\n",
              "      <td>9.67</td>\n",
              "      <td>14-Jan-81</td>\n",
              "      <td>India</td>\n",
              "    </tr>\n",
              "    <tr>\n",
              "      <th>3</th>\n",
              "      <td>RS Gavaskar</td>\n",
              "      <td>8.00</td>\n",
              "      <td>20-Feb-76</td>\n",
              "      <td>India</td>\n",
              "    </tr>\n",
              "    <tr>\n",
              "      <th>4</th>\n",
              "      <td>JM Kemp</td>\n",
              "      <td>7.40</td>\n",
              "      <td>2-Oct-77</td>\n",
              "      <td>South Africa</td>\n",
              "    </tr>\n",
              "  </tbody>\n",
              "</table>\n",
              "</div>"
            ],
            "text/plain": [
              "       Player_Name  Econ_Rate        DOB       Country\n",
              "0    KS Williamson       7.00   8-Aug-90   New Zealand\n",
              "1  AA Jhunjhunwala       8.80   1-Dec-82         India\n",
              "2        R Sathish       9.67  14-Jan-81         India\n",
              "3      RS Gavaskar       8.00  20-Feb-76         India\n",
              "4          JM Kemp       7.40   2-Oct-77  South Africa"
            ]
          },
          "metadata": {
            "tags": []
          },
          "execution_count": 127
        }
      ]
    },
    {
      "cell_type": "markdown",
      "metadata": {
        "id": "SjvWXN0vei_V",
        "colab_type": "text"
      },
      "source": [
        "####Selecting top 10 all rounders"
      ]
    },
    {
      "cell_type": "code",
      "metadata": {
        "id": "YHjo6sq_uvsX",
        "colab_type": "code",
        "colab": {
          "base_uri": "https://localhost:8080/",
          "height": 444
        },
        "outputId": "f8643258-c5c0-4695-8f37-b75690cff950"
      },
      "source": [
        "d1 = pd.merge(Batsmen,Bowlers, how='inner', on=['Player_Id'])\n",
        "d2 = pd.merge(d1,Players, on='Player_Id')\n",
        "all_rounder_team=d2[['Player_Name_x','Strike_Rate','Econ_Rate','DOB','Country']]\n",
        "all_rounder_team.rename(columns = {'Player_Name_x':'Player_Name'}, inplace = True) \n",
        "all_rounder_team=all_rounder_team.head(10)\n",
        "all_rounder_team"
      ],
      "execution_count": 128,
      "outputs": [
        {
          "output_type": "stream",
          "text": [
            "/usr/local/lib/python3.6/dist-packages/pandas/core/frame.py:4133: SettingWithCopyWarning: \n",
            "A value is trying to be set on a copy of a slice from a DataFrame\n",
            "\n",
            "See the caveats in the documentation: https://pandas.pydata.org/pandas-docs/stable/user_guide/indexing.html#returning-a-view-versus-a-copy\n",
            "  errors=errors,\n"
          ],
          "name": "stderr"
        },
        {
          "output_type": "execute_result",
          "data": {
            "text/html": [
              "<div>\n",
              "<style scoped>\n",
              "    .dataframe tbody tr th:only-of-type {\n",
              "        vertical-align: middle;\n",
              "    }\n",
              "\n",
              "    .dataframe tbody tr th {\n",
              "        vertical-align: top;\n",
              "    }\n",
              "\n",
              "    .dataframe thead th {\n",
              "        text-align: right;\n",
              "    }\n",
              "</style>\n",
              "<table border=\"1\" class=\"dataframe\">\n",
              "  <thead>\n",
              "    <tr style=\"text-align: right;\">\n",
              "      <th></th>\n",
              "      <th>Player_Name</th>\n",
              "      <th>Strike_Rate</th>\n",
              "      <th>Econ_Rate</th>\n",
              "      <th>DOB</th>\n",
              "      <th>Country</th>\n",
              "    </tr>\n",
              "  </thead>\n",
              "  <tbody>\n",
              "    <tr>\n",
              "      <th>0</th>\n",
              "      <td>LA Carseldine</td>\n",
              "      <td>114.08</td>\n",
              "      <td>5.14</td>\n",
              "      <td>17-Nov-75</td>\n",
              "      <td>Australia</td>\n",
              "    </tr>\n",
              "    <tr>\n",
              "      <th>1</th>\n",
              "      <td>KAJ Roach</td>\n",
              "      <td>111.11</td>\n",
              "      <td>9.23</td>\n",
              "      <td>30-Jun-88</td>\n",
              "      <td>West Indies</td>\n",
              "    </tr>\n",
              "    <tr>\n",
              "      <th>2</th>\n",
              "      <td>PD Collingwood</td>\n",
              "      <td>127.67</td>\n",
              "      <td>6.73</td>\n",
              "      <td>26-May-76</td>\n",
              "      <td>England</td>\n",
              "    </tr>\n",
              "    <tr>\n",
              "      <th>3</th>\n",
              "      <td>A Mithun</td>\n",
              "      <td>130.77</td>\n",
              "      <td>9.13</td>\n",
              "      <td>25-Oct-89</td>\n",
              "      <td>India</td>\n",
              "    </tr>\n",
              "    <tr>\n",
              "      <th>4</th>\n",
              "      <td>AP Dole</td>\n",
              "      <td>147.83</td>\n",
              "      <td>9.37</td>\n",
              "      <td>9-Oct-87</td>\n",
              "      <td>India</td>\n",
              "    </tr>\n",
              "    <tr>\n",
              "      <th>5</th>\n",
              "      <td>AN Ahmed</td>\n",
              "      <td>133.33</td>\n",
              "      <td>8.54</td>\n",
              "      <td>5-Nov-88</td>\n",
              "      <td>India</td>\n",
              "    </tr>\n",
              "    <tr>\n",
              "      <th>6</th>\n",
              "      <td>MR Marsh</td>\n",
              "      <td>111.94</td>\n",
              "      <td>7.60</td>\n",
              "      <td>20-Oct-91</td>\n",
              "      <td>Australia</td>\n",
              "    </tr>\n",
              "    <tr>\n",
              "      <th>7</th>\n",
              "      <td>AC Voges</td>\n",
              "      <td>126.57</td>\n",
              "      <td>8.14</td>\n",
              "      <td>4-Oct-79</td>\n",
              "      <td>Australia</td>\n",
              "    </tr>\n",
              "    <tr>\n",
              "      <th>8</th>\n",
              "      <td>AC Thomas</td>\n",
              "      <td>105.26</td>\n",
              "      <td>7.45</td>\n",
              "      <td>9-Feb-77</td>\n",
              "      <td>England</td>\n",
              "    </tr>\n",
              "    <tr>\n",
              "      <th>9</th>\n",
              "      <td>JEC Franklin</td>\n",
              "      <td>103.88</td>\n",
              "      <td>8.59</td>\n",
              "      <td>7-Nov-80</td>\n",
              "      <td>New Zealand</td>\n",
              "    </tr>\n",
              "  </tbody>\n",
              "</table>\n",
              "</div>"
            ],
            "text/plain": [
              "      Player_Name  Strike_Rate  Econ_Rate        DOB      Country\n",
              "0   LA Carseldine       114.08       5.14  17-Nov-75    Australia\n",
              "1       KAJ Roach       111.11       9.23  30-Jun-88  West Indies\n",
              "2  PD Collingwood       127.67       6.73  26-May-76      England\n",
              "3        A Mithun       130.77       9.13  25-Oct-89        India\n",
              "4         AP Dole       147.83       9.37   9-Oct-87        India\n",
              "5        AN Ahmed       133.33       8.54   5-Nov-88        India\n",
              "6        MR Marsh       111.94       7.60  20-Oct-91    Australia\n",
              "7        AC Voges       126.57       8.14   4-Oct-79    Australia\n",
              "8       AC Thomas       105.26       7.45   9-Feb-77      England\n",
              "9    JEC Franklin       103.88       8.59   7-Nov-80  New Zealand"
            ]
          },
          "metadata": {
            "tags": []
          },
          "execution_count": 128
        }
      ]
    },
    {
      "cell_type": "markdown",
      "metadata": {
        "id": "nY0MnNVNem40",
        "colab_type": "text"
      },
      "source": [
        "#### Merging the 3 dataframes to show the example of a well rounded team"
      ]
    },
    {
      "cell_type": "code",
      "metadata": {
        "id": "4zzGT4z4EsvP",
        "colab_type": "code",
        "colab": {
          "base_uri": "https://localhost:8080/",
          "height": 579
        },
        "outputId": "48daa1a8-dc73-4c68-efdb-ee27f110597e"
      },
      "source": [
        "df=pd.concat([batsmen_team,bowlers_team,all_rounder_team],sort=True).drop_duplicates(subset='Player_Name', keep=\"first\").reset_index(drop=True)\n",
        "df=df[['Player_Name','Strike_Rate','Econ_Rate','DOB','Country']]\n",
        "print(\"-\"*30,\"Well rounded team\",\"-\"*30,\"\\n\")\n",
        "df"
      ],
      "execution_count": 129,
      "outputs": [
        {
          "output_type": "stream",
          "text": [
            "------------------------------ Well rounded team ------------------------------ \n",
            "\n"
          ],
          "name": "stdout"
        },
        {
          "output_type": "execute_result",
          "data": {
            "text/html": [
              "<div>\n",
              "<style scoped>\n",
              "    .dataframe tbody tr th:only-of-type {\n",
              "        vertical-align: middle;\n",
              "    }\n",
              "\n",
              "    .dataframe tbody tr th {\n",
              "        vertical-align: top;\n",
              "    }\n",
              "\n",
              "    .dataframe thead th {\n",
              "        text-align: right;\n",
              "    }\n",
              "</style>\n",
              "<table border=\"1\" class=\"dataframe\">\n",
              "  <thead>\n",
              "    <tr style=\"text-align: right;\">\n",
              "      <th></th>\n",
              "      <th>Player_Name</th>\n",
              "      <th>Strike_Rate</th>\n",
              "      <th>Econ_Rate</th>\n",
              "      <th>DOB</th>\n",
              "      <th>Country</th>\n",
              "    </tr>\n",
              "  </thead>\n",
              "  <tbody>\n",
              "    <tr>\n",
              "      <th>0</th>\n",
              "      <td>LA Carseldine</td>\n",
              "      <td>114.08</td>\n",
              "      <td>NaN</td>\n",
              "      <td>17-Nov-75</td>\n",
              "      <td>Australia</td>\n",
              "    </tr>\n",
              "    <tr>\n",
              "      <th>1</th>\n",
              "      <td>MD Mishra</td>\n",
              "      <td>111.27</td>\n",
              "      <td>NaN</td>\n",
              "      <td>9-Feb-84</td>\n",
              "      <td>India</td>\n",
              "    </tr>\n",
              "    <tr>\n",
              "      <th>2</th>\n",
              "      <td>KAJ Roach</td>\n",
              "      <td>111.11</td>\n",
              "      <td>NaN</td>\n",
              "      <td>30-Jun-88</td>\n",
              "      <td>West Indies</td>\n",
              "    </tr>\n",
              "    <tr>\n",
              "      <th>3</th>\n",
              "      <td>PD Collingwood</td>\n",
              "      <td>127.67</td>\n",
              "      <td>NaN</td>\n",
              "      <td>26-May-76</td>\n",
              "      <td>England</td>\n",
              "    </tr>\n",
              "    <tr>\n",
              "      <th>4</th>\n",
              "      <td>A Mithun</td>\n",
              "      <td>130.77</td>\n",
              "      <td>NaN</td>\n",
              "      <td>25-Oct-89</td>\n",
              "      <td>India</td>\n",
              "    </tr>\n",
              "    <tr>\n",
              "      <th>5</th>\n",
              "      <td>KS Williamson</td>\n",
              "      <td>NaN</td>\n",
              "      <td>7.00</td>\n",
              "      <td>8-Aug-90</td>\n",
              "      <td>New Zealand</td>\n",
              "    </tr>\n",
              "    <tr>\n",
              "      <th>6</th>\n",
              "      <td>AA Jhunjhunwala</td>\n",
              "      <td>NaN</td>\n",
              "      <td>8.80</td>\n",
              "      <td>1-Dec-82</td>\n",
              "      <td>India</td>\n",
              "    </tr>\n",
              "    <tr>\n",
              "      <th>7</th>\n",
              "      <td>R Sathish</td>\n",
              "      <td>NaN</td>\n",
              "      <td>9.67</td>\n",
              "      <td>14-Jan-81</td>\n",
              "      <td>India</td>\n",
              "    </tr>\n",
              "    <tr>\n",
              "      <th>8</th>\n",
              "      <td>RS Gavaskar</td>\n",
              "      <td>NaN</td>\n",
              "      <td>8.00</td>\n",
              "      <td>20-Feb-76</td>\n",
              "      <td>India</td>\n",
              "    </tr>\n",
              "    <tr>\n",
              "      <th>9</th>\n",
              "      <td>JM Kemp</td>\n",
              "      <td>NaN</td>\n",
              "      <td>7.40</td>\n",
              "      <td>2-Oct-77</td>\n",
              "      <td>South Africa</td>\n",
              "    </tr>\n",
              "    <tr>\n",
              "      <th>10</th>\n",
              "      <td>AP Dole</td>\n",
              "      <td>147.83</td>\n",
              "      <td>9.37</td>\n",
              "      <td>9-Oct-87</td>\n",
              "      <td>India</td>\n",
              "    </tr>\n",
              "    <tr>\n",
              "      <th>11</th>\n",
              "      <td>AN Ahmed</td>\n",
              "      <td>133.33</td>\n",
              "      <td>8.54</td>\n",
              "      <td>5-Nov-88</td>\n",
              "      <td>India</td>\n",
              "    </tr>\n",
              "    <tr>\n",
              "      <th>12</th>\n",
              "      <td>MR Marsh</td>\n",
              "      <td>111.94</td>\n",
              "      <td>7.60</td>\n",
              "      <td>20-Oct-91</td>\n",
              "      <td>Australia</td>\n",
              "    </tr>\n",
              "    <tr>\n",
              "      <th>13</th>\n",
              "      <td>AC Voges</td>\n",
              "      <td>126.57</td>\n",
              "      <td>8.14</td>\n",
              "      <td>4-Oct-79</td>\n",
              "      <td>Australia</td>\n",
              "    </tr>\n",
              "    <tr>\n",
              "      <th>14</th>\n",
              "      <td>AC Thomas</td>\n",
              "      <td>105.26</td>\n",
              "      <td>7.45</td>\n",
              "      <td>9-Feb-77</td>\n",
              "      <td>England</td>\n",
              "    </tr>\n",
              "    <tr>\n",
              "      <th>15</th>\n",
              "      <td>JEC Franklin</td>\n",
              "      <td>103.88</td>\n",
              "      <td>8.59</td>\n",
              "      <td>7-Nov-80</td>\n",
              "      <td>New Zealand</td>\n",
              "    </tr>\n",
              "  </tbody>\n",
              "</table>\n",
              "</div>"
            ],
            "text/plain": [
              "        Player_Name  Strike_Rate  Econ_Rate        DOB       Country\n",
              "0     LA Carseldine       114.08        NaN  17-Nov-75     Australia\n",
              "1         MD Mishra       111.27        NaN   9-Feb-84         India\n",
              "2         KAJ Roach       111.11        NaN  30-Jun-88   West Indies\n",
              "3    PD Collingwood       127.67        NaN  26-May-76       England\n",
              "4          A Mithun       130.77        NaN  25-Oct-89         India\n",
              "5     KS Williamson          NaN       7.00   8-Aug-90   New Zealand\n",
              "6   AA Jhunjhunwala          NaN       8.80   1-Dec-82         India\n",
              "7         R Sathish          NaN       9.67  14-Jan-81         India\n",
              "8       RS Gavaskar          NaN       8.00  20-Feb-76         India\n",
              "9           JM Kemp          NaN       7.40   2-Oct-77  South Africa\n",
              "10          AP Dole       147.83       9.37   9-Oct-87         India\n",
              "11         AN Ahmed       133.33       8.54   5-Nov-88         India\n",
              "12         MR Marsh       111.94       7.60  20-Oct-91     Australia\n",
              "13         AC Voges       126.57       8.14   4-Oct-79     Australia\n",
              "14        AC Thomas       105.26       7.45   9-Feb-77       England\n",
              "15     JEC Franklin       103.88       8.59   7-Nov-80   New Zealand"
            ]
          },
          "metadata": {
            "tags": []
          },
          "execution_count": 129
        }
      ]
    },
    {
      "cell_type": "markdown",
      "metadata": {
        "id": "XbtfVpAl0gC9",
        "colab_type": "text"
      },
      "source": [
        "The players with:\n",
        "\n",
        "Strike_Rate: NaN are **batsmen**\n",
        "\n",
        "Economy_Rate: NaN are **bowlers**\n",
        "\n",
        "both Strike_Rate and Economy_Rate listed are **all rounders**."
      ]
    }
  ]
}