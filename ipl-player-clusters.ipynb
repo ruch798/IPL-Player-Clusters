{
 "cells": [
  {
   "cell_type": "markdown",
   "metadata": {
    "papermill": {
     "duration": 0.057431,
     "end_time": "2020-11-16T20:26:20.139277",
     "exception": false,
     "start_time": "2020-11-16T20:26:20.081846",
     "status": "completed"
    },
    "tags": []
   },
   "source": [
    "<div>\n",
    "<img src=\"https://www.headlinesoftoday.com/wp-content/uploads/2020/03/Indian-Premier-League-IPL-2020-Full-ScheduleTime-Table-and-Venue-and-Fixtures-e1588313204876.jpg\" width=\"550\"/>\n",
    "</div>\n",
    "\n",
    "<div class=\"alert alert-block alert-info\">  \n",
    "<h1><strong><center>🏏 Indian Premier League</center></strong></h1>\n",
    "    <p>The Indian Premier League is a professional Twenty20 cricket league in India contested during March or April and May of every year by eight teams representing eight different cities in India.\n",
    "    </p>\n",
    "</div>"
   ]
  },
  {
   "cell_type": "markdown",
   "metadata": {
    "id": "kS98F-fn2sJt",
    "papermill": {
     "duration": 0.050778,
     "end_time": "2020-11-16T20:26:20.240952",
     "exception": false,
     "start_time": "2020-11-16T20:26:20.190174",
     "status": "completed"
    },
    "tags": []
   },
   "source": [
    "> Aim: To create clusters of players based on their strengths in order to show a well-rounded cricket team of all time.\n"
   ]
  },
  {
   "cell_type": "markdown",
   "metadata": {
    "id": "EyK62RvU2sJv",
    "papermill": {
     "duration": 0.050343,
     "end_time": "2020-11-16T20:26:20.340881",
     "exception": false,
     "start_time": "2020-11-16T20:26:20.290538",
     "status": "completed"
    },
    "tags": []
   },
   "source": [
    "### Data preprocessing"
   ]
  },
  {
   "cell_type": "code",
   "execution_count": 1,
   "metadata": {
    "execution": {
     "iopub.execute_input": "2020-11-16T20:26:20.452679Z",
     "iopub.status.busy": "2020-11-16T20:26:20.448348Z",
     "iopub.status.idle": "2020-11-16T20:26:23.277301Z",
     "shell.execute_reply": "2020-11-16T20:26:23.276384Z"
    },
    "executionInfo": {
     "elapsed": 1845,
     "status": "ok",
     "timestamp": 1596356835554,
     "user": {
      "displayName": "RUCHI BHATIA",
      "photoUrl": "",
      "userId": "04469733066996764193"
     },
     "user_tz": -330
    },
    "id": "z8OFnKMv2sJw",
    "papermill": {
     "duration": 2.887436,
     "end_time": "2020-11-16T20:26:23.277501",
     "exception": false,
     "start_time": "2020-11-16T20:26:20.390065",
     "status": "completed"
    },
    "tags": []
   },
   "outputs": [],
   "source": [
    "import pandas as pd\n",
    "import numpy as np\n",
    "import seaborn as sns\n",
    "import plotly.express as px\n",
    "import matplotlib.pyplot as plt\n",
    "%matplotlib inline\n",
    "\n",
    "from sklearn import metrics\n",
    "from sklearn.cluster import KMeans\n",
    "from scipy.spatial.distance import cdist \n",
    "from colorama import Fore, Back, Style\n",
    "y_ = Fore.YELLOW\n",
    "r_ = Fore.RED\n",
    "g_ = Fore.GREEN\n",
    "b_ = Fore.BLUE\n",
    "m_ = Fore.MAGENTA"
   ]
  },
  {
   "cell_type": "code",
   "execution_count": 2,
   "metadata": {
    "execution": {
     "iopub.execute_input": "2020-11-16T20:26:23.395399Z",
     "iopub.status.busy": "2020-11-16T20:26:23.394511Z",
     "iopub.status.idle": "2020-11-16T20:26:23.398410Z",
     "shell.execute_reply": "2020-11-16T20:26:23.397726Z"
    },
    "papermill": {
     "duration": 0.062469,
     "end_time": "2020-11-16T20:26:23.398582",
     "exception": false,
     "start_time": "2020-11-16T20:26:23.336113",
     "status": "completed"
    },
    "tags": []
   },
   "outputs": [],
   "source": [
    "custom_colors = [\"#023e8a\", \"#0096c7\",\"#90e0ef\",\"#ff5400\",\"#ffbd00\"]\n",
    "customPalette = sns.set_palette(sns.color_palette(custom_colors))"
   ]
  },
  {
   "cell_type": "code",
   "execution_count": 3,
   "metadata": {
    "execution": {
     "iopub.execute_input": "2020-11-16T20:26:23.509543Z",
     "iopub.status.busy": "2020-11-16T20:26:23.508718Z",
     "iopub.status.idle": "2020-11-16T20:26:23.649844Z",
     "shell.execute_reply": "2020-11-16T20:26:23.650669Z"
    },
    "papermill": {
     "duration": 0.201436,
     "end_time": "2020-11-16T20:26:23.650897",
     "exception": false,
     "start_time": "2020-11-16T20:26:23.449461",
     "status": "completed"
    },
    "tags": []
   },
   "outputs": [
    {
     "data": {
      "image/png": "[encoded data removed]",
      "text/plain": [
       "<Figure size 360x72 with 1 Axes>"
      ]
     },
     "metadata": {
      "needs_background": "light"
     },
     "output_type": "display_data"
    }
   ],
   "source": [
    "sns.palplot(sns.color_palette(custom_colors),size=1)"
   ]
  },
  {
   "cell_type": "code",
   "execution_count": 4,
   "metadata": {
    "execution": {
     "iopub.execute_input": "2020-11-16T20:26:23.770581Z",
     "iopub.status.busy": "2020-11-16T20:26:23.769514Z",
     "iopub.status.idle": "2020-11-16T20:26:23.772099Z",
     "shell.execute_reply": "2020-11-16T20:26:23.772884Z"
    },
    "papermill": {
     "duration": 0.061231,
     "end_time": "2020-11-16T20:26:23.773125",
     "exception": false,
     "start_time": "2020-11-16T20:26:23.711894",
     "status": "completed"
    },
    "tags": []
   },
   "outputs": [],
   "source": [
    "sns.set_context(\"poster\")"
   ]
  },
  {
   "cell_type": "code",
   "execution_count": 5,
   "metadata": {
    "execution": {
     "iopub.execute_input": "2020-11-16T20:26:23.910901Z",
     "iopub.status.busy": "2020-11-16T20:26:23.909811Z",
     "iopub.status.idle": "2020-11-16T20:26:23.946273Z",
     "shell.execute_reply": "2020-11-16T20:26:23.946876Z"
    },
    "papermill": {
     "duration": 0.11774,
     "end_time": "2020-11-16T20:26:23.947096",
     "exception": false,
     "start_time": "2020-11-16T20:26:23.829356",
     "status": "completed"
    },
    "tags": []
   },
   "outputs": [
    {
     "data": {
      "text/html": [
       "<div>\n",
       "<style scoped>\n",
       "    .dataframe tbody tr th:only-of-type {\n",
       "        vertical-align: middle;\n",
       "    }\n",
       "\n",
       "    .dataframe tbody tr th {\n",
       "        vertical-align: top;\n",
       "    }\n",
       "\n",
       "    .dataframe thead th {\n",
       "        text-align: right;\n",
       "    }\n",
       "</style>\n",
       "<table border=\"1\" class=\"dataframe\">\n",
       "  <thead>\n",
       "    <tr style=\"text-align: right;\">\n",
       "      <th></th>\n",
       "      <th>Player_Id</th>\n",
       "      <th>Player_Name</th>\n",
       "      <th>DOB</th>\n",
       "      <th>Batting_Hand</th>\n",
       "      <th>Bowling_Skill</th>\n",
       "      <th>Country</th>\n",
       "    </tr>\n",
       "  </thead>\n",
       "  <tbody>\n",
       "    <tr>\n",
       "      <th>0</th>\n",
       "      <td>1</td>\n",
       "      <td>SC Ganguly</td>\n",
       "      <td>8-Jul-72</td>\n",
       "      <td>Left_Hand</td>\n",
       "      <td>Right-arm medium</td>\n",
       "      <td>India</td>\n",
       "    </tr>\n",
       "    <tr>\n",
       "      <th>1</th>\n",
       "      <td>2</td>\n",
       "      <td>BB McCullum</td>\n",
       "      <td>27-Sep-81</td>\n",
       "      <td>Right_Hand</td>\n",
       "      <td>Right-arm medium</td>\n",
       "      <td>New Zealand</td>\n",
       "    </tr>\n",
       "    <tr>\n",
       "      <th>2</th>\n",
       "      <td>3</td>\n",
       "      <td>RT Ponting</td>\n",
       "      <td>19-Dec-74</td>\n",
       "      <td>Right_Hand</td>\n",
       "      <td>Right-arm medium</td>\n",
       "      <td>Australia</td>\n",
       "    </tr>\n",
       "    <tr>\n",
       "      <th>3</th>\n",
       "      <td>4</td>\n",
       "      <td>DJ Hussey</td>\n",
       "      <td>15-Jul-77</td>\n",
       "      <td>Right_Hand</td>\n",
       "      <td>Right-arm offbreak</td>\n",
       "      <td>Australia</td>\n",
       "    </tr>\n",
       "    <tr>\n",
       "      <th>4</th>\n",
       "      <td>5</td>\n",
       "      <td>Mohammad Hafeez</td>\n",
       "      <td>17-Oct-80</td>\n",
       "      <td>Right_Hand</td>\n",
       "      <td>Right-arm offbreak</td>\n",
       "      <td>Pakistan</td>\n",
       "    </tr>\n",
       "    <tr>\n",
       "      <th>5</th>\n",
       "      <td>6</td>\n",
       "      <td>R Dravid</td>\n",
       "      <td>11-Jan-73</td>\n",
       "      <td>Right_Hand</td>\n",
       "      <td>Right-arm offbreak</td>\n",
       "      <td>India</td>\n",
       "    </tr>\n",
       "    <tr>\n",
       "      <th>6</th>\n",
       "      <td>7</td>\n",
       "      <td>W Jaffer</td>\n",
       "      <td>16-Feb-78</td>\n",
       "      <td>Right_Hand</td>\n",
       "      <td>Right-arm offbreak</td>\n",
       "      <td>India</td>\n",
       "    </tr>\n",
       "    <tr>\n",
       "      <th>7</th>\n",
       "      <td>8</td>\n",
       "      <td>V Kohli</td>\n",
       "      <td>5-Nov-88</td>\n",
       "      <td>Right_Hand</td>\n",
       "      <td>Right-arm medium</td>\n",
       "      <td>India</td>\n",
       "    </tr>\n",
       "    <tr>\n",
       "      <th>8</th>\n",
       "      <td>9</td>\n",
       "      <td>JH Kallis</td>\n",
       "      <td>16-Oct-75</td>\n",
       "      <td>Right_Hand</td>\n",
       "      <td>Right-arm fast-medium</td>\n",
       "      <td>South Africa</td>\n",
       "    </tr>\n",
       "    <tr>\n",
       "      <th>9</th>\n",
       "      <td>10</td>\n",
       "      <td>CL White</td>\n",
       "      <td>18-Aug-83</td>\n",
       "      <td>Right_Hand</td>\n",
       "      <td>Legbreak googly</td>\n",
       "      <td>Australia</td>\n",
       "    </tr>\n",
       "  </tbody>\n",
       "</table>\n",
       "</div>"
      ],
      "text/plain": [
       "   Player_Id      Player_Name        DOB Batting_Hand          Bowling_Skill  \\\n",
       "0          1       SC Ganguly   8-Jul-72    Left_Hand       Right-arm medium   \n",
       "1          2      BB McCullum  27-Sep-81   Right_Hand       Right-arm medium   \n",
       "2          3       RT Ponting  19-Dec-74   Right_Hand       Right-arm medium   \n",
       "3          4        DJ Hussey  15-Jul-77   Right_Hand     Right-arm offbreak   \n",
       "4          5  Mohammad Hafeez  17-Oct-80   Right_Hand     Right-arm offbreak   \n",
       "5          6         R Dravid  11-Jan-73   Right_Hand     Right-arm offbreak   \n",
       "6          7         W Jaffer  16-Feb-78   Right_Hand     Right-arm offbreak   \n",
       "7          8          V Kohli   5-Nov-88   Right_Hand       Right-arm medium   \n",
       "8          9        JH Kallis  16-Oct-75   Right_Hand  Right-arm fast-medium   \n",
       "9         10         CL White  18-Aug-83   Right_Hand        Legbreak googly   \n",
       "\n",
       "        Country  \n",
       "0         India  \n",
       "1   New Zealand  \n",
       "2     Australia  \n",
       "3     Australia  \n",
       "4      Pakistan  \n",
       "5         India  \n",
       "6         India  \n",
       "7         India  \n",
       "8  South Africa  \n",
       "9     Australia  "
      ]
     },
     "execution_count": 5,
     "metadata": {},
     "output_type": "execute_result"
    }
   ],
   "source": [
    "players = pd.read_csv(r'../input/indian-premier-league-csv-dataset/Player.csv')\n",
    "players = players.drop([\"Is_Umpire\", \"Unnamed: 7\"], axis = 1)\n",
    "players.head(10)"
   ]
  },
  {
   "cell_type": "code",
   "execution_count": 6,
   "metadata": {
    "execution": {
     "iopub.execute_input": "2020-11-16T20:26:24.131181Z",
     "iopub.status.busy": "2020-11-16T20:26:24.130269Z",
     "iopub.status.idle": "2020-11-16T20:26:24.716436Z",
     "shell.execute_reply": "2020-11-16T20:26:24.715571Z"
    },
    "executionInfo": {
     "elapsed": 1841,
     "status": "ok",
     "timestamp": 1596356835555,
     "user": {
      "displayName": "RUCHI BHATIA",
      "photoUrl": "",
      "userId": "04469733066996764193"
     },
     "user_tz": -330
    },
    "id": "dWERXALtSt8m",
    "outputId": "bdfcfae4-8507-469d-a5e5-e14dbbbb9dde",
    "papermill": {
     "duration": 0.672881,
     "end_time": "2020-11-16T20:26:24.716584",
     "exception": false,
     "start_time": "2020-11-16T20:26:24.043703",
     "status": "completed"
    },
    "tags": []
   },
   "outputs": [
    {
     "data": {
      "text/html": [
       "<div>\n",
       "<style scoped>\n",
       "    .dataframe tbody tr th:only-of-type {\n",
       "        vertical-align: middle;\n",
       "    }\n",
       "\n",
       "    .dataframe tbody tr th {\n",
       "        vertical-align: top;\n",
       "    }\n",
       "\n",
       "    .dataframe thead th {\n",
       "        text-align: right;\n",
       "    }\n",
       "</style>\n",
       "<table border=\"1\" class=\"dataframe\">\n",
       "  <thead>\n",
       "    <tr style=\"text-align: right;\">\n",
       "      <th></th>\n",
       "      <th>Match_Id</th>\n",
       "      <th>Innings_Id</th>\n",
       "      <th>Over_Id</th>\n",
       "      <th>Ball_Id</th>\n",
       "      <th>Team_Batting_Id</th>\n",
       "      <th>Team_Bowling_Id</th>\n",
       "      <th>Striker_Id</th>\n",
       "      <th>Striker_Batting_Position</th>\n",
       "      <th>Non_Striker_Id</th>\n",
       "      <th>Bowler_Id</th>\n",
       "      <th>Batsman_Scored</th>\n",
       "      <th>Extra_Type</th>\n",
       "      <th>Extra_Runs</th>\n",
       "      <th>Player_dissimal_Id</th>\n",
       "      <th>Dissimal_Type</th>\n",
       "      <th>Fielder_Id</th>\n",
       "    </tr>\n",
       "  </thead>\n",
       "  <tbody>\n",
       "    <tr>\n",
       "      <th>0</th>\n",
       "      <td>335987</td>\n",
       "      <td>1</td>\n",
       "      <td>1</td>\n",
       "      <td>1</td>\n",
       "      <td>1</td>\n",
       "      <td>2</td>\n",
       "      <td>1</td>\n",
       "      <td>1</td>\n",
       "      <td>2</td>\n",
       "      <td>14</td>\n",
       "      <td>0</td>\n",
       "      <td>legbyes</td>\n",
       "      <td>1</td>\n",
       "      <td></td>\n",
       "      <td></td>\n",
       "      <td></td>\n",
       "    </tr>\n",
       "    <tr>\n",
       "      <th>1</th>\n",
       "      <td>335987</td>\n",
       "      <td>1</td>\n",
       "      <td>1</td>\n",
       "      <td>2</td>\n",
       "      <td>1</td>\n",
       "      <td>2</td>\n",
       "      <td>2</td>\n",
       "      <td>2</td>\n",
       "      <td>1</td>\n",
       "      <td>14</td>\n",
       "      <td>0</td>\n",
       "      <td></td>\n",
       "      <td></td>\n",
       "      <td></td>\n",
       "      <td></td>\n",
       "      <td></td>\n",
       "    </tr>\n",
       "    <tr>\n",
       "      <th>2</th>\n",
       "      <td>335987</td>\n",
       "      <td>1</td>\n",
       "      <td>1</td>\n",
       "      <td>3</td>\n",
       "      <td>1</td>\n",
       "      <td>2</td>\n",
       "      <td>2</td>\n",
       "      <td>2</td>\n",
       "      <td>1</td>\n",
       "      <td>14</td>\n",
       "      <td>0</td>\n",
       "      <td>wides</td>\n",
       "      <td>1</td>\n",
       "      <td></td>\n",
       "      <td></td>\n",
       "      <td></td>\n",
       "    </tr>\n",
       "    <tr>\n",
       "      <th>3</th>\n",
       "      <td>335987</td>\n",
       "      <td>1</td>\n",
       "      <td>1</td>\n",
       "      <td>4</td>\n",
       "      <td>1</td>\n",
       "      <td>2</td>\n",
       "      <td>2</td>\n",
       "      <td>2</td>\n",
       "      <td>1</td>\n",
       "      <td>14</td>\n",
       "      <td>0</td>\n",
       "      <td></td>\n",
       "      <td></td>\n",
       "      <td></td>\n",
       "      <td></td>\n",
       "      <td></td>\n",
       "    </tr>\n",
       "    <tr>\n",
       "      <th>4</th>\n",
       "      <td>335987</td>\n",
       "      <td>1</td>\n",
       "      <td>1</td>\n",
       "      <td>5</td>\n",
       "      <td>1</td>\n",
       "      <td>2</td>\n",
       "      <td>2</td>\n",
       "      <td>2</td>\n",
       "      <td>1</td>\n",
       "      <td>14</td>\n",
       "      <td>0</td>\n",
       "      <td></td>\n",
       "      <td></td>\n",
       "      <td></td>\n",
       "      <td></td>\n",
       "      <td></td>\n",
       "    </tr>\n",
       "    <tr>\n",
       "      <th>5</th>\n",
       "      <td>335987</td>\n",
       "      <td>1</td>\n",
       "      <td>1</td>\n",
       "      <td>6</td>\n",
       "      <td>1</td>\n",
       "      <td>2</td>\n",
       "      <td>2</td>\n",
       "      <td>2</td>\n",
       "      <td>1</td>\n",
       "      <td>14</td>\n",
       "      <td>0</td>\n",
       "      <td></td>\n",
       "      <td></td>\n",
       "      <td></td>\n",
       "      <td></td>\n",
       "      <td></td>\n",
       "    </tr>\n",
       "    <tr>\n",
       "      <th>6</th>\n",
       "      <td>335987</td>\n",
       "      <td>1</td>\n",
       "      <td>1</td>\n",
       "      <td>7</td>\n",
       "      <td>1</td>\n",
       "      <td>2</td>\n",
       "      <td>2</td>\n",
       "      <td>2</td>\n",
       "      <td>1</td>\n",
       "      <td>14</td>\n",
       "      <td>0</td>\n",
       "      <td>legbyes</td>\n",
       "      <td>1</td>\n",
       "      <td></td>\n",
       "      <td></td>\n",
       "      <td></td>\n",
       "    </tr>\n",
       "    <tr>\n",
       "      <th>7</th>\n",
       "      <td>335987</td>\n",
       "      <td>1</td>\n",
       "      <td>2</td>\n",
       "      <td>1</td>\n",
       "      <td>1</td>\n",
       "      <td>2</td>\n",
       "      <td>2</td>\n",
       "      <td>2</td>\n",
       "      <td>1</td>\n",
       "      <td>15</td>\n",
       "      <td>0</td>\n",
       "      <td></td>\n",
       "      <td></td>\n",
       "      <td></td>\n",
       "      <td></td>\n",
       "      <td></td>\n",
       "    </tr>\n",
       "    <tr>\n",
       "      <th>8</th>\n",
       "      <td>335987</td>\n",
       "      <td>1</td>\n",
       "      <td>2</td>\n",
       "      <td>2</td>\n",
       "      <td>1</td>\n",
       "      <td>2</td>\n",
       "      <td>2</td>\n",
       "      <td>2</td>\n",
       "      <td>1</td>\n",
       "      <td>15</td>\n",
       "      <td>4</td>\n",
       "      <td></td>\n",
       "      <td></td>\n",
       "      <td></td>\n",
       "      <td></td>\n",
       "      <td></td>\n",
       "    </tr>\n",
       "    <tr>\n",
       "      <th>9</th>\n",
       "      <td>335987</td>\n",
       "      <td>1</td>\n",
       "      <td>2</td>\n",
       "      <td>3</td>\n",
       "      <td>1</td>\n",
       "      <td>2</td>\n",
       "      <td>2</td>\n",
       "      <td>2</td>\n",
       "      <td>1</td>\n",
       "      <td>15</td>\n",
       "      <td>4</td>\n",
       "      <td></td>\n",
       "      <td></td>\n",
       "      <td></td>\n",
       "      <td></td>\n",
       "      <td></td>\n",
       "    </tr>\n",
       "  </tbody>\n",
       "</table>\n",
       "</div>"
      ],
      "text/plain": [
       "   Match_Id  Innings_Id  Over_Id  Ball_Id  Team_Batting_Id  Team_Bowling_Id  \\\n",
       "0    335987           1        1        1                1                2   \n",
       "1    335987           1        1        2                1                2   \n",
       "2    335987           1        1        3                1                2   \n",
       "3    335987           1        1        4                1                2   \n",
       "4    335987           1        1        5                1                2   \n",
       "5    335987           1        1        6                1                2   \n",
       "6    335987           1        1        7                1                2   \n",
       "7    335987           1        2        1                1                2   \n",
       "8    335987           1        2        2                1                2   \n",
       "9    335987           1        2        3                1                2   \n",
       "\n",
       "   Striker_Id  Striker_Batting_Position  Non_Striker_Id  Bowler_Id  \\\n",
       "0           1                         1               2         14   \n",
       "1           2                         2               1         14   \n",
       "2           2                         2               1         14   \n",
       "3           2                         2               1         14   \n",
       "4           2                         2               1         14   \n",
       "5           2                         2               1         14   \n",
       "6           2                         2               1         14   \n",
       "7           2                         2               1         15   \n",
       "8           2                         2               1         15   \n",
       "9           2                         2               1         15   \n",
       "\n",
       "  Batsman_Scored Extra_Type Extra_Runs Player_dissimal_Id Dissimal_Type  \\\n",
       "0              0    legbyes          1                                    \n",
       "1              0                                                          \n",
       "2              0      wides          1                                    \n",
       "3              0                                                          \n",
       "4              0                                                          \n",
       "5              0                                                          \n",
       "6              0    legbyes          1                                    \n",
       "7              0                                                          \n",
       "8              4                                                          \n",
       "9              4                                                          \n",
       "\n",
       "  Fielder_Id  \n",
       "0             \n",
       "1             \n",
       "2             \n",
       "3             \n",
       "4             \n",
       "5             \n",
       "6             \n",
       "7             \n",
       "8             \n",
       "9             "
      ]
     },
     "execution_count": 6,
     "metadata": {},
     "output_type": "execute_result"
    }
   ],
   "source": [
    "runs = pd.read_csv(r'../input/indian-premier-league-csv-dataset/Ball_by_Ball.csv')\n",
    "runs.head(10)"
   ]
  },
  {
   "cell_type": "code",
   "execution_count": 7,
   "metadata": {
    "execution": {
     "iopub.execute_input": "2020-11-16T20:26:24.854304Z",
     "iopub.status.busy": "2020-11-16T20:26:24.853459Z",
     "iopub.status.idle": "2020-11-16T20:26:24.862782Z",
     "shell.execute_reply": "2020-11-16T20:26:24.861883Z"
    },
    "papermill": {
     "duration": 0.091475,
     "end_time": "2020-11-16T20:26:24.862960",
     "exception": false,
     "start_time": "2020-11-16T20:26:24.771485",
     "status": "completed"
    },
    "tags": []
   },
   "outputs": [
    {
     "data": {
      "text/plain": [
       "array([' ', 'caught', 'bowled', 'run out', 'lbw', 'retired hurt',\n",
       "       'stumped', 'caught and bowled', 'hit wicket',\n",
       "       'obstructing the field'], dtype=object)"
      ]
     },
     "execution_count": 7,
     "metadata": {},
     "output_type": "execute_result"
    }
   ],
   "source": [
    "runs.Dissimal_Type.unique()"
   ]
  },
  {
   "cell_type": "code",
   "execution_count": 8,
   "metadata": {
    "execution": {
     "iopub.execute_input": "2020-11-16T20:26:24.989232Z",
     "iopub.status.busy": "2020-11-16T20:26:24.988160Z",
     "iopub.status.idle": "2020-11-16T20:26:25.377453Z",
     "shell.execute_reply": "2020-11-16T20:26:25.376723Z"
    },
    "papermill": {
     "duration": 0.453368,
     "end_time": "2020-11-16T20:26:25.377587",
     "exception": false,
     "start_time": "2020-11-16T20:26:24.924219",
     "status": "completed"
    },
    "tags": []
   },
   "outputs": [],
   "source": [
    "runs['Dissimal_Type'] = runs['Dissimal_Type'].replace(r'^\\s*$', np.nan, regex=True)"
   ]
  },
  {
   "cell_type": "code",
   "execution_count": 9,
   "metadata": {
    "execution": {
     "iopub.execute_input": "2020-11-16T20:26:25.497276Z",
     "iopub.status.busy": "2020-11-16T20:26:25.496294Z",
     "iopub.status.idle": "2020-11-16T20:26:25.501171Z",
     "shell.execute_reply": "2020-11-16T20:26:25.501894Z"
    },
    "papermill": {
     "duration": 0.070491,
     "end_time": "2020-11-16T20:26:25.502086",
     "exception": false,
     "start_time": "2020-11-16T20:26:25.431595",
     "status": "completed"
    },
    "tags": []
   },
   "outputs": [
    {
     "data": {
      "text/plain": [
       "Match_Id                     int64\n",
       "Innings_Id                   int64\n",
       "Over_Id                      int64\n",
       "Ball_Id                      int64\n",
       "Team_Batting_Id              int64\n",
       "Team_Bowling_Id              int64\n",
       "Striker_Id                   int64\n",
       "Striker_Batting_Position     int64\n",
       "Non_Striker_Id               int64\n",
       "Bowler_Id                    int64\n",
       "Batsman_Scored              object\n",
       "Extra_Type                  object\n",
       "Extra_Runs                  object\n",
       "Player_dissimal_Id          object\n",
       "Dissimal_Type               object\n",
       "Fielder_Id                  object\n",
       "dtype: object"
      ]
     },
     "execution_count": 9,
     "metadata": {},
     "output_type": "execute_result"
    }
   ],
   "source": [
    "runs.dtypes"
   ]
  },
  {
   "cell_type": "code",
   "execution_count": 10,
   "metadata": {
    "execution": {
     "iopub.execute_input": "2020-11-16T20:26:25.807060Z",
     "iopub.status.busy": "2020-11-16T20:26:25.806298Z",
     "iopub.status.idle": "2020-11-16T20:26:26.020492Z",
     "shell.execute_reply": "2020-11-16T20:26:26.019394Z"
    },
    "executionInfo": {
     "elapsed": 2271,
     "status": "ok",
     "timestamp": 1596356836018,
     "user": {
      "displayName": "RUCHI BHATIA",
      "photoUrl": "",
      "userId": "04469733066996764193"
     },
     "user_tz": -330
    },
    "id": "Tkd4CxUx2sKN",
    "outputId": "56a12c3f-888e-4c71-8239-2fae58372acf",
    "papermill": {
     "duration": 0.461973,
     "end_time": "2020-11-16T20:26:26.020719",
     "exception": false,
     "start_time": "2020-11-16T20:26:25.558746",
     "status": "completed"
    },
    "tags": []
   },
   "outputs": [],
   "source": [
    "runs[\"Extra_Runs\"] = pd.to_numeric(runs[\"Extra_Runs\"], errors=\"coerce\")\n",
    "runs[\"Extra_Runs\"] = runs[\"Extra_Runs\"].fillna(0)\n",
    "\n",
    "runs[\"Batsman_Scored\"] = pd.to_numeric(runs[\"Batsman_Scored\"], errors=\"coerce\")\n",
    "runs[\"Batsman_Scored\"] = runs[\"Batsman_Scored\"].fillna(0)"
   ]
  },
  {
   "cell_type": "code",
   "execution_count": 11,
   "metadata": {
    "execution": {
     "iopub.execute_input": "2020-11-16T20:26:26.162996Z",
     "iopub.status.busy": "2020-11-16T20:26:26.161921Z",
     "iopub.status.idle": "2020-11-16T20:26:26.166174Z",
     "shell.execute_reply": "2020-11-16T20:26:26.166952Z"
    },
    "papermill": {
     "duration": 0.081066,
     "end_time": "2020-11-16T20:26:26.167197",
     "exception": false,
     "start_time": "2020-11-16T20:26:26.086131",
     "status": "completed"
    },
    "tags": []
   },
   "outputs": [
    {
     "data": {
      "text/html": [
       "<div>\n",
       "<style scoped>\n",
       "    .dataframe tbody tr th:only-of-type {\n",
       "        vertical-align: middle;\n",
       "    }\n",
       "\n",
       "    .dataframe tbody tr th {\n",
       "        vertical-align: top;\n",
       "    }\n",
       "\n",
       "    .dataframe thead th {\n",
       "        text-align: right;\n",
       "    }\n",
       "</style>\n",
       "<table border=\"1\" class=\"dataframe\">\n",
       "  <thead>\n",
       "    <tr style=\"text-align: right;\">\n",
       "      <th></th>\n",
       "      <th>Match_Id</th>\n",
       "      <th>Innings_Id</th>\n",
       "      <th>Over_Id</th>\n",
       "      <th>Ball_Id</th>\n",
       "      <th>Team_Batting_Id</th>\n",
       "      <th>Team_Bowling_Id</th>\n",
       "      <th>Striker_Id</th>\n",
       "      <th>Striker_Batting_Position</th>\n",
       "      <th>Non_Striker_Id</th>\n",
       "      <th>Bowler_Id</th>\n",
       "      <th>Batsman_Scored</th>\n",
       "      <th>Extra_Type</th>\n",
       "      <th>Extra_Runs</th>\n",
       "      <th>Player_dissimal_Id</th>\n",
       "      <th>Dissimal_Type</th>\n",
       "      <th>Fielder_Id</th>\n",
       "    </tr>\n",
       "  </thead>\n",
       "  <tbody>\n",
       "    <tr>\n",
       "      <th>0</th>\n",
       "      <td>335987</td>\n",
       "      <td>1</td>\n",
       "      <td>1</td>\n",
       "      <td>1</td>\n",
       "      <td>1</td>\n",
       "      <td>2</td>\n",
       "      <td>1</td>\n",
       "      <td>1</td>\n",
       "      <td>2</td>\n",
       "      <td>14</td>\n",
       "      <td>0.0</td>\n",
       "      <td>legbyes</td>\n",
       "      <td>1.0</td>\n",
       "      <td></td>\n",
       "      <td>NaN</td>\n",
       "      <td></td>\n",
       "    </tr>\n",
       "    <tr>\n",
       "      <th>1</th>\n",
       "      <td>335987</td>\n",
       "      <td>1</td>\n",
       "      <td>1</td>\n",
       "      <td>2</td>\n",
       "      <td>1</td>\n",
       "      <td>2</td>\n",
       "      <td>2</td>\n",
       "      <td>2</td>\n",
       "      <td>1</td>\n",
       "      <td>14</td>\n",
       "      <td>0.0</td>\n",
       "      <td></td>\n",
       "      <td>0.0</td>\n",
       "      <td></td>\n",
       "      <td>NaN</td>\n",
       "      <td></td>\n",
       "    </tr>\n",
       "    <tr>\n",
       "      <th>2</th>\n",
       "      <td>335987</td>\n",
       "      <td>1</td>\n",
       "      <td>1</td>\n",
       "      <td>3</td>\n",
       "      <td>1</td>\n",
       "      <td>2</td>\n",
       "      <td>2</td>\n",
       "      <td>2</td>\n",
       "      <td>1</td>\n",
       "      <td>14</td>\n",
       "      <td>0.0</td>\n",
       "      <td>wides</td>\n",
       "      <td>1.0</td>\n",
       "      <td></td>\n",
       "      <td>NaN</td>\n",
       "      <td></td>\n",
       "    </tr>\n",
       "    <tr>\n",
       "      <th>3</th>\n",
       "      <td>335987</td>\n",
       "      <td>1</td>\n",
       "      <td>1</td>\n",
       "      <td>4</td>\n",
       "      <td>1</td>\n",
       "      <td>2</td>\n",
       "      <td>2</td>\n",
       "      <td>2</td>\n",
       "      <td>1</td>\n",
       "      <td>14</td>\n",
       "      <td>0.0</td>\n",
       "      <td></td>\n",
       "      <td>0.0</td>\n",
       "      <td></td>\n",
       "      <td>NaN</td>\n",
       "      <td></td>\n",
       "    </tr>\n",
       "    <tr>\n",
       "      <th>4</th>\n",
       "      <td>335987</td>\n",
       "      <td>1</td>\n",
       "      <td>1</td>\n",
       "      <td>5</td>\n",
       "      <td>1</td>\n",
       "      <td>2</td>\n",
       "      <td>2</td>\n",
       "      <td>2</td>\n",
       "      <td>1</td>\n",
       "      <td>14</td>\n",
       "      <td>0.0</td>\n",
       "      <td></td>\n",
       "      <td>0.0</td>\n",
       "      <td></td>\n",
       "      <td>NaN</td>\n",
       "      <td></td>\n",
       "    </tr>\n",
       "  </tbody>\n",
       "</table>\n",
       "</div>"
      ],
      "text/plain": [
       "   Match_Id  Innings_Id  Over_Id  Ball_Id  Team_Batting_Id  Team_Bowling_Id  \\\n",
       "0    335987           1        1        1                1                2   \n",
       "1    335987           1        1        2                1                2   \n",
       "2    335987           1        1        3                1                2   \n",
       "3    335987           1        1        4                1                2   \n",
       "4    335987           1        1        5                1                2   \n",
       "\n",
       "   Striker_Id  Striker_Batting_Position  Non_Striker_Id  Bowler_Id  \\\n",
       "0           1                         1               2         14   \n",
       "1           2                         2               1         14   \n",
       "2           2                         2               1         14   \n",
       "3           2                         2               1         14   \n",
       "4           2                         2               1         14   \n",
       "\n",
       "   Batsman_Scored Extra_Type  Extra_Runs Player_dissimal_Id Dissimal_Type  \\\n",
       "0             0.0    legbyes         1.0                              NaN   \n",
       "1             0.0                    0.0                              NaN   \n",
       "2             0.0      wides         1.0                              NaN   \n",
       "3             0.0                    0.0                              NaN   \n",
       "4             0.0                    0.0                              NaN   \n",
       "\n",
       "  Fielder_Id  \n",
       "0             \n",
       "1             \n",
       "2             \n",
       "3             \n",
       "4             "
      ]
     },
     "execution_count": 11,
     "metadata": {},
     "output_type": "execute_result"
    }
   ],
   "source": [
    "runs.head()"
   ]
  },
  {
   "cell_type": "markdown",
   "metadata": {
    "id": "Ss5tZiHb2sKS",
    "papermill": {
     "duration": 0.06582,
     "end_time": "2020-11-16T20:26:26.310371",
     "exception": false,
     "start_time": "2020-11-16T20:26:26.244551",
     "status": "completed"
    },
    "tags": []
   },
   "source": [
    "### Batsmen"
   ]
  },
  {
   "cell_type": "markdown",
   "metadata": {
    "id": "bZo83Ps0T3bD",
    "papermill": {
     "duration": 0.055671,
     "end_time": "2020-11-16T20:26:26.422988",
     "exception": false,
     "start_time": "2020-11-16T20:26:26.367317",
     "status": "completed"
    },
    "tags": []
   },
   "source": [
    "> *strike_rate = runs per 100 balls faced*"
   ]
  },
  {
   "cell_type": "code",
   "execution_count": 12,
   "metadata": {
    "execution": {
     "iopub.execute_input": "2020-11-16T20:26:26.547960Z",
     "iopub.status.busy": "2020-11-16T20:26:26.544779Z",
     "iopub.status.idle": "2020-11-16T20:26:27.389056Z",
     "shell.execute_reply": "2020-11-16T20:26:27.388326Z"
    },
    "executionInfo": {
     "elapsed": 2959,
     "status": "ok",
     "timestamp": 1596356836710,
     "user": {
      "displayName": "RUCHI BHATIA",
      "photoUrl": "",
      "userId": "04469733066996764193"
     },
     "user_tz": -330
    },
    "id": "1dH7kCK12sKU",
    "papermill": {
     "duration": 0.909924,
     "end_time": "2020-11-16T20:26:27.389203",
     "exception": false,
     "start_time": "2020-11-16T20:26:26.479279",
     "status": "completed"
    },
    "tags": []
   },
   "outputs": [],
   "source": [
    "batsmen_runs = []\n",
    "batsmen_ballsFaced = []\n",
    "\n",
    "for i in runs[\"Striker_Id\"].unique():\n",
    "    r = runs[\"Batsman_Scored\"][runs[\"Striker_Id\"] == i].sum()\n",
    "    b = runs[\"Match_Id\"][runs[\"Striker_Id\"] == i].count()\n",
    "    batsmen_runs.append(r)\n",
    "    batsmen_ballsFaced.append(b)\n",
    "\n",
    "batsmen = pd.DataFrame({\"Player_Id\": runs[\"Striker_Id\"].unique()})\n",
    "\n",
    "batsmen[\"Runs\"] = batsmen_runs\n",
    "batsmen[\"Balls_played\"] = batsmen_ballsFaced\n",
    "\n",
    "batsmen[\"Strike_Rate\"] = (batsmen[\"Runs\"] * 100 / batsmen[\"Balls_played\"]).round(2)"
   ]
  },
  {
   "cell_type": "code",
   "execution_count": 13,
   "metadata": {
    "execution": {
     "iopub.execute_input": "2020-11-16T20:26:27.519733Z",
     "iopub.status.busy": "2020-11-16T20:26:27.518554Z",
     "iopub.status.idle": "2020-11-16T20:26:27.523361Z",
     "shell.execute_reply": "2020-11-16T20:26:27.523951Z"
    },
    "papermill": {
     "duration": 0.077025,
     "end_time": "2020-11-16T20:26:27.524165",
     "exception": false,
     "start_time": "2020-11-16T20:26:27.447140",
     "status": "completed"
    },
    "tags": []
   },
   "outputs": [
    {
     "data": {
      "text/html": [
       "<div>\n",
       "<style scoped>\n",
       "    .dataframe tbody tr th:only-of-type {\n",
       "        vertical-align: middle;\n",
       "    }\n",
       "\n",
       "    .dataframe tbody tr th {\n",
       "        vertical-align: top;\n",
       "    }\n",
       "\n",
       "    .dataframe thead th {\n",
       "        text-align: right;\n",
       "    }\n",
       "</style>\n",
       "<table border=\"1\" class=\"dataframe\">\n",
       "  <thead>\n",
       "    <tr style=\"text-align: right;\">\n",
       "      <th></th>\n",
       "      <th>Player_Id</th>\n",
       "      <th>Runs</th>\n",
       "      <th>Balls_played</th>\n",
       "      <th>Strike_Rate</th>\n",
       "    </tr>\n",
       "  </thead>\n",
       "  <tbody>\n",
       "    <tr>\n",
       "      <th>0</th>\n",
       "      <td>1</td>\n",
       "      <td>1349.0</td>\n",
       "      <td>1326</td>\n",
       "      <td>101.73</td>\n",
       "    </tr>\n",
       "    <tr>\n",
       "      <th>1</th>\n",
       "      <td>2</td>\n",
       "      <td>2435.0</td>\n",
       "      <td>1954</td>\n",
       "      <td>124.62</td>\n",
       "    </tr>\n",
       "    <tr>\n",
       "      <th>2</th>\n",
       "      <td>3</td>\n",
       "      <td>91.0</td>\n",
       "      <td>129</td>\n",
       "      <td>70.54</td>\n",
       "    </tr>\n",
       "    <tr>\n",
       "      <th>3</th>\n",
       "      <td>4</td>\n",
       "      <td>1322.0</td>\n",
       "      <td>1101</td>\n",
       "      <td>120.07</td>\n",
       "    </tr>\n",
       "    <tr>\n",
       "      <th>4</th>\n",
       "      <td>5</td>\n",
       "      <td>64.0</td>\n",
       "      <td>84</td>\n",
       "      <td>76.19</td>\n",
       "    </tr>\n",
       "  </tbody>\n",
       "</table>\n",
       "</div>"
      ],
      "text/plain": [
       "   Player_Id    Runs  Balls_played  Strike_Rate\n",
       "0          1  1349.0          1326       101.73\n",
       "1          2  2435.0          1954       124.62\n",
       "2          3    91.0           129        70.54\n",
       "3          4  1322.0          1101       120.07\n",
       "4          5    64.0            84        76.19"
      ]
     },
     "execution_count": 13,
     "metadata": {},
     "output_type": "execute_result"
    }
   ],
   "source": [
    "batsmen.head(5)"
   ]
  },
  {
   "cell_type": "code",
   "execution_count": 14,
   "metadata": {
    "execution": {
     "iopub.execute_input": "2020-11-16T20:26:27.651682Z",
     "iopub.status.busy": "2020-11-16T20:26:27.650626Z",
     "iopub.status.idle": "2020-11-16T20:26:27.654137Z",
     "shell.execute_reply": "2020-11-16T20:26:27.653184Z"
    },
    "papermill": {
     "duration": 0.072865,
     "end_time": "2020-11-16T20:26:27.654316",
     "exception": false,
     "start_time": "2020-11-16T20:26:27.581451",
     "status": "completed"
    },
    "tags": []
   },
   "outputs": [],
   "source": [
    "def triple_plot(x, title,c):\n",
    "    fig, ax = plt.subplots(3,1,figsize=(20,12),sharex=True)\n",
    "    sns.distplot(x, ax=ax[0],color=c)\n",
    "    ax[0].set(xlabel=None)\n",
    "    ax[0].set_title('Histogram + KDE')\n",
    "    sns.boxplot(x, ax=ax[1],color=c)\n",
    "    ax[1].set(xlabel=None)\n",
    "    ax[1].set_title('Boxplot')\n",
    "    sns.violinplot(x, ax=ax[2],color=c)\n",
    "    ax[2].set(xlabel=None)\n",
    "    ax[2].set_title('Violin plot')\n",
    "    fig.suptitle(title, fontsize=25)\n",
    "    plt.tight_layout(pad=3.0)\n",
    "    plt.show()"
   ]
  },
  {
   "cell_type": "code",
   "execution_count": 15,
   "metadata": {
    "execution": {
     "iopub.execute_input": "2020-11-16T20:26:27.805951Z",
     "iopub.status.busy": "2020-11-16T20:26:27.798177Z",
     "iopub.status.idle": "2020-11-16T20:26:28.706256Z",
     "shell.execute_reply": "2020-11-16T20:26:28.705633Z"
    },
    "papermill": {
     "duration": 0.973749,
     "end_time": "2020-11-16T20:26:28.706400",
     "exception": false,
     "start_time": "2020-11-16T20:26:27.732651",
     "status": "completed"
    },
    "tags": []
   },
   "outputs": [
    {
     "data": {
      "image/png": "[encoded data removed]",
      "text/plain": [
       "<Figure size 1440x864 with 3 Axes>"
      ]
     },
     "metadata": {
      "needs_background": "light"
     },
     "output_type": "display_data"
    }
   ],
   "source": [
    "triple_plot(batsmen[\"Strike_Rate\"],'Distribution of Strike Rate',custom_colors[0])"
   ]
  },
  {
   "cell_type": "markdown",
   "metadata": {
    "papermill": {
     "duration": 0.059949,
     "end_time": "2020-11-16T20:26:28.828218",
     "exception": false,
     "start_time": "2020-11-16T20:26:28.768269",
     "status": "completed"
    },
    "tags": []
   },
   "source": [
    "*We notice the presence of outliers with the help of the box plot for strike rate.*"
   ]
  },
  {
   "cell_type": "markdown",
   "metadata": {
    "papermill": {
     "duration": 0.059335,
     "end_time": "2020-11-16T20:26:28.948088",
     "exception": false,
     "start_time": "2020-11-16T20:26:28.888753",
     "status": "completed"
    },
    "tags": []
   },
   "source": [
    "*Players with low strike rate are eliminated*"
   ]
  },
  {
   "cell_type": "code",
   "execution_count": 16,
   "metadata": {
    "execution": {
     "iopub.execute_input": "2020-11-16T20:26:29.077050Z",
     "iopub.status.busy": "2020-11-16T20:26:29.076252Z",
     "iopub.status.idle": "2020-11-16T20:26:29.082181Z",
     "shell.execute_reply": "2020-11-16T20:26:29.081130Z"
    },
    "executionInfo": {
     "elapsed": 2950,
     "status": "ok",
     "timestamp": 1596356836711,
     "user": {
      "displayName": "RUCHI BHATIA",
      "photoUrl": "",
      "userId": "04469733066996764193"
     },
     "user_tz": -330
    },
    "id": "ldIj7zQPUaBb",
    "papermill": {
     "duration": 0.074831,
     "end_time": "2020-11-16T20:26:29.082369",
     "exception": false,
     "start_time": "2020-11-16T20:26:29.007538",
     "status": "completed"
    },
    "tags": []
   },
   "outputs": [],
   "source": [
    "batsmen = batsmen[batsmen[\"Strike_Rate\"] > 120]"
   ]
  },
  {
   "cell_type": "code",
   "execution_count": 17,
   "metadata": {
    "execution": {
     "iopub.execute_input": "2020-11-16T20:26:29.230546Z",
     "iopub.status.busy": "2020-11-16T20:26:29.229487Z",
     "iopub.status.idle": "2020-11-16T20:26:29.234977Z",
     "shell.execute_reply": "2020-11-16T20:26:29.234155Z"
    },
    "executionInfo": {
     "elapsed": 2942,
     "status": "ok",
     "timestamp": 1596356836712,
     "user": {
      "displayName": "RUCHI BHATIA",
      "photoUrl": "",
      "userId": "04469733066996764193"
     },
     "user_tz": -330
    },
    "id": "BzHnc5NbrzSm",
    "outputId": "15e42311-c5ad-44b9-de35-f6a70ad470ea",
    "papermill": {
     "duration": 0.079235,
     "end_time": "2020-11-16T20:26:29.235164",
     "exception": false,
     "start_time": "2020-11-16T20:26:29.155929",
     "status": "completed"
    },
    "tags": []
   },
   "outputs": [
    {
     "data": {
      "text/html": [
       "<div>\n",
       "<style scoped>\n",
       "    .dataframe tbody tr th:only-of-type {\n",
       "        vertical-align: middle;\n",
       "    }\n",
       "\n",
       "    .dataframe tbody tr th {\n",
       "        vertical-align: top;\n",
       "    }\n",
       "\n",
       "    .dataframe thead th {\n",
       "        text-align: right;\n",
       "    }\n",
       "</style>\n",
       "<table border=\"1\" class=\"dataframe\">\n",
       "  <thead>\n",
       "    <tr style=\"text-align: right;\">\n",
       "      <th></th>\n",
       "      <th>Player_Id</th>\n",
       "      <th>Runs</th>\n",
       "      <th>Balls_played</th>\n",
       "      <th>Strike_Rate</th>\n",
       "    </tr>\n",
       "  </thead>\n",
       "  <tbody>\n",
       "    <tr>\n",
       "      <th>1</th>\n",
       "      <td>2</td>\n",
       "      <td>2435.0</td>\n",
       "      <td>1954</td>\n",
       "      <td>124.62</td>\n",
       "    </tr>\n",
       "    <tr>\n",
       "      <th>3</th>\n",
       "      <td>4</td>\n",
       "      <td>1322.0</td>\n",
       "      <td>1101</td>\n",
       "      <td>120.07</td>\n",
       "    </tr>\n",
       "    <tr>\n",
       "      <th>7</th>\n",
       "      <td>8</td>\n",
       "      <td>4105.0</td>\n",
       "      <td>3236</td>\n",
       "      <td>126.85</td>\n",
       "    </tr>\n",
       "    <tr>\n",
       "      <th>9</th>\n",
       "      <td>10</td>\n",
       "      <td>971.0</td>\n",
       "      <td>774</td>\n",
       "      <td>125.45</td>\n",
       "    </tr>\n",
       "    <tr>\n",
       "      <th>10</th>\n",
       "      <td>11</td>\n",
       "      <td>394.0</td>\n",
       "      <td>318</td>\n",
       "      <td>123.90</td>\n",
       "    </tr>\n",
       "  </tbody>\n",
       "</table>\n",
       "</div>"
      ],
      "text/plain": [
       "    Player_Id    Runs  Balls_played  Strike_Rate\n",
       "1           2  2435.0          1954       124.62\n",
       "3           4  1322.0          1101       120.07\n",
       "7           8  4105.0          3236       126.85\n",
       "9          10   971.0           774       125.45\n",
       "10         11   394.0           318       123.90"
      ]
     },
     "execution_count": 17,
     "metadata": {},
     "output_type": "execute_result"
    }
   ],
   "source": [
    "batsmen.head()"
   ]
  },
  {
   "cell_type": "code",
   "execution_count": 18,
   "metadata": {
    "execution": {
     "iopub.execute_input": "2020-11-16T20:26:29.391551Z",
     "iopub.status.busy": "2020-11-16T20:26:29.389122Z",
     "iopub.status.idle": "2020-11-16T20:26:30.221925Z",
     "shell.execute_reply": "2020-11-16T20:26:30.220832Z"
    },
    "executionInfo": {
     "elapsed": 3619,
     "status": "ok",
     "timestamp": 1596356837395,
     "user": {
      "displayName": "RUCHI BHATIA",
      "photoUrl": "",
      "userId": "04469733066996764193"
     },
     "user_tz": -330
    },
    "id": "DF1A1XHC2sKZ",
    "outputId": "713c3dde-6f97-43de-ad33-790e37469c42",
    "papermill": {
     "duration": 0.906675,
     "end_time": "2020-11-16T20:26:30.222140",
     "exception": false,
     "start_time": "2020-11-16T20:26:29.315465",
     "status": "completed"
    },
    "tags": []
   },
   "outputs": [
    {
     "data": {
      "image/png": "[encoded data removed]",
      "text/plain": [
       "<Figure size 1440x864 with 3 Axes>"
      ]
     },
     "metadata": {
      "needs_background": "light"
     },
     "output_type": "display_data"
    }
   ],
   "source": [
    "triple_plot(batsmen[\"Strike_Rate\"],'Distribution of Strike Rate',custom_colors[1])"
   ]
  },
  {
   "cell_type": "code",
   "execution_count": 19,
   "metadata": {
    "execution": {
     "iopub.execute_input": "2020-11-16T20:26:30.364411Z",
     "iopub.status.busy": "2020-11-16T20:26:30.363240Z",
     "iopub.status.idle": "2020-11-16T20:26:30.367576Z",
     "shell.execute_reply": "2020-11-16T20:26:30.366740Z"
    },
    "papermill": {
     "duration": 0.079543,
     "end_time": "2020-11-16T20:26:30.367744",
     "exception": false,
     "start_time": "2020-11-16T20:26:30.288201",
     "status": "completed"
    },
    "tags": []
   },
   "outputs": [],
   "source": [
    "def scatter_plot(data,title,c,col1,col2):\n",
    "    fig = plt.figure(figsize=(12,6))\n",
    "    sns.scatterplot(x=col1, y=col2, data=data,color=c)\n",
    "    plt.title(title)\n",
    "    plt.show()"
   ]
  },
  {
   "cell_type": "markdown",
   "metadata": {
    "id": "96vlEl8u2sKc",
    "papermill": {
     "duration": 0.066159,
     "end_time": "2020-11-16T20:26:30.500784",
     "exception": false,
     "start_time": "2020-11-16T20:26:30.434625",
     "status": "completed"
    },
    "tags": []
   },
   "source": [
    "### K Means Clustering on Batsmen Data "
   ]
  },
  {
   "cell_type": "code",
   "execution_count": 20,
   "metadata": {
    "execution": {
     "iopub.execute_input": "2020-11-16T20:26:30.652897Z",
     "iopub.status.busy": "2020-11-16T20:26:30.651914Z",
     "iopub.status.idle": "2020-11-16T20:26:30.655735Z",
     "shell.execute_reply": "2020-11-16T20:26:30.655133Z"
    },
    "papermill": {
     "duration": 0.091569,
     "end_time": "2020-11-16T20:26:30.655873",
     "exception": false,
     "start_time": "2020-11-16T20:26:30.564304",
     "status": "completed"
    },
    "tags": []
   },
   "outputs": [],
   "source": [
    "def elbow_method(X):\n",
    "    distortions = [] \n",
    "    inertias = [] \n",
    "    mapping1 = {} \n",
    "    mapping2 = {} \n",
    "    K = range(2,10) \n",
    "\n",
    "    for k in K:  \n",
    "        kmeans = KMeans(n_clusters=k)\n",
    "        kmeans.fit(X)     \n",
    "\n",
    "        distortions.append(sum(np.min(cdist(X, kmeans.cluster_centers_, \n",
    "                          'euclidean'),axis=1)) / X.shape[0]) \n",
    "        inertias.append(kmeans.inertia_) \n",
    "\n",
    "        mapping1[k] = sum(np.min(cdist(X, kmeans.cluster_centers_, \n",
    "                     'euclidean'),axis=1)) / X.shape[0] \n",
    "        mapping2[k] = kmeans.inertia_ \n",
    "\n",
    "    print(\"Distortion\")\n",
    "    for key,val in mapping1.items(): \n",
    "        print(str(key)+' : '+str(val)) \n",
    "\n",
    "    print(\"Inertia\")\n",
    "    for key,val in mapping2.items(): \n",
    "        print(str(key)+' : '+str(val)) \n",
    "\n",
    "    plt.plot(K, distortions, 'bx-',color=custom_colors[3]) \n",
    "    plt.xlabel('Values of K') \n",
    "    plt.ylabel('Distortion') \n",
    "    plt.xticks(K)\n",
    "    plt.title('Elbow Method using Distortion') \n",
    "    plt.show() \n",
    "\n",
    "    plt.plot(K, inertias, 'bx-',color=custom_colors[4]) \n",
    "    plt.xlabel('Values of K') \n",
    "    plt.ylabel('Inertia') \n",
    "    plt.xticks(K)\n",
    "    plt.title('Elbow Method using Inertia') \n",
    "    plt.show() "
   ]
  },
  {
   "cell_type": "code",
   "execution_count": 21,
   "metadata": {
    "execution": {
     "iopub.execute_input": "2020-11-16T20:26:30.798781Z",
     "iopub.status.busy": "2020-11-16T20:26:30.797609Z",
     "iopub.status.idle": "2020-11-16T20:26:31.470648Z",
     "shell.execute_reply": "2020-11-16T20:26:31.471249Z"
    },
    "papermill": {
     "duration": 0.750308,
     "end_time": "2020-11-16T20:26:31.471437",
     "exception": false,
     "start_time": "2020-11-16T20:26:30.721129",
     "status": "completed"
    },
    "tags": []
   },
   "outputs": [
    {
     "name": "stdout",
     "output_type": "stream",
     "text": [
      "Distortion\n",
      "2 : 373.7675670507112\n",
      "3 : 220.55246141798668\n",
      "4 : 161.56215104490275\n",
      "5 : 128.79189157004683\n",
      "6 : 116.1682783375728\n",
      "7 : 92.56098674557762\n",
      "8 : 82.68223677986197\n",
      "9 : 68.68341536344919\n",
      "Inertia\n",
      "2 : 27964964.465512753\n",
      "3 : 13873508.04033103\n",
      "4 : 5512937.505840904\n",
      "5 : 3505558.5424463726\n",
      "6 : 2709186.9748408175\n",
      "7 : 1910696.9009444402\n",
      "8 : 1282211.1909693487\n",
      "9 : 906374.8747559212\n"
     ]
    },
    {
     "data": {
      "image/png": "[encoded data removed]",
      "text/plain": [
       "<Figure size 432x288 with 1 Axes>"
      ]
     },
     "metadata": {
      "needs_background": "light"
     },
     "output_type": "display_data"
    },
    {
     "data": {
      "image/png": "[encoded data removed]",
      "text/plain": [
       "<Figure size 432x288 with 1 Axes>"
      ]
     },
     "metadata": {
      "needs_background": "light"
     },
     "output_type": "display_data"
    }
   ],
   "source": [
    "elbow_method(batsmen[[\"Strike_Rate\", \"Runs\"]])"
   ]
  },
  {
   "cell_type": "code",
   "execution_count": 22,
   "metadata": {
    "execution": {
     "iopub.execute_input": "2020-11-16T20:26:31.615415Z",
     "iopub.status.busy": "2020-11-16T20:26:31.614545Z",
     "iopub.status.idle": "2020-11-16T20:26:31.618059Z",
     "shell.execute_reply": "2020-11-16T20:26:31.618673Z"
    },
    "papermill": {
     "duration": 0.080423,
     "end_time": "2020-11-16T20:26:31.618838",
     "exception": false,
     "start_time": "2020-11-16T20:26:31.538415",
     "status": "completed"
    },
    "tags": []
   },
   "outputs": [],
   "source": [
    "def scores(X):\n",
    "    K = range(3,8) \n",
    "\n",
    "    for k in K:  \n",
    "        kmeans = KMeans(n_clusters=k)\n",
    "        kmeans.fit(X) \n",
    "        y_hat = kmeans.predict(X)\n",
    "        labels = kmeans.labels_\n",
    "        \n",
    "        a = metrics.silhouette_score(X, labels, metric = 'euclidean')\n",
    "        b = metrics.calinski_harabasz_score(X, labels)\n",
    "        \n",
    "        print(\"k={0}, Silhouette score={1}, Calinski harabasz score={2}\".format(k,a, b))"
   ]
  },
  {
   "cell_type": "code",
   "execution_count": 23,
   "metadata": {
    "execution": {
     "iopub.execute_input": "2020-11-16T20:26:31.762224Z",
     "iopub.status.busy": "2020-11-16T20:26:31.760997Z",
     "iopub.status.idle": "2020-11-16T20:26:32.014318Z",
     "shell.execute_reply": "2020-11-16T20:26:32.015002Z"
    },
    "papermill": {
     "duration": 0.328514,
     "end_time": "2020-11-16T20:26:32.015205",
     "exception": false,
     "start_time": "2020-11-16T20:26:31.686691",
     "status": "completed"
    },
    "tags": []
   },
   "outputs": [
    {
     "name": "stdout",
     "output_type": "stream",
     "text": [
      "k=3, Silhouette score=0.6936083344492991, Calinski harabasz score=609.1041885568557\n",
      "k=4, Silhouette score=0.7153226890295874, Calinski harabasz score=1079.804486795056\n",
      "k=5, Silhouette score=0.6643845661980747, Calinski harabasz score=1282.26794241417\n",
      "k=6, Silhouette score=0.635199608948108, Calinski harabasz score=1325.647018084192\n",
      "k=7, Silhouette score=0.6336067778587674, Calinski harabasz score=1561.7377647734513\n"
     ]
    }
   ],
   "source": [
    "scores(batsmen[[\"Strike_Rate\", \"Runs\"]])"
   ]
  },
  {
   "cell_type": "code",
   "execution_count": 24,
   "metadata": {
    "execution": {
     "iopub.execute_input": "2020-11-16T20:26:32.171759Z",
     "iopub.status.busy": "2020-11-16T20:26:32.170831Z",
     "iopub.status.idle": "2020-11-16T20:26:32.420968Z",
     "shell.execute_reply": "2020-11-16T20:26:32.420373Z"
    },
    "executionInfo": {
     "elapsed": 4508,
     "status": "ok",
     "timestamp": 1596356838299,
     "user": {
      "displayName": "RUCHI BHATIA",
      "photoUrl": "",
      "userId": "04469733066996764193"
     },
     "user_tz": -330
    },
    "id": "3WBox7ln2sKi",
    "outputId": "67bd8c62-4fea-4300-9eeb-f9d202e281b6",
    "papermill": {
     "duration": 0.333364,
     "end_time": "2020-11-16T20:26:32.421123",
     "exception": false,
     "start_time": "2020-11-16T20:26:32.087759",
     "status": "completed"
    },
    "tags": []
   },
   "outputs": [
    {
     "data": {
      "image/png": "[encoded data removed]",
      "text/plain": [
       "<Figure size 864x432 with 1 Axes>"
      ]
     },
     "metadata": {
      "needs_background": "light"
     },
     "output_type": "display_data"
    }
   ],
   "source": [
    "kmeans = KMeans(n_clusters=4)\n",
    "kmeans.fit(batsmen[[\"Strike_Rate\", \"Runs\"]])\n",
    "batsmen[\"cluster\"] = kmeans.labels_\n",
    "\n",
    "fig = plt.figure(figsize=(12,6))\n",
    "\n",
    "colors = custom_colors\n",
    "\n",
    "for r in range(1,6):\n",
    "    clustered_Batsmen = batsmen[batsmen[\"cluster\"] == r]\n",
    "    plt.scatter(clustered_Batsmen[\"Strike_Rate\"], clustered_Batsmen[\"Runs\"], color=colors[r-1])\n",
    "    \n",
    "plt.title(\"IPL Batsmen\")\n",
    "plt.xlabel(\"Strike Rate of the Batsmen\")\n",
    "plt.ylabel(\"Runs scored by the Batsmen\")\n",
    "plt.show()"
   ]
  },
  {
   "cell_type": "code",
   "execution_count": 25,
   "metadata": {
    "execution": {
     "iopub.execute_input": "2020-11-16T20:26:32.566768Z",
     "iopub.status.busy": "2020-11-16T20:26:32.565753Z",
     "iopub.status.idle": "2020-11-16T20:26:32.569116Z",
     "shell.execute_reply": "2020-11-16T20:26:32.568506Z"
    },
    "executionInfo": {
     "elapsed": 4502,
     "status": "ok",
     "timestamp": 1596356838300,
     "user": {
      "displayName": "RUCHI BHATIA",
      "photoUrl": "",
      "userId": "04469733066996764193"
     },
     "user_tz": -330
    },
    "id": "GIKcJx_l2sKm",
    "outputId": "baf3eb8a-d5e8-488b-caa3-f52546ae4303",
    "papermill": {
     "duration": 0.079658,
     "end_time": "2020-11-16T20:26:32.569269",
     "exception": false,
     "start_time": "2020-11-16T20:26:32.489611",
     "status": "completed"
    },
    "tags": []
   },
   "outputs": [],
   "source": [
    "batsmen = batsmen.sort_values(by='cluster')"
   ]
  },
  {
   "cell_type": "code",
   "execution_count": 26,
   "metadata": {
    "execution": {
     "iopub.execute_input": "2020-11-16T20:26:32.716286Z",
     "iopub.status.busy": "2020-11-16T20:26:32.715425Z",
     "iopub.status.idle": "2020-11-16T20:26:32.719075Z",
     "shell.execute_reply": "2020-11-16T20:26:32.718441Z"
    },
    "executionInfo": {
     "elapsed": 4497,
     "status": "ok",
     "timestamp": 1596356838300,
     "user": {
      "displayName": "RUCHI BHATIA",
      "photoUrl": "",
      "userId": "04469733066996764193"
     },
     "user_tz": -330
    },
    "id": "ECtB5wqnLWQr",
    "papermill": {
     "duration": 0.080874,
     "end_time": "2020-11-16T20:26:32.719228",
     "exception": false,
     "start_time": "2020-11-16T20:26:32.638354",
     "status": "completed"
    },
    "tags": []
   },
   "outputs": [],
   "source": [
    "Players_batsmen = players[[\"Player_Id\", \"Player_Name\",\"Batting_Hand\",\"DOB\",\"Country\"]]"
   ]
  },
  {
   "cell_type": "markdown",
   "metadata": {
    "id": "UKuV3Cs8X4cI",
    "papermill": {
     "duration": 0.068163,
     "end_time": "2020-11-16T20:26:32.855771",
     "exception": false,
     "start_time": "2020-11-16T20:26:32.787608",
     "status": "completed"
    },
    "tags": []
   },
   "source": [
    "Displaying the Batting Hand of Batsmen"
   ]
  },
  {
   "cell_type": "code",
   "execution_count": 27,
   "metadata": {
    "execution": {
     "iopub.execute_input": "2020-11-16T20:26:33.005466Z",
     "iopub.status.busy": "2020-11-16T20:26:33.004640Z",
     "iopub.status.idle": "2020-11-16T20:26:33.038335Z",
     "shell.execute_reply": "2020-11-16T20:26:33.037676Z"
    },
    "executionInfo": {
     "elapsed": 4487,
     "status": "ok",
     "timestamp": 1596356838301,
     "user": {
      "displayName": "RUCHI BHATIA",
      "photoUrl": "",
      "userId": "04469733066996764193"
     },
     "user_tz": -330
    },
    "id": "letjLnJ0BM5f",
    "outputId": "00821e12-9925-44d9-cb63-2021de4ff3d3",
    "papermill": {
     "duration": 0.113464,
     "end_time": "2020-11-16T20:26:33.038473",
     "exception": false,
     "start_time": "2020-11-16T20:26:32.925009",
     "status": "completed"
    },
    "tags": []
   },
   "outputs": [
    {
     "data": {
      "text/html": [
       "<div>\n",
       "<style scoped>\n",
       "    .dataframe tbody tr th:only-of-type {\n",
       "        vertical-align: middle;\n",
       "    }\n",
       "\n",
       "    .dataframe tbody tr th {\n",
       "        vertical-align: top;\n",
       "    }\n",
       "\n",
       "    .dataframe thead th {\n",
       "        text-align: right;\n",
       "    }\n",
       "</style>\n",
       "<table border=\"1\" class=\"dataframe\">\n",
       "  <thead>\n",
       "    <tr style=\"text-align: right;\">\n",
       "      <th></th>\n",
       "      <th>Player_Id</th>\n",
       "      <th>Runs</th>\n",
       "      <th>Balls_played</th>\n",
       "      <th>Strike_Rate</th>\n",
       "      <th>cluster</th>\n",
       "      <th>Player_Name</th>\n",
       "      <th>Batting_Hand</th>\n",
       "      <th>DOB</th>\n",
       "      <th>Country</th>\n",
       "    </tr>\n",
       "  </thead>\n",
       "  <tbody>\n",
       "    <tr>\n",
       "      <th>0</th>\n",
       "      <td>236</td>\n",
       "      <td>924.0</td>\n",
       "      <td>760</td>\n",
       "      <td>121.58</td>\n",
       "      <td>0</td>\n",
       "      <td>Mandeep Singh</td>\n",
       "      <td>Right_Hand</td>\n",
       "      <td>18-Dec-91</td>\n",
       "      <td>India</td>\n",
       "    </tr>\n",
       "    <tr>\n",
       "      <th>1</th>\n",
       "      <td>71</td>\n",
       "      <td>1262.0</td>\n",
       "      <td>1032</td>\n",
       "      <td>122.29</td>\n",
       "      <td>0</td>\n",
       "      <td>DJ Bravo</td>\n",
       "      <td>Right_Hand</td>\n",
       "      <td>7-Oct-83</td>\n",
       "      <td>West Indies</td>\n",
       "    </tr>\n",
       "    <tr>\n",
       "      <th>2</th>\n",
       "      <td>383</td>\n",
       "      <td>942.0</td>\n",
       "      <td>762</td>\n",
       "      <td>123.62</td>\n",
       "      <td>0</td>\n",
       "      <td>LMP Simmons</td>\n",
       "      <td>Right_Hand</td>\n",
       "      <td>25-Jan-85</td>\n",
       "      <td>West Indies</td>\n",
       "    </tr>\n",
       "    <tr>\n",
       "      <th>3</th>\n",
       "      <td>104</td>\n",
       "      <td>1400.0</td>\n",
       "      <td>1153</td>\n",
       "      <td>121.42</td>\n",
       "      <td>0</td>\n",
       "      <td>BJ Hodge</td>\n",
       "      <td>Right_Hand</td>\n",
       "      <td>29-Dec-74</td>\n",
       "      <td>Australia</td>\n",
       "    </tr>\n",
       "    <tr>\n",
       "      <th>4</th>\n",
       "      <td>355</td>\n",
       "      <td>726.0</td>\n",
       "      <td>566</td>\n",
       "      <td>128.27</td>\n",
       "      <td>0</td>\n",
       "      <td>Q de Kock</td>\n",
       "      <td>Left_Hand</td>\n",
       "      <td>17-Dec-92</td>\n",
       "      <td>South Africa</td>\n",
       "    </tr>\n",
       "    <tr>\n",
       "      <th>...</th>\n",
       "      <td>...</td>\n",
       "      <td>...</td>\n",
       "      <td>...</td>\n",
       "      <td>...</td>\n",
       "      <td>...</td>\n",
       "      <td>...</td>\n",
       "      <td>...</td>\n",
       "      <td>...</td>\n",
       "      <td>...</td>\n",
       "    </tr>\n",
       "    <tr>\n",
       "      <th>129</th>\n",
       "      <td>208</td>\n",
       "      <td>2325.0</td>\n",
       "      <td>1884</td>\n",
       "      <td>123.41</td>\n",
       "      <td>3</td>\n",
       "      <td>AT Rayudu</td>\n",
       "      <td>Right_Hand</td>\n",
       "      <td>23-Sep-85</td>\n",
       "      <td>India</td>\n",
       "    </tr>\n",
       "    <tr>\n",
       "      <th>130</th>\n",
       "      <td>147</td>\n",
       "      <td>2146.0</td>\n",
       "      <td>1645</td>\n",
       "      <td>130.46</td>\n",
       "      <td>3</td>\n",
       "      <td>DR Smith</td>\n",
       "      <td>Right_Hand</td>\n",
       "      <td>12-Apr-83</td>\n",
       "      <td>West Indies</td>\n",
       "    </tr>\n",
       "    <tr>\n",
       "      <th>131</th>\n",
       "      <td>185</td>\n",
       "      <td>2511.0</td>\n",
       "      <td>2092</td>\n",
       "      <td>120.03</td>\n",
       "      <td>3</td>\n",
       "      <td>M Vijay</td>\n",
       "      <td>Right_Hand</td>\n",
       "      <td>1-Apr-84</td>\n",
       "      <td>India</td>\n",
       "    </tr>\n",
       "    <tr>\n",
       "      <th>132</th>\n",
       "      <td>41</td>\n",
       "      <td>2728.0</td>\n",
       "      <td>1833</td>\n",
       "      <td>148.83</td>\n",
       "      <td>3</td>\n",
       "      <td>V Sehwag</td>\n",
       "      <td>Right_Hand</td>\n",
       "      <td>20-Oct-78</td>\n",
       "      <td>India</td>\n",
       "    </tr>\n",
       "    <tr>\n",
       "      <th>133</th>\n",
       "      <td>2</td>\n",
       "      <td>2435.0</td>\n",
       "      <td>1954</td>\n",
       "      <td>124.62</td>\n",
       "      <td>3</td>\n",
       "      <td>BB McCullum</td>\n",
       "      <td>Right_Hand</td>\n",
       "      <td>27-Sep-81</td>\n",
       "      <td>New Zealand</td>\n",
       "    </tr>\n",
       "  </tbody>\n",
       "</table>\n",
       "<p>134 rows × 9 columns</p>\n",
       "</div>"
      ],
      "text/plain": [
       "     Player_Id    Runs  Balls_played  Strike_Rate  cluster    Player_Name  \\\n",
       "0          236   924.0           760       121.58        0  Mandeep Singh   \n",
       "1           71  1262.0          1032       122.29        0       DJ Bravo   \n",
       "2          383   942.0           762       123.62        0    LMP Simmons   \n",
       "3          104  1400.0          1153       121.42        0       BJ Hodge   \n",
       "4          355   726.0           566       128.27        0      Q de Kock   \n",
       "..         ...     ...           ...          ...      ...            ...   \n",
       "129        208  2325.0          1884       123.41        3      AT Rayudu   \n",
       "130        147  2146.0          1645       130.46        3       DR Smith   \n",
       "131        185  2511.0          2092       120.03        3        M Vijay   \n",
       "132         41  2728.0          1833       148.83        3       V Sehwag   \n",
       "133          2  2435.0          1954       124.62        3    BB McCullum   \n",
       "\n",
       "    Batting_Hand        DOB       Country  \n",
       "0     Right_Hand  18-Dec-91         India  \n",
       "1     Right_Hand   7-Oct-83   West Indies  \n",
       "2     Right_Hand  25-Jan-85   West Indies  \n",
       "3     Right_Hand  29-Dec-74     Australia  \n",
       "4      Left_Hand  17-Dec-92  South Africa  \n",
       "..           ...        ...           ...  \n",
       "129   Right_Hand  23-Sep-85         India  \n",
       "130   Right_Hand  12-Apr-83   West Indies  \n",
       "131   Right_Hand   1-Apr-84         India  \n",
       "132   Right_Hand  20-Oct-78         India  \n",
       "133   Right_Hand  27-Sep-81   New Zealand  \n",
       "\n",
       "[134 rows x 9 columns]"
      ]
     },
     "execution_count": 27,
     "metadata": {},
     "output_type": "execute_result"
    }
   ],
   "source": [
    "batsmen = batsmen[batsmen.columns].merge(Players_batsmen, \"left\")\n",
    "batsmen"
   ]
  },
  {
   "cell_type": "markdown",
   "metadata": {
    "id": "R0sIAEk01Cig",
    "papermill": {
     "duration": 0.071292,
     "end_time": "2020-11-16T20:26:33.181932",
     "exception": false,
     "start_time": "2020-11-16T20:26:33.110640",
     "status": "completed"
    },
    "tags": []
   },
   "source": [
    "**Batting Hand and Cluster assigned to players**"
   ]
  },
  {
   "cell_type": "code",
   "execution_count": 28,
   "metadata": {
    "execution": {
     "iopub.execute_input": "2020-11-16T20:26:33.401116Z",
     "iopub.status.busy": "2020-11-16T20:26:33.399988Z",
     "iopub.status.idle": "2020-11-16T20:26:34.729763Z",
     "shell.execute_reply": "2020-11-16T20:26:34.728982Z"
    },
    "papermill": {
     "duration": 1.406074,
     "end_time": "2020-11-16T20:26:34.729895",
     "exception": false,
     "start_time": "2020-11-16T20:26:33.323821",
     "status": "completed"
    },
    "tags": []
   },
   "outputs": [
    {
     "data": {
      "text/html": [
       "        <script type=\"text/javascript\">\n",
       "        window.PlotlyConfig = {MathJaxConfig: 'local'};\n",
       "        if (window.MathJax) {MathJax.Hub.Config({SVG: {font: \"STIX-Web\"}});}\n",
       "        if (typeof require !== 'undefined') {\n",
       "        require.undef(\"plotly\");\n",
       "        requirejs.config({\n",
       "            paths: {\n",
       "                'plotly': ['https://cdn.plot.ly/plotly-latest.min']\n",
       "            }\n",
       "        });\n",
       "        require(['plotly'], function(Plotly) {\n",
       "            window._Plotly = Plotly;\n",
       "        });\n",
       "        }\n",
       "        </script>\n",
       "        "
      ]
     },
     "metadata": {},
     "output_type": "display_data"
    },
    {
     "data": {
      "text/html": [
       "<div>\n",
       "        \n",
       "        \n",
       "            <div id=\"8776125b-c5db-47bd-82f8-c37397a20670\" class=\"plotly-graph-div\" style=\"height:525px; width:100%;\"></div>\n",
       "            <script type=\"text/javascript\">\n",
       "                require([\"plotly\"], function(Plotly) {\n",
       "                    window.PLOTLYENV=window.PLOTLYENV || {};\n",
       "                    \n",
       "                if (document.getElementById(\"8776125b-c5db-47bd-82f8-c37397a20670\")) {\n",
       "                    Plotly.newPlot(\n",
       "                        '8776125b-c5db-47bd-82f8-c37397a20670',\n",
       "                        [{\"branchvalues\": \"total\", \"customdata\": [[0.0], [0.0], [1.0], [1.0], [2.0], [2.0], [3.0], [3.0], [1.7], [1.5319148936170213]], \"domain\": {\"x\": [0.0, 1.0], \"y\": [0.0, 1.0]}, \"hovertemplate\": \"labels=%{label}<br>count=%{value}<br>parent=%{parent}<br>id=%{id}<br>cluster=%{color}<extra></extra>\", \"ids\": [\"Left_Hand/0\", \"Right_Hand/0\", \"Left_Hand/1\", \"Right_Hand/1\", \"Left_Hand/2\", \"Right_Hand/2\", \"Left_Hand/3\", \"Right_Hand/3\", \"Left_Hand\", \"Right_Hand\"], \"labels\": [\"0\", \"0\", \"1\", \"1\", \"2\", \"2\", \"3\", \"3\", \"Left_Hand\", \"Right_Hand\"], \"marker\": {\"coloraxis\": \"coloraxis\", \"colors\": [0.0, 0.0, 1.0, 1.0, 2.0, 2.0, 3.0, 3.0, 1.7, 1.5319148936170213]}, \"name\": \"\", \"parents\": [\"Left_Hand\", \"Right_Hand\", \"Left_Hand\", \"Right_Hand\", \"Left_Hand\", \"Right_Hand\", \"Left_Hand\", \"Right_Hand\", \"\", \"\"], \"type\": \"sunburst\", \"values\": [6, 24, 4, 5, 26, 56, 4, 9, 40, 94]}],\n",
       "                        {\"coloraxis\": {\"colorbar\": {\"title\": {\"text\": \"cluster\"}}, \"colorscale\": [[0.0, \"#0d0887\"], [0.1111111111111111, \"#46039f\"], [0.2222222222222222, \"#7201a8\"], [0.3333333333333333, \"#9c179e\"], [0.4444444444444444, \"#bd3786\"], [0.5555555555555556, \"#d8576b\"], [0.6666666666666666, \"#ed7953\"], [0.7777777777777778, \"#fb9f3a\"], [0.8888888888888888, \"#fdca26\"], [1.0, \"#f0f921\"]]}, \"legend\": {\"tracegroupgap\": 0}, \"margin\": {\"t\": 60}, \"template\": {\"data\": {\"bar\": [{\"error_x\": {\"color\": \"#2a3f5f\"}, \"error_y\": {\"color\": \"#2a3f5f\"}, \"marker\": {\"line\": {\"color\": \"#E5ECF6\", \"width\": 0.5}}, \"type\": \"bar\"}], \"barpolar\": [{\"marker\": {\"line\": {\"color\": \"#E5ECF6\", \"width\": 0.5}}, \"type\": \"barpolar\"}], \"carpet\": [{\"aaxis\": {\"endlinecolor\": \"#2a3f5f\", \"gridcolor\": \"white\", \"linecolor\": \"white\", \"minorgridcolor\": \"white\", \"startlinecolor\": \"#2a3f5f\"}, \"baxis\": {\"endlinecolor\": \"#2a3f5f\", \"gridcolor\": \"white\", \"linecolor\": \"white\", \"minorgridcolor\": \"white\", \"startlinecolor\": \"#2a3f5f\"}, \"type\": \"carpet\"}], \"choropleth\": [{\"colorbar\": {\"outlinewidth\": 0, \"ticks\": \"\"}, \"type\": \"choropleth\"}], \"contour\": [{\"colorbar\": {\"outlinewidth\": 0, \"ticks\": \"\"}, \"colorscale\": [[0.0, \"#0d0887\"], [0.1111111111111111, \"#46039f\"], [0.2222222222222222, \"#7201a8\"], [0.3333333333333333, \"#9c179e\"], [0.4444444444444444, \"#bd3786\"], [0.5555555555555556, \"#d8576b\"], [0.6666666666666666, \"#ed7953\"], [0.7777777777777778, \"#fb9f3a\"], [0.8888888888888888, \"#fdca26\"], [1.0, \"#f0f921\"]], \"type\": \"contour\"}], \"contourcarpet\": [{\"colorbar\": {\"outlinewidth\": 0, \"ticks\": \"\"}, \"type\": \"contourcarpet\"}], \"heatmap\": [{\"colorbar\": {\"outlinewidth\": 0, \"ticks\": \"\"}, \"colorscale\": [[0.0, \"#0d0887\"], [0.1111111111111111, \"#46039f\"], [0.2222222222222222, \"#7201a8\"], [0.3333333333333333, \"#9c179e\"], [0.4444444444444444, \"#bd3786\"], [0.5555555555555556, \"#d8576b\"], [0.6666666666666666, \"#ed7953\"], [0.7777777777777778, \"#fb9f3a\"], [0.8888888888888888, \"#fdca26\"], [1.0, \"#f0f921\"]], \"type\": \"heatmap\"}], \"heatmapgl\": [{\"colorbar\": {\"outlinewidth\": 0, \"ticks\": \"\"}, \"colorscale\": [[0.0, \"#0d0887\"], [0.1111111111111111, \"#46039f\"], [0.2222222222222222, \"#7201a8\"], [0.3333333333333333, \"#9c179e\"], [0.4444444444444444, \"#bd3786\"], [0.5555555555555556, \"#d8576b\"], [0.6666666666666666, \"#ed7953\"], [0.7777777777777778, \"#fb9f3a\"], [0.8888888888888888, \"#fdca26\"], [1.0, \"#f0f921\"]], \"type\": \"heatmapgl\"}], \"histogram\": [{\"marker\": {\"colorbar\": {\"outlinewidth\": 0, \"ticks\": \"\"}}, \"type\": \"histogram\"}], \"histogram2d\": [{\"colorbar\": {\"outlinewidth\": 0, \"ticks\": \"\"}, \"colorscale\": [[0.0, \"#0d0887\"], [0.1111111111111111, \"#46039f\"], [0.2222222222222222, \"#7201a8\"], [0.3333333333333333, \"#9c179e\"], [0.4444444444444444, \"#bd3786\"], [0.5555555555555556, \"#d8576b\"], [0.6666666666666666, \"#ed7953\"], [0.7777777777777778, \"#fb9f3a\"], [0.8888888888888888, \"#fdca26\"], [1.0, \"#f0f921\"]], \"type\": \"histogram2d\"}], \"histogram2dcontour\": [{\"colorbar\": {\"outlinewidth\": 0, \"ticks\": \"\"}, \"colorscale\": [[0.0, \"#0d0887\"], [0.1111111111111111, \"#46039f\"], [0.2222222222222222, \"#7201a8\"], [0.3333333333333333, \"#9c179e\"], [0.4444444444444444, \"#bd3786\"], [0.5555555555555556, \"#d8576b\"], [0.6666666666666666, \"#ed7953\"], [0.7777777777777778, \"#fb9f3a\"], [0.8888888888888888, \"#fdca26\"], [1.0, \"#f0f921\"]], \"type\": \"histogram2dcontour\"}], \"mesh3d\": [{\"colorbar\": {\"outlinewidth\": 0, \"ticks\": \"\"}, \"type\": \"mesh3d\"}], \"parcoords\": [{\"line\": {\"colorbar\": {\"outlinewidth\": 0, \"ticks\": \"\"}}, \"type\": \"parcoords\"}], \"pie\": [{\"automargin\": true, \"type\": \"pie\"}], \"scatter\": [{\"marker\": {\"colorbar\": {\"outlinewidth\": 0, \"ticks\": \"\"}}, \"type\": \"scatter\"}], \"scatter3d\": [{\"line\": {\"colorbar\": {\"outlinewidth\": 0, \"ticks\": \"\"}}, \"marker\": {\"colorbar\": {\"outlinewidth\": 0, \"ticks\": \"\"}}, \"type\": \"scatter3d\"}], \"scattercarpet\": [{\"marker\": {\"colorbar\": {\"outlinewidth\": 0, \"ticks\": \"\"}}, \"type\": \"scattercarpet\"}], \"scattergeo\": [{\"marker\": {\"colorbar\": {\"outlinewidth\": 0, \"ticks\": \"\"}}, \"type\": \"scattergeo\"}], \"scattergl\": [{\"marker\": {\"colorbar\": {\"outlinewidth\": 0, \"ticks\": \"\"}}, \"type\": \"scattergl\"}], \"scattermapbox\": [{\"marker\": {\"colorbar\": {\"outlinewidth\": 0, \"ticks\": \"\"}}, \"type\": \"scattermapbox\"}], \"scatterpolar\": [{\"marker\": {\"colorbar\": {\"outlinewidth\": 0, \"ticks\": \"\"}}, \"type\": \"scatterpolar\"}], \"scatterpolargl\": [{\"marker\": {\"colorbar\": {\"outlinewidth\": 0, \"ticks\": \"\"}}, \"type\": \"scatterpolargl\"}], \"scatterternary\": [{\"marker\": {\"colorbar\": {\"outlinewidth\": 0, \"ticks\": \"\"}}, \"type\": \"scatterternary\"}], \"surface\": [{\"colorbar\": {\"outlinewidth\": 0, \"ticks\": \"\"}, \"colorscale\": [[0.0, \"#0d0887\"], [0.1111111111111111, \"#46039f\"], [0.2222222222222222, \"#7201a8\"], [0.3333333333333333, \"#9c179e\"], [0.4444444444444444, \"#bd3786\"], [0.5555555555555556, \"#d8576b\"], [0.6666666666666666, \"#ed7953\"], [0.7777777777777778, \"#fb9f3a\"], [0.8888888888888888, \"#fdca26\"], [1.0, \"#f0f921\"]], \"type\": \"surface\"}], \"table\": [{\"cells\": {\"fill\": {\"color\": \"#EBF0F8\"}, \"line\": {\"color\": \"white\"}}, \"header\": {\"fill\": {\"color\": \"#C8D4E3\"}, \"line\": {\"color\": \"white\"}}, \"type\": \"table\"}]}, \"layout\": {\"annotationdefaults\": {\"arrowcolor\": \"#2a3f5f\", \"arrowhead\": 0, \"arrowwidth\": 1}, \"coloraxis\": {\"colorbar\": {\"outlinewidth\": 0, \"ticks\": \"\"}}, \"colorscale\": {\"diverging\": [[0, \"#8e0152\"], [0.1, \"#c51b7d\"], [0.2, \"#de77ae\"], [0.3, \"#f1b6da\"], [0.4, \"#fde0ef\"], [0.5, \"#f7f7f7\"], [0.6, \"#e6f5d0\"], [0.7, \"#b8e186\"], [0.8, \"#7fbc41\"], [0.9, \"#4d9221\"], [1, \"#276419\"]], \"sequential\": [[0.0, \"#0d0887\"], [0.1111111111111111, \"#46039f\"], [0.2222222222222222, \"#7201a8\"], [0.3333333333333333, \"#9c179e\"], [0.4444444444444444, \"#bd3786\"], [0.5555555555555556, \"#d8576b\"], [0.6666666666666666, \"#ed7953\"], [0.7777777777777778, \"#fb9f3a\"], [0.8888888888888888, \"#fdca26\"], [1.0, \"#f0f921\"]], \"sequentialminus\": [[0.0, \"#0d0887\"], [0.1111111111111111, \"#46039f\"], [0.2222222222222222, \"#7201a8\"], [0.3333333333333333, \"#9c179e\"], [0.4444444444444444, \"#bd3786\"], [0.5555555555555556, \"#d8576b\"], [0.6666666666666666, \"#ed7953\"], [0.7777777777777778, \"#fb9f3a\"], [0.8888888888888888, \"#fdca26\"], [1.0, \"#f0f921\"]]}, \"colorway\": [\"#636efa\", \"#EF553B\", \"#00cc96\", \"#ab63fa\", \"#FFA15A\", \"#19d3f3\", \"#FF6692\", \"#B6E880\", \"#FF97FF\", \"#FECB52\"], \"font\": {\"color\": \"#2a3f5f\"}, \"geo\": {\"bgcolor\": \"white\", \"lakecolor\": \"white\", \"landcolor\": \"#E5ECF6\", \"showlakes\": true, \"showland\": true, \"subunitcolor\": \"white\"}, \"hoverlabel\": {\"align\": \"left\"}, \"hovermode\": \"closest\", \"mapbox\": {\"style\": \"light\"}, \"paper_bgcolor\": \"white\", \"plot_bgcolor\": \"#E5ECF6\", \"polar\": {\"angularaxis\": {\"gridcolor\": \"white\", \"linecolor\": \"white\", \"ticks\": \"\"}, \"bgcolor\": \"#E5ECF6\", \"radialaxis\": {\"gridcolor\": \"white\", \"linecolor\": \"white\", \"ticks\": \"\"}}, \"scene\": {\"xaxis\": {\"backgroundcolor\": \"#E5ECF6\", \"gridcolor\": \"white\", \"gridwidth\": 2, \"linecolor\": \"white\", \"showbackground\": true, \"ticks\": \"\", \"zerolinecolor\": \"white\"}, \"yaxis\": {\"backgroundcolor\": \"#E5ECF6\", \"gridcolor\": \"white\", \"gridwidth\": 2, \"linecolor\": \"white\", \"showbackground\": true, \"ticks\": \"\", \"zerolinecolor\": \"white\"}, \"zaxis\": {\"backgroundcolor\": \"#E5ECF6\", \"gridcolor\": \"white\", \"gridwidth\": 2, \"linecolor\": \"white\", \"showbackground\": true, \"ticks\": \"\", \"zerolinecolor\": \"white\"}}, \"shapedefaults\": {\"line\": {\"color\": \"#2a3f5f\"}}, \"ternary\": {\"aaxis\": {\"gridcolor\": \"white\", \"linecolor\": \"white\", \"ticks\": \"\"}, \"baxis\": {\"gridcolor\": \"white\", \"linecolor\": \"white\", \"ticks\": \"\"}, \"bgcolor\": \"#E5ECF6\", \"caxis\": {\"gridcolor\": \"white\", \"linecolor\": \"white\", \"ticks\": \"\"}}, \"title\": {\"x\": 0.05}, \"xaxis\": {\"automargin\": true, \"gridcolor\": \"white\", \"linecolor\": \"white\", \"ticks\": \"\", \"title\": {\"standoff\": 15}, \"zerolinecolor\": \"white\", \"zerolinewidth\": 2}, \"yaxis\": {\"automargin\": true, \"gridcolor\": \"white\", \"linecolor\": \"white\", \"ticks\": \"\", \"title\": {\"standoff\": 15}, \"zerolinecolor\": \"white\", \"zerolinewidth\": 2}}}},\n",
       "                        {\"responsive\": true}\n",
       "                    ).then(function(){\n",
       "                            \n",
       "var gd = document.getElementById('8776125b-c5db-47bd-82f8-c37397a20670');\n",
       "var x = new MutationObserver(function (mutations, observer) {{\n",
       "        var display = window.getComputedStyle(gd).display;\n",
       "        if (!display || display === 'none') {{\n",
       "            console.log([gd, 'removed!']);\n",
       "            Plotly.purge(gd);\n",
       "            observer.disconnect();\n",
       "        }}\n",
       "}});\n",
       "\n",
       "// Listen for the removal of the full notebook cells\n",
       "var notebookContainer = gd.closest('#notebook-container');\n",
       "if (notebookContainer) {{\n",
       "    x.observe(notebookContainer, {childList: true});\n",
       "}}\n",
       "\n",
       "// Listen for the clearing of the current output cell\n",
       "var outputEl = gd.closest('.output');\n",
       "if (outputEl) {{\n",
       "    x.observe(outputEl, {childList: true});\n",
       "}}\n",
       "\n",
       "                        })\n",
       "                };\n",
       "                });\n",
       "            </script>\n",
       "        </div>"
      ]
     },
     "metadata": {},
     "output_type": "display_data"
    }
   ],
   "source": [
    "fig = px.sunburst(batsmen, path=['Batting_Hand', 'cluster'],color='cluster')\n",
    "fig.show()"
   ]
  },
  {
   "cell_type": "code",
   "execution_count": 29,
   "metadata": {
    "execution": {
     "iopub.execute_input": "2020-11-16T20:26:34.880086Z",
     "iopub.status.busy": "2020-11-16T20:26:34.878997Z",
     "iopub.status.idle": "2020-11-16T20:26:35.182143Z",
     "shell.execute_reply": "2020-11-16T20:26:35.181350Z"
    },
    "executionInfo": {
     "elapsed": 4462,
     "status": "ok",
     "timestamp": 1596356838302,
     "user": {
      "displayName": "RUCHI BHATIA",
      "photoUrl": "",
      "userId": "04469733066996764193"
     },
     "user_tz": -330
    },
    "id": "RISPy2fXBcdf",
    "papermill": {
     "duration": 0.380523,
     "end_time": "2020-11-16T20:26:35.182322",
     "exception": false,
     "start_time": "2020-11-16T20:26:34.801799",
     "status": "completed"
    },
    "tags": []
   },
   "outputs": [],
   "source": [
    "batsmen.to_csv('/kaggle/working/Batsmen.csv') "
   ]
  },
  {
   "cell_type": "markdown",
   "metadata": {
    "id": "mTHvdWef2sKp",
    "papermill": {
     "duration": 0.070992,
     "end_time": "2020-11-16T20:26:35.325167",
     "exception": false,
     "start_time": "2020-11-16T20:26:35.254175",
     "status": "completed"
    },
    "tags": []
   },
   "source": [
    "### Bowlers"
   ]
  },
  {
   "cell_type": "markdown",
   "metadata": {
    "id": "mOK8X1FBYSUP",
    "papermill": {
     "duration": 0.071139,
     "end_time": "2020-11-16T20:26:35.467367",
     "exception": false,
     "start_time": "2020-11-16T20:26:35.396228",
     "status": "completed"
    },
    "tags": []
   },
   "source": [
    "> economy rate = total runs conceded/number of overs bowled"
   ]
  },
  {
   "cell_type": "code",
   "execution_count": 30,
   "metadata": {
    "execution": {
     "iopub.execute_input": "2020-11-16T20:26:35.625119Z",
     "iopub.status.busy": "2020-11-16T20:26:35.623875Z",
     "iopub.status.idle": "2020-11-16T20:26:36.554221Z",
     "shell.execute_reply": "2020-11-16T20:26:36.553436Z"
    },
    "executionInfo": {
     "elapsed": 4889,
     "status": "ok",
     "timestamp": 1596356838737,
     "user": {
      "displayName": "RUCHI BHATIA",
      "photoUrl": "",
      "userId": "04469733066996764193"
     },
     "user_tz": -330
    },
    "id": "urGjrOOz2sKq",
    "outputId": "4e604384-4daa-42de-ea80-da539f4ef3c5",
    "papermill": {
     "duration": 1.013572,
     "end_time": "2020-11-16T20:26:36.554360",
     "exception": false,
     "start_time": "2020-11-16T20:26:35.540788",
     "status": "completed"
    },
    "tags": []
   },
   "outputs": [
    {
     "data": {
      "text/html": [
       "<div>\n",
       "<style scoped>\n",
       "    .dataframe tbody tr th:only-of-type {\n",
       "        vertical-align: middle;\n",
       "    }\n",
       "\n",
       "    .dataframe tbody tr th {\n",
       "        vertical-align: top;\n",
       "    }\n",
       "\n",
       "    .dataframe thead th {\n",
       "        text-align: right;\n",
       "    }\n",
       "</style>\n",
       "<table border=\"1\" class=\"dataframe\">\n",
       "  <thead>\n",
       "    <tr style=\"text-align: right;\">\n",
       "      <th></th>\n",
       "      <th>Player_Id</th>\n",
       "      <th>Runs</th>\n",
       "      <th>Over_count</th>\n",
       "      <th>Econ_Rate</th>\n",
       "    </tr>\n",
       "  </thead>\n",
       "  <tbody>\n",
       "    <tr>\n",
       "      <th>0</th>\n",
       "      <td>14</td>\n",
       "      <td>3135.0</td>\n",
       "      <td>421.500000</td>\n",
       "      <td>7.44</td>\n",
       "    </tr>\n",
       "    <tr>\n",
       "      <th>1</th>\n",
       "      <td>15</td>\n",
       "      <td>2511.0</td>\n",
       "      <td>338.333333</td>\n",
       "      <td>7.42</td>\n",
       "    </tr>\n",
       "    <tr>\n",
       "      <th>2</th>\n",
       "      <td>13</td>\n",
       "      <td>41.0</td>\n",
       "      <td>4.166667</td>\n",
       "      <td>9.84</td>\n",
       "    </tr>\n",
       "    <tr>\n",
       "      <th>3</th>\n",
       "      <td>9</td>\n",
       "      <td>2316.0</td>\n",
       "      <td>299.833333</td>\n",
       "      <td>7.72</td>\n",
       "    </tr>\n",
       "    <tr>\n",
       "      <th>4</th>\n",
       "      <td>16</td>\n",
       "      <td>82.0</td>\n",
       "      <td>9.166667</td>\n",
       "      <td>8.95</td>\n",
       "    </tr>\n",
       "  </tbody>\n",
       "</table>\n",
       "</div>"
      ],
      "text/plain": [
       "   Player_Id    Runs  Over_count  Econ_Rate\n",
       "0         14  3135.0  421.500000       7.44\n",
       "1         15  2511.0  338.333333       7.42\n",
       "2         13    41.0    4.166667       9.84\n",
       "3          9  2316.0  299.833333       7.72\n",
       "4         16    82.0    9.166667       8.95"
      ]
     },
     "execution_count": 30,
     "metadata": {},
     "output_type": "execute_result"
    }
   ],
   "source": [
    "bowlers_runs = []\n",
    "bowlers_over_count = []\n",
    "\n",
    "for j in runs[\"Bowler_Id\"].unique():\n",
    "    r = runs[\"Batsman_Scored\"][runs[\"Bowler_Id\"] == j].sum() + runs[\"Extra_Runs\"][runs[\"Bowler_Id\"] == j].sum()\n",
    "    o = runs[\"Over_Id\"][runs[\"Bowler_Id\"] == j].count()/6\n",
    "    \n",
    "    bowlers_runs.append(r)\n",
    "    bowlers_over_count.append(o)\n",
    "    \n",
    "bowlers = pd.DataFrame({\"Player_Id\": runs[\"Bowler_Id\"].unique()})\n",
    "\n",
    "bowlers[\"Runs\"] = bowlers_runs\n",
    "bowlers[\"Over_count\"] = bowlers_over_count\n",
    "\n",
    "bowlers[\"Econ_Rate\"] = (bowlers[\"Runs\"] / bowlers[\"Over_count\"]).round(2)\n",
    "\n",
    "bowlers.head()"
   ]
  },
  {
   "cell_type": "code",
   "execution_count": 31,
   "metadata": {
    "execution": {
     "iopub.execute_input": "2020-11-16T20:26:36.715366Z",
     "iopub.status.busy": "2020-11-16T20:26:36.709094Z",
     "iopub.status.idle": "2020-11-16T20:26:37.753065Z",
     "shell.execute_reply": "2020-11-16T20:26:37.752431Z"
    },
    "executionInfo": {
     "elapsed": 5397,
     "status": "ok",
     "timestamp": 1596356839255,
     "user": {
      "displayName": "RUCHI BHATIA",
      "photoUrl": "",
      "userId": "04469733066996764193"
     },
     "user_tz": -330
    },
    "id": "Hphc8wb42sKu",
    "outputId": "0534c0d1-1594-4435-b82a-b2350ffed46e",
    "papermill": {
     "duration": 1.123793,
     "end_time": "2020-11-16T20:26:37.753254",
     "exception": false,
     "start_time": "2020-11-16T20:26:36.629461",
     "status": "completed"
    },
    "tags": []
   },
   "outputs": [
    {
     "data": {
      "image/png": "[encoded data removed]",
      "text/plain": [
       "<Figure size 1440x864 with 3 Axes>"
      ]
     },
     "metadata": {
      "needs_background": "light"
     },
     "output_type": "display_data"
    }
   ],
   "source": [
    "triple_plot(bowlers[\"Econ_Rate\"],'Distribution of Economy Rate',custom_colors[0])"
   ]
  },
  {
   "cell_type": "code",
   "execution_count": 32,
   "metadata": {
    "execution": {
     "iopub.execute_input": "2020-11-16T20:26:37.915114Z",
     "iopub.status.busy": "2020-11-16T20:26:37.913955Z",
     "iopub.status.idle": "2020-11-16T20:26:37.917752Z",
     "shell.execute_reply": "2020-11-16T20:26:37.916967Z"
    },
    "executionInfo": {
     "elapsed": 5387,
     "status": "ok",
     "timestamp": 1596356839256,
     "user": {
      "displayName": "RUCHI BHATIA",
      "photoUrl": "",
      "userId": "04469733066996764193"
     },
     "user_tz": -330
    },
    "id": "MoM9Fhrh2sKx",
    "outputId": "b3bddf09-2c65-4528-e415-00576f7c75f3",
    "papermill": {
     "duration": 0.087735,
     "end_time": "2020-11-16T20:26:37.917889",
     "exception": false,
     "start_time": "2020-11-16T20:26:37.830154",
     "status": "completed"
    },
    "tags": []
   },
   "outputs": [],
   "source": [
    "bowlers = bowlers[(bowlers[\"Econ_Rate\"] > 4) & (bowlers[\"Econ_Rate\"] < 8.5)]"
   ]
  },
  {
   "cell_type": "code",
   "execution_count": 33,
   "metadata": {
    "execution": {
     "iopub.execute_input": "2020-11-16T20:26:38.083974Z",
     "iopub.status.busy": "2020-11-16T20:26:38.082722Z",
     "iopub.status.idle": "2020-11-16T20:26:38.861812Z",
     "shell.execute_reply": "2020-11-16T20:26:38.861043Z"
    },
    "papermill": {
     "duration": 0.867423,
     "end_time": "2020-11-16T20:26:38.861948",
     "exception": false,
     "start_time": "2020-11-16T20:26:37.994525",
     "status": "completed"
    },
    "tags": []
   },
   "outputs": [
    {
     "data": {
      "image/png": "[encoded data removed]",
      "text/plain": [
       "<Figure size 1440x864 with 3 Axes>"
      ]
     },
     "metadata": {
      "needs_background": "light"
     },
     "output_type": "display_data"
    }
   ],
   "source": [
    "triple_plot(bowlers[\"Econ_Rate\"],'Distribution of Economy Rate',custom_colors[1])"
   ]
  },
  {
   "cell_type": "markdown",
   "metadata": {
    "id": "FjWlN-gN2sK0",
    "papermill": {
     "duration": 0.077452,
     "end_time": "2020-11-16T20:26:39.020688",
     "exception": false,
     "start_time": "2020-11-16T20:26:38.943236",
     "status": "completed"
    },
    "tags": []
   },
   "source": [
    "### K Means Clustering on Bowlers Data "
   ]
  },
  {
   "cell_type": "code",
   "execution_count": 34,
   "metadata": {
    "execution": {
     "iopub.execute_input": "2020-11-16T20:26:39.192478Z",
     "iopub.status.busy": "2020-11-16T20:26:39.188534Z",
     "iopub.status.idle": "2020-11-16T20:26:39.810085Z",
     "shell.execute_reply": "2020-11-16T20:26:39.809278Z"
    },
    "papermill": {
     "duration": 0.71026,
     "end_time": "2020-11-16T20:26:39.810243",
     "exception": false,
     "start_time": "2020-11-16T20:26:39.099983",
     "status": "completed"
    },
    "tags": []
   },
   "outputs": [
    {
     "name": "stdout",
     "output_type": "stream",
     "text": [
      "Distortion\n",
      "2 : 373.7675670507113\n",
      "3 : 220.55246141798665\n",
      "4 : 161.5621510449027\n",
      "5 : 128.79189157004683\n",
      "6 : 116.16827833757286\n",
      "7 : 94.71580359993747\n",
      "8 : 83.2324760414136\n",
      "9 : 68.68341536344916\n",
      "Inertia\n",
      "2 : 27964964.465512734\n",
      "3 : 13873508.040331038\n",
      "4 : 5512937.505840899\n",
      "5 : 3505558.542446372\n",
      "6 : 2709186.974840818\n",
      "7 : 2019154.4886159536\n",
      "8 : 1289678.0815194242\n",
      "9 : 906374.8747559208\n"
     ]
    },
    {
     "data": {
      "image/png": "[encoded data removed]",
      "text/plain": [
       "<Figure size 432x288 with 1 Axes>"
      ]
     },
     "metadata": {
      "needs_background": "light"
     },
     "output_type": "display_data"
    },
    {
     "data": {
      "image/png": "[encoded data removed]",
      "text/plain": [
       "<Figure size 432x288 with 1 Axes>"
      ]
     },
     "metadata": {
      "needs_background": "light"
     },
     "output_type": "display_data"
    }
   ],
   "source": [
    "elbow_method(batsmen[[\"Strike_Rate\", \"Runs\"]])"
   ]
  },
  {
   "cell_type": "code",
   "execution_count": 35,
   "metadata": {
    "execution": {
     "iopub.execute_input": "2020-11-16T20:26:39.985384Z",
     "iopub.status.busy": "2020-11-16T20:26:39.984240Z",
     "iopub.status.idle": "2020-11-16T20:26:40.238447Z",
     "shell.execute_reply": "2020-11-16T20:26:40.237686Z"
    },
    "papermill": {
     "duration": 0.347117,
     "end_time": "2020-11-16T20:26:40.238587",
     "exception": false,
     "start_time": "2020-11-16T20:26:39.891470",
     "status": "completed"
    },
    "tags": []
   },
   "outputs": [
    {
     "name": "stdout",
     "output_type": "stream",
     "text": [
      "k=3, Silhouette score=0.6936083344492991, Calinski harabasz score=609.1041885568558\n",
      "k=4, Silhouette score=0.7153226890295875, Calinski harabasz score=1079.804486795056\n",
      "k=5, Silhouette score=0.6643845661980747, Calinski harabasz score=1282.2679424141702\n",
      "k=6, Silhouette score=0.6351996089481081, Calinski harabasz score=1325.6470180841923\n",
      "k=7, Silhouette score=0.6336067778587675, Calinski harabasz score=1561.7377647734515\n"
     ]
    }
   ],
   "source": [
    "scores(batsmen[[\"Strike_Rate\", \"Runs\"]])"
   ]
  },
  {
   "cell_type": "code",
   "execution_count": 36,
   "metadata": {
    "execution": {
     "iopub.execute_input": "2020-11-16T20:26:40.421054Z",
     "iopub.status.busy": "2020-11-16T20:26:40.419811Z",
     "iopub.status.idle": "2020-11-16T20:26:40.662987Z",
     "shell.execute_reply": "2020-11-16T20:26:40.663548Z"
    },
    "executionInfo": {
     "elapsed": 7338,
     "status": "ok",
     "timestamp": 1596356841227,
     "user": {
      "displayName": "RUCHI BHATIA",
      "photoUrl": "",
      "userId": "04469733066996764193"
     },
     "user_tz": -330
    },
    "id": "huPmUWDo2sK4",
    "outputId": "0e9b932e-f90a-4f59-d3f9-8a480c782376",
    "papermill": {
     "duration": 0.341376,
     "end_time": "2020-11-16T20:26:40.663730",
     "exception": false,
     "start_time": "2020-11-16T20:26:40.322354",
     "status": "completed"
    },
    "tags": []
   },
   "outputs": [
    {
     "data": {
      "image/png": "[encoded data removed]",
      "text/plain": [
       "<Figure size 864x432 with 1 Axes>"
      ]
     },
     "metadata": {
      "needs_background": "light"
     },
     "output_type": "display_data"
    }
   ],
   "source": [
    "kmeans = KMeans(n_clusters=4)\n",
    "kmeans.fit(bowlers[[\"Econ_Rate\", \"Over_count\"]])\n",
    "bowlers[\"cluster\"] = kmeans.labels_\n",
    "\n",
    "fig = plt.figure(figsize=(12,6))\n",
    "\n",
    "colors = custom_colors\n",
    "\n",
    "for r in range(1,5):\n",
    "    clustered_Bowlers = bowlers[bowlers[\"cluster\"] == r]\n",
    "    plt.scatter(clustered_Bowlers[\"Econ_Rate\"], clustered_Bowlers[\"Over_count\"], color=colors[r-1])\n",
    "    \n",
    "plt.title(\"IPL Bowlers\")\n",
    "plt.xlabel(\"Economy Rate of the Bowler\")\n",
    "plt.ylabel(\"Number of Overs bowled by the Bowler\")\n",
    "    \n",
    "plt.show()"
   ]
  },
  {
   "cell_type": "code",
   "execution_count": 37,
   "metadata": {
    "execution": {
     "iopub.execute_input": "2020-11-16T20:26:40.847723Z",
     "iopub.status.busy": "2020-11-16T20:26:40.846961Z",
     "iopub.status.idle": "2020-11-16T20:26:40.857221Z",
     "shell.execute_reply": "2020-11-16T20:26:40.856473Z"
    },
    "executionInfo": {
     "elapsed": 7330,
     "status": "ok",
     "timestamp": 1596356841228,
     "user": {
      "displayName": "RUCHI BHATIA",
      "photoUrl": "",
      "userId": "04469733066996764193"
     },
     "user_tz": -330
    },
    "id": "nIVGJSai2sK7",
    "outputId": "5cf3a8e7-1199-4aed-c357-ff4875e9c790",
    "papermill": {
     "duration": 0.104947,
     "end_time": "2020-11-16T20:26:40.857351",
     "exception": false,
     "start_time": "2020-11-16T20:26:40.752404",
     "status": "completed"
    },
    "tags": []
   },
   "outputs": [
    {
     "data": {
      "text/html": [
       "<div>\n",
       "<style scoped>\n",
       "    .dataframe tbody tr th:only-of-type {\n",
       "        vertical-align: middle;\n",
       "    }\n",
       "\n",
       "    .dataframe tbody tr th {\n",
       "        vertical-align: top;\n",
       "    }\n",
       "\n",
       "    .dataframe thead th {\n",
       "        text-align: right;\n",
       "    }\n",
       "</style>\n",
       "<table border=\"1\" class=\"dataframe\">\n",
       "  <thead>\n",
       "    <tr style=\"text-align: right;\">\n",
       "      <th></th>\n",
       "      <th>Player_Id</th>\n",
       "      <th>Runs</th>\n",
       "      <th>Over_count</th>\n",
       "      <th>Econ_Rate</th>\n",
       "      <th>cluster</th>\n",
       "    </tr>\n",
       "  </thead>\n",
       "  <tbody>\n",
       "    <tr>\n",
       "      <th>154</th>\n",
       "      <td>219</td>\n",
       "      <td>8.0</td>\n",
       "      <td>1.000000</td>\n",
       "      <td>8.00</td>\n",
       "      <td>0</td>\n",
       "    </tr>\n",
       "    <tr>\n",
       "      <th>188</th>\n",
       "      <td>259</td>\n",
       "      <td>130.0</td>\n",
       "      <td>16.166667</td>\n",
       "      <td>8.04</td>\n",
       "      <td>0</td>\n",
       "    </tr>\n",
       "    <tr>\n",
       "      <th>190</th>\n",
       "      <td>274</td>\n",
       "      <td>406.0</td>\n",
       "      <td>54.500000</td>\n",
       "      <td>7.45</td>\n",
       "      <td>0</td>\n",
       "    </tr>\n",
       "    <tr>\n",
       "      <th>192</th>\n",
       "      <td>171</td>\n",
       "      <td>42.0</td>\n",
       "      <td>7.000000</td>\n",
       "      <td>6.00</td>\n",
       "      <td>0</td>\n",
       "    </tr>\n",
       "    <tr>\n",
       "      <th>193</th>\n",
       "      <td>265</td>\n",
       "      <td>20.0</td>\n",
       "      <td>3.000000</td>\n",
       "      <td>6.67</td>\n",
       "      <td>0</td>\n",
       "    </tr>\n",
       "  </tbody>\n",
       "</table>\n",
       "</div>"
      ],
      "text/plain": [
       "     Player_Id   Runs  Over_count  Econ_Rate  cluster\n",
       "154        219    8.0    1.000000       8.00        0\n",
       "188        259  130.0   16.166667       8.04        0\n",
       "190        274  406.0   54.500000       7.45        0\n",
       "192        171   42.0    7.000000       6.00        0\n",
       "193        265   20.0    3.000000       6.67        0"
      ]
     },
     "execution_count": 37,
     "metadata": {},
     "output_type": "execute_result"
    }
   ],
   "source": [
    "bowlers = bowlers.sort_values(by = 'cluster')\n",
    "bowlers.head()"
   ]
  },
  {
   "cell_type": "code",
   "execution_count": 38,
   "metadata": {
    "execution": {
     "iopub.execute_input": "2020-11-16T20:26:41.034955Z",
     "iopub.status.busy": "2020-11-16T20:26:41.034190Z",
     "iopub.status.idle": "2020-11-16T20:26:41.037923Z",
     "shell.execute_reply": "2020-11-16T20:26:41.037150Z"
    },
    "executionInfo": {
     "elapsed": 7320,
     "status": "ok",
     "timestamp": 1596356841228,
     "user": {
      "displayName": "RUCHI BHATIA",
      "photoUrl": "",
      "userId": "04469733066996764193"
     },
     "user_tz": -330
    },
    "id": "hynpWG-WMEn_",
    "papermill": {
     "duration": 0.095515,
     "end_time": "2020-11-16T20:26:41.038078",
     "exception": false,
     "start_time": "2020-11-16T20:26:40.942563",
     "status": "completed"
    },
    "tags": []
   },
   "outputs": [],
   "source": [
    "Players_bowlers = players[[\"Player_Id\", \"Player_Name\",\"Bowling_Skill\",\"DOB\",\"Country\"]]"
   ]
  },
  {
   "cell_type": "markdown",
   "metadata": {
    "id": "TbTpmPy3cT1u",
    "papermill": {
     "duration": 0.084725,
     "end_time": "2020-11-16T20:26:41.208678",
     "exception": false,
     "start_time": "2020-11-16T20:26:41.123953",
     "status": "completed"
    },
    "tags": []
   },
   "source": [
    "Displaying the Bowling Skill of Batsmen"
   ]
  },
  {
   "cell_type": "code",
   "execution_count": 39,
   "metadata": {
    "execution": {
     "iopub.execute_input": "2020-11-16T20:26:41.392165Z",
     "iopub.status.busy": "2020-11-16T20:26:41.390948Z",
     "iopub.status.idle": "2020-11-16T20:26:41.418236Z",
     "shell.execute_reply": "2020-11-16T20:26:41.417455Z"
    },
    "executionInfo": {
     "elapsed": 7315,
     "status": "ok",
     "timestamp": 1596356841229,
     "user": {
      "displayName": "RUCHI BHATIA",
      "photoUrl": "",
      "userId": "04469733066996764193"
     },
     "user_tz": -330
    },
    "id": "_tPzb1gN2sK-",
    "outputId": "2c064edc-5b22-4f57-8fde-1c9fe35698eb",
    "papermill": {
     "duration": 0.123944,
     "end_time": "2020-11-16T20:26:41.418367",
     "exception": false,
     "start_time": "2020-11-16T20:26:41.294423",
     "status": "completed"
    },
    "tags": []
   },
   "outputs": [
    {
     "data": {
      "text/html": [
       "<div>\n",
       "<style scoped>\n",
       "    .dataframe tbody tr th:only-of-type {\n",
       "        vertical-align: middle;\n",
       "    }\n",
       "\n",
       "    .dataframe tbody tr th {\n",
       "        vertical-align: top;\n",
       "    }\n",
       "\n",
       "    .dataframe thead th {\n",
       "        text-align: right;\n",
       "    }\n",
       "</style>\n",
       "<table border=\"1\" class=\"dataframe\">\n",
       "  <thead>\n",
       "    <tr style=\"text-align: right;\">\n",
       "      <th></th>\n",
       "      <th>Player_Id</th>\n",
       "      <th>Runs</th>\n",
       "      <th>Over_count</th>\n",
       "      <th>Econ_Rate</th>\n",
       "      <th>cluster</th>\n",
       "      <th>Player_Name</th>\n",
       "      <th>Bowling_Skill</th>\n",
       "      <th>DOB</th>\n",
       "      <th>Country</th>\n",
       "    </tr>\n",
       "  </thead>\n",
       "  <tbody>\n",
       "    <tr>\n",
       "      <th>0</th>\n",
       "      <td>219</td>\n",
       "      <td>8.0</td>\n",
       "      <td>1.000000</td>\n",
       "      <td>8.00</td>\n",
       "      <td>0</td>\n",
       "      <td>RS Gavaskar</td>\n",
       "      <td>Slow left-arm orthodox</td>\n",
       "      <td>20-Feb-76</td>\n",
       "      <td>India</td>\n",
       "    </tr>\n",
       "    <tr>\n",
       "      <th>1</th>\n",
       "      <td>259</td>\n",
       "      <td>130.0</td>\n",
       "      <td>16.166667</td>\n",
       "      <td>8.04</td>\n",
       "      <td>0</td>\n",
       "      <td>RV Gomez</td>\n",
       "      <td>Right-arm medium</td>\n",
       "      <td>16-Oct-85</td>\n",
       "      <td>India</td>\n",
       "    </tr>\n",
       "    <tr>\n",
       "      <th>2</th>\n",
       "      <td>274</td>\n",
       "      <td>406.0</td>\n",
       "      <td>54.500000</td>\n",
       "      <td>7.45</td>\n",
       "      <td>0</td>\n",
       "      <td>AC Thomas</td>\n",
       "      <td>Right-arm fast-medium</td>\n",
       "      <td>9-Feb-77</td>\n",
       "      <td>England</td>\n",
       "    </tr>\n",
       "    <tr>\n",
       "      <th>3</th>\n",
       "      <td>171</td>\n",
       "      <td>42.0</td>\n",
       "      <td>7.000000</td>\n",
       "      <td>6.00</td>\n",
       "      <td>0</td>\n",
       "      <td>M Manhas</td>\n",
       "      <td>Right-arm offbreak</td>\n",
       "      <td>12-Oct-79</td>\n",
       "      <td>India</td>\n",
       "    </tr>\n",
       "    <tr>\n",
       "      <th>4</th>\n",
       "      <td>265</td>\n",
       "      <td>20.0</td>\n",
       "      <td>3.000000</td>\n",
       "      <td>6.67</td>\n",
       "      <td>0</td>\n",
       "      <td>NJ Rimmington</td>\n",
       "      <td>Right-arm fast-medium</td>\n",
       "      <td>11-Nov-82</td>\n",
       "      <td>Australia</td>\n",
       "    </tr>\n",
       "    <tr>\n",
       "      <th>...</th>\n",
       "      <td>...</td>\n",
       "      <td>...</td>\n",
       "      <td>...</td>\n",
       "      <td>...</td>\n",
       "      <td>...</td>\n",
       "      <td>...</td>\n",
       "      <td>...</td>\n",
       "      <td>...</td>\n",
       "      <td>...</td>\n",
       "    </tr>\n",
       "    <tr>\n",
       "      <th>209</th>\n",
       "      <td>194</td>\n",
       "      <td>2611.0</td>\n",
       "      <td>401.166667</td>\n",
       "      <td>6.51</td>\n",
       "      <td>3</td>\n",
       "      <td>SL Malinga</td>\n",
       "      <td>Right-arm fast</td>\n",
       "      <td>28-Aug-83</td>\n",
       "      <td>Sri Lanka</td>\n",
       "    </tr>\n",
       "    <tr>\n",
       "      <th>210</th>\n",
       "      <td>94</td>\n",
       "      <td>2350.0</td>\n",
       "      <td>359.833333</td>\n",
       "      <td>6.53</td>\n",
       "      <td>3</td>\n",
       "      <td>DW Steyn</td>\n",
       "      <td>Right-arm fast</td>\n",
       "      <td>27-Jun-83</td>\n",
       "      <td>South Africa</td>\n",
       "    </tr>\n",
       "    <tr>\n",
       "      <th>211</th>\n",
       "      <td>136</td>\n",
       "      <td>2941.0</td>\n",
       "      <td>411.000000</td>\n",
       "      <td>7.16</td>\n",
       "      <td>3</td>\n",
       "      <td>A Mishra</td>\n",
       "      <td>Legbreak</td>\n",
       "      <td>24-Nov-82</td>\n",
       "      <td>India</td>\n",
       "    </tr>\n",
       "    <tr>\n",
       "      <th>212</th>\n",
       "      <td>50</td>\n",
       "      <td>3162.0</td>\n",
       "      <td>457.000000</td>\n",
       "      <td>6.92</td>\n",
       "      <td>3</td>\n",
       "      <td>Harbhajan Singh</td>\n",
       "      <td>Right-arm offbreak</td>\n",
       "      <td>3-Jul-80</td>\n",
       "      <td>India</td>\n",
       "    </tr>\n",
       "    <tr>\n",
       "      <th>213</th>\n",
       "      <td>14</td>\n",
       "      <td>3135.0</td>\n",
       "      <td>421.500000</td>\n",
       "      <td>7.44</td>\n",
       "      <td>3</td>\n",
       "      <td>P Kumar</td>\n",
       "      <td>Right-arm medium</td>\n",
       "      <td>2-Oct-86</td>\n",
       "      <td>India</td>\n",
       "    </tr>\n",
       "  </tbody>\n",
       "</table>\n",
       "<p>214 rows × 9 columns</p>\n",
       "</div>"
      ],
      "text/plain": [
       "     Player_Id    Runs  Over_count  Econ_Rate  cluster      Player_Name  \\\n",
       "0          219     8.0    1.000000       8.00        0      RS Gavaskar   \n",
       "1          259   130.0   16.166667       8.04        0         RV Gomez   \n",
       "2          274   406.0   54.500000       7.45        0        AC Thomas   \n",
       "3          171    42.0    7.000000       6.00        0         M Manhas   \n",
       "4          265    20.0    3.000000       6.67        0    NJ Rimmington   \n",
       "..         ...     ...         ...        ...      ...              ...   \n",
       "209        194  2611.0  401.166667       6.51        3       SL Malinga   \n",
       "210         94  2350.0  359.833333       6.53        3         DW Steyn   \n",
       "211        136  2941.0  411.000000       7.16        3         A Mishra   \n",
       "212         50  3162.0  457.000000       6.92        3  Harbhajan Singh   \n",
       "213         14  3135.0  421.500000       7.44        3          P Kumar   \n",
       "\n",
       "              Bowling_Skill        DOB       Country  \n",
       "0    Slow left-arm orthodox  20-Feb-76         India  \n",
       "1          Right-arm medium  16-Oct-85         India  \n",
       "2     Right-arm fast-medium   9-Feb-77       England  \n",
       "3        Right-arm offbreak  12-Oct-79         India  \n",
       "4     Right-arm fast-medium  11-Nov-82     Australia  \n",
       "..                      ...        ...           ...  \n",
       "209          Right-arm fast  28-Aug-83     Sri Lanka  \n",
       "210          Right-arm fast  27-Jun-83  South Africa  \n",
       "211                Legbreak  24-Nov-82         India  \n",
       "212      Right-arm offbreak   3-Jul-80         India  \n",
       "213        Right-arm medium   2-Oct-86         India  \n",
       "\n",
       "[214 rows x 9 columns]"
      ]
     },
     "execution_count": 39,
     "metadata": {},
     "output_type": "execute_result"
    }
   ],
   "source": [
    "bowlers = bowlers[bowlers.columns].merge(Players_bowlers, \"left\")\n",
    "bowlers"
   ]
  },
  {
   "cell_type": "code",
   "execution_count": 40,
   "metadata": {
    "execution": {
     "iopub.execute_input": "2020-11-16T20:26:41.595436Z",
     "iopub.status.busy": "2020-11-16T20:26:41.594371Z",
     "iopub.status.idle": "2020-11-16T20:26:41.598314Z",
     "shell.execute_reply": "2020-11-16T20:26:41.597558Z"
    },
    "papermill": {
     "duration": 0.095223,
     "end_time": "2020-11-16T20:26:41.598460",
     "exception": false,
     "start_time": "2020-11-16T20:26:41.503237",
     "status": "completed"
    },
    "tags": []
   },
   "outputs": [],
   "source": [
    "bowlers = bowlers[bowlers['Bowling_Skill'].notna()]"
   ]
  },
  {
   "cell_type": "markdown",
   "metadata": {
    "id": "JJ3JqLw50xwv",
    "papermill": {
     "duration": 0.085536,
     "end_time": "2020-11-16T20:26:41.771933",
     "exception": false,
     "start_time": "2020-11-16T20:26:41.686397",
     "status": "completed"
    },
    "tags": []
   },
   "source": [
    "**Bowling Skill and Cluster assigned to players**"
   ]
  },
  {
   "cell_type": "code",
   "execution_count": 41,
   "metadata": {
    "execution": {
     "iopub.execute_input": "2020-11-16T20:26:41.968477Z",
     "iopub.status.busy": "2020-11-16T20:26:41.958420Z",
     "iopub.status.idle": "2020-11-16T20:26:42.359788Z",
     "shell.execute_reply": "2020-11-16T20:26:42.360425Z"
    },
    "papermill": {
     "duration": 0.501688,
     "end_time": "2020-11-16T20:26:42.360602",
     "exception": false,
     "start_time": "2020-11-16T20:26:41.858914",
     "status": "completed"
    },
    "tags": []
   },
   "outputs": [
    {
     "data": {
      "image/png": "[encoded data removed]",
      "text/plain": [
       "<Figure size 720x576 with 1 Axes>"
      ]
     },
     "metadata": {
      "needs_background": "light"
     },
     "output_type": "display_data"
    }
   ],
   "source": [
    "df_b = bowlers[['Bowling_Skill','cluster']].copy()\n",
    "ct = pd.crosstab(df_b.Bowling_Skill, df_b.cluster)\n",
    "\n",
    "ct.plot.bar(stacked=True)\n",
    "plt.legend(title='cluster',loc='upper right',bbox_to_anchor=(1.25, 1))\n",
    "plt.gcf().set_size_inches(10,8)\n",
    "plt.show()"
   ]
  },
  {
   "cell_type": "code",
   "execution_count": 42,
   "metadata": {
    "execution": {
     "iopub.execute_input": "2020-11-16T20:26:42.547531Z",
     "iopub.status.busy": "2020-11-16T20:26:42.545850Z",
     "iopub.status.idle": "2020-11-16T20:26:42.551749Z",
     "shell.execute_reply": "2020-11-16T20:26:42.550953Z"
    },
    "executionInfo": {
     "elapsed": 7303,
     "status": "ok",
     "timestamp": 1596356841230,
     "user": {
      "displayName": "RUCHI BHATIA",
      "photoUrl": "",
      "userId": "04469733066996764193"
     },
     "user_tz": -330
    },
    "id": "M-AXqJ_YBpGc",
    "papermill": {
     "duration": 0.101303,
     "end_time": "2020-11-16T20:26:42.551878",
     "exception": false,
     "start_time": "2020-11-16T20:26:42.450575",
     "status": "completed"
    },
    "tags": []
   },
   "outputs": [],
   "source": [
    "bowlers.to_csv('/kaggle/working/Bowlers.csv') "
   ]
  },
  {
   "cell_type": "code",
   "execution_count": 43,
   "metadata": {
    "execution": {
     "iopub.execute_input": "2020-11-16T20:26:42.768468Z",
     "iopub.status.busy": "2020-11-16T20:26:42.767329Z",
     "iopub.status.idle": "2020-11-16T20:26:42.773423Z",
     "shell.execute_reply": "2020-11-16T20:26:42.772693Z"
    },
    "executionInfo": {
     "elapsed": 7300,
     "status": "ok",
     "timestamp": 1596356841231,
     "user": {
      "displayName": "RUCHI BHATIA",
      "photoUrl": "",
      "userId": "04469733066996764193"
     },
     "user_tz": -330
    },
    "id": "QY404jyGc7kv",
    "outputId": "4567d330-13ab-46f2-d82a-ff55f69da703",
    "papermill": {
     "duration": 0.133403,
     "end_time": "2020-11-16T20:26:42.773578",
     "exception": false,
     "start_time": "2020-11-16T20:26:42.640175",
     "status": "completed"
    },
    "tags": []
   },
   "outputs": [
    {
     "data": {
      "text/html": [
       "<div>\n",
       "<style scoped>\n",
       "    .dataframe tbody tr th:only-of-type {\n",
       "        vertical-align: middle;\n",
       "    }\n",
       "\n",
       "    .dataframe tbody tr th {\n",
       "        vertical-align: top;\n",
       "    }\n",
       "\n",
       "    .dataframe thead th {\n",
       "        text-align: right;\n",
       "    }\n",
       "</style>\n",
       "<table border=\"1\" class=\"dataframe\">\n",
       "  <thead>\n",
       "    <tr style=\"text-align: right;\">\n",
       "      <th></th>\n",
       "      <th>Balls_played</th>\n",
       "      <th>Batting_Hand</th>\n",
       "      <th>Bowling_Skill</th>\n",
       "      <th>Country</th>\n",
       "      <th>DOB</th>\n",
       "      <th>Econ_Rate</th>\n",
       "      <th>Over_count</th>\n",
       "      <th>Player_Id</th>\n",
       "      <th>Player_Name</th>\n",
       "      <th>Runs</th>\n",
       "      <th>Strike_Rate</th>\n",
       "      <th>cluster</th>\n",
       "    </tr>\n",
       "  </thead>\n",
       "  <tbody>\n",
       "    <tr>\n",
       "      <th>0</th>\n",
       "      <td>760.0</td>\n",
       "      <td>Right_Hand</td>\n",
       "      <td>NaN</td>\n",
       "      <td>India</td>\n",
       "      <td>18-Dec-91</td>\n",
       "      <td>NaN</td>\n",
       "      <td>NaN</td>\n",
       "      <td>236</td>\n",
       "      <td>Mandeep Singh</td>\n",
       "      <td>924.0</td>\n",
       "      <td>121.58</td>\n",
       "      <td>0</td>\n",
       "    </tr>\n",
       "    <tr>\n",
       "      <th>1</th>\n",
       "      <td>1032.0</td>\n",
       "      <td>Right_Hand</td>\n",
       "      <td>NaN</td>\n",
       "      <td>West Indies</td>\n",
       "      <td>7-Oct-83</td>\n",
       "      <td>NaN</td>\n",
       "      <td>NaN</td>\n",
       "      <td>71</td>\n",
       "      <td>DJ Bravo</td>\n",
       "      <td>1262.0</td>\n",
       "      <td>122.29</td>\n",
       "      <td>0</td>\n",
       "    </tr>\n",
       "    <tr>\n",
       "      <th>2</th>\n",
       "      <td>762.0</td>\n",
       "      <td>Right_Hand</td>\n",
       "      <td>NaN</td>\n",
       "      <td>West Indies</td>\n",
       "      <td>25-Jan-85</td>\n",
       "      <td>NaN</td>\n",
       "      <td>NaN</td>\n",
       "      <td>383</td>\n",
       "      <td>LMP Simmons</td>\n",
       "      <td>942.0</td>\n",
       "      <td>123.62</td>\n",
       "      <td>0</td>\n",
       "    </tr>\n",
       "    <tr>\n",
       "      <th>3</th>\n",
       "      <td>1153.0</td>\n",
       "      <td>Right_Hand</td>\n",
       "      <td>NaN</td>\n",
       "      <td>Australia</td>\n",
       "      <td>29-Dec-74</td>\n",
       "      <td>NaN</td>\n",
       "      <td>NaN</td>\n",
       "      <td>104</td>\n",
       "      <td>BJ Hodge</td>\n",
       "      <td>1400.0</td>\n",
       "      <td>121.42</td>\n",
       "      <td>0</td>\n",
       "    </tr>\n",
       "    <tr>\n",
       "      <th>4</th>\n",
       "      <td>566.0</td>\n",
       "      <td>Left_Hand</td>\n",
       "      <td>NaN</td>\n",
       "      <td>South Africa</td>\n",
       "      <td>17-Dec-92</td>\n",
       "      <td>NaN</td>\n",
       "      <td>NaN</td>\n",
       "      <td>355</td>\n",
       "      <td>Q de Kock</td>\n",
       "      <td>726.0</td>\n",
       "      <td>128.27</td>\n",
       "      <td>0</td>\n",
       "    </tr>\n",
       "    <tr>\n",
       "      <th>...</th>\n",
       "      <td>...</td>\n",
       "      <td>...</td>\n",
       "      <td>...</td>\n",
       "      <td>...</td>\n",
       "      <td>...</td>\n",
       "      <td>...</td>\n",
       "      <td>...</td>\n",
       "      <td>...</td>\n",
       "      <td>...</td>\n",
       "      <td>...</td>\n",
       "      <td>...</td>\n",
       "      <td>...</td>\n",
       "    </tr>\n",
       "    <tr>\n",
       "      <th>343</th>\n",
       "      <td>NaN</td>\n",
       "      <td>NaN</td>\n",
       "      <td>Right-arm fast</td>\n",
       "      <td>Sri Lanka</td>\n",
       "      <td>28-Aug-83</td>\n",
       "      <td>6.51</td>\n",
       "      <td>401.166667</td>\n",
       "      <td>194</td>\n",
       "      <td>SL Malinga</td>\n",
       "      <td>2611.0</td>\n",
       "      <td>NaN</td>\n",
       "      <td>3</td>\n",
       "    </tr>\n",
       "    <tr>\n",
       "      <th>344</th>\n",
       "      <td>NaN</td>\n",
       "      <td>NaN</td>\n",
       "      <td>Right-arm fast</td>\n",
       "      <td>South Africa</td>\n",
       "      <td>27-Jun-83</td>\n",
       "      <td>6.53</td>\n",
       "      <td>359.833333</td>\n",
       "      <td>94</td>\n",
       "      <td>DW Steyn</td>\n",
       "      <td>2350.0</td>\n",
       "      <td>NaN</td>\n",
       "      <td>3</td>\n",
       "    </tr>\n",
       "    <tr>\n",
       "      <th>345</th>\n",
       "      <td>NaN</td>\n",
       "      <td>NaN</td>\n",
       "      <td>Legbreak</td>\n",
       "      <td>India</td>\n",
       "      <td>24-Nov-82</td>\n",
       "      <td>7.16</td>\n",
       "      <td>411.000000</td>\n",
       "      <td>136</td>\n",
       "      <td>A Mishra</td>\n",
       "      <td>2941.0</td>\n",
       "      <td>NaN</td>\n",
       "      <td>3</td>\n",
       "    </tr>\n",
       "    <tr>\n",
       "      <th>346</th>\n",
       "      <td>NaN</td>\n",
       "      <td>NaN</td>\n",
       "      <td>Right-arm offbreak</td>\n",
       "      <td>India</td>\n",
       "      <td>3-Jul-80</td>\n",
       "      <td>6.92</td>\n",
       "      <td>457.000000</td>\n",
       "      <td>50</td>\n",
       "      <td>Harbhajan Singh</td>\n",
       "      <td>3162.0</td>\n",
       "      <td>NaN</td>\n",
       "      <td>3</td>\n",
       "    </tr>\n",
       "    <tr>\n",
       "      <th>347</th>\n",
       "      <td>NaN</td>\n",
       "      <td>NaN</td>\n",
       "      <td>Right-arm medium</td>\n",
       "      <td>India</td>\n",
       "      <td>2-Oct-86</td>\n",
       "      <td>7.44</td>\n",
       "      <td>421.500000</td>\n",
       "      <td>14</td>\n",
       "      <td>P Kumar</td>\n",
       "      <td>3135.0</td>\n",
       "      <td>NaN</td>\n",
       "      <td>3</td>\n",
       "    </tr>\n",
       "  </tbody>\n",
       "</table>\n",
       "<p>348 rows × 12 columns</p>\n",
       "</div>"
      ],
      "text/plain": [
       "     Balls_played Batting_Hand       Bowling_Skill       Country        DOB  \\\n",
       "0           760.0   Right_Hand                 NaN         India  18-Dec-91   \n",
       "1          1032.0   Right_Hand                 NaN   West Indies   7-Oct-83   \n",
       "2           762.0   Right_Hand                 NaN   West Indies  25-Jan-85   \n",
       "3          1153.0   Right_Hand                 NaN     Australia  29-Dec-74   \n",
       "4           566.0    Left_Hand                 NaN  South Africa  17-Dec-92   \n",
       "..            ...          ...                 ...           ...        ...   \n",
       "343           NaN          NaN      Right-arm fast     Sri Lanka  28-Aug-83   \n",
       "344           NaN          NaN      Right-arm fast  South Africa  27-Jun-83   \n",
       "345           NaN          NaN            Legbreak         India  24-Nov-82   \n",
       "346           NaN          NaN  Right-arm offbreak         India   3-Jul-80   \n",
       "347           NaN          NaN    Right-arm medium         India   2-Oct-86   \n",
       "\n",
       "     Econ_Rate  Over_count  Player_Id      Player_Name    Runs  Strike_Rate  \\\n",
       "0          NaN         NaN        236    Mandeep Singh   924.0       121.58   \n",
       "1          NaN         NaN         71         DJ Bravo  1262.0       122.29   \n",
       "2          NaN         NaN        383      LMP Simmons   942.0       123.62   \n",
       "3          NaN         NaN        104         BJ Hodge  1400.0       121.42   \n",
       "4          NaN         NaN        355        Q de Kock   726.0       128.27   \n",
       "..         ...         ...        ...              ...     ...          ...   \n",
       "343       6.51  401.166667        194       SL Malinga  2611.0          NaN   \n",
       "344       6.53  359.833333         94         DW Steyn  2350.0          NaN   \n",
       "345       7.16  411.000000        136         A Mishra  2941.0          NaN   \n",
       "346       6.92  457.000000         50  Harbhajan Singh  3162.0          NaN   \n",
       "347       7.44  421.500000         14          P Kumar  3135.0          NaN   \n",
       "\n",
       "     cluster  \n",
       "0          0  \n",
       "1          0  \n",
       "2          0  \n",
       "3          0  \n",
       "4          0  \n",
       "..       ...  \n",
       "343        3  \n",
       "344        3  \n",
       "345        3  \n",
       "346        3  \n",
       "347        3  \n",
       "\n",
       "[348 rows x 12 columns]"
      ]
     },
     "execution_count": 43,
     "metadata": {},
     "output_type": "execute_result"
    }
   ],
   "source": [
    "final=pd.concat([batsmen,bowlers],sort=\"True\").reset_index(drop=True)\n",
    "final"
   ]
  },
  {
   "cell_type": "code",
   "execution_count": 44,
   "metadata": {
    "execution": {
     "iopub.execute_input": "2020-11-16T20:26:42.960596Z",
     "iopub.status.busy": "2020-11-16T20:26:42.959635Z",
     "iopub.status.idle": "2020-11-16T20:26:42.969631Z",
     "shell.execute_reply": "2020-11-16T20:26:42.968782Z"
    },
    "executionInfo": {
     "elapsed": 7295,
     "status": "ok",
     "timestamp": 1596356841231,
     "user": {
      "displayName": "RUCHI BHATIA",
      "photoUrl": "",
      "userId": "04469733066996764193"
     },
     "user_tz": -330
    },
    "id": "YMMw19oLB4S1",
    "papermill": {
     "duration": 0.10528,
     "end_time": "2020-11-16T20:26:42.969777",
     "exception": false,
     "start_time": "2020-11-16T20:26:42.864497",
     "status": "completed"
    },
    "tags": []
   },
   "outputs": [],
   "source": [
    "final.to_csv('/kaggle/working/final.csv')"
   ]
  },
  {
   "cell_type": "markdown",
   "metadata": {
    "id": "5guG_MpLeJV1",
    "papermill": {
     "duration": 0.09022,
     "end_time": "2020-11-16T20:26:43.150735",
     "exception": false,
     "start_time": "2020-11-16T20:26:43.060515",
     "status": "completed"
    },
    "tags": []
   },
   "source": [
    "### Example of a well-rounded Team"
   ]
  },
  {
   "cell_type": "markdown",
   "metadata": {
    "id": "S5SMv_fEeaZi",
    "papermill": {
     "duration": 0.091646,
     "end_time": "2020-11-16T20:26:43.332202",
     "exception": false,
     "start_time": "2020-11-16T20:26:43.240556",
     "status": "completed"
    },
    "tags": []
   },
   "source": [
    "Selecting top 5 batsmen"
   ]
  },
  {
   "cell_type": "code",
   "execution_count": 45,
   "metadata": {
    "execution": {
     "iopub.execute_input": "2020-11-16T20:26:43.528892Z",
     "iopub.status.busy": "2020-11-16T20:26:43.527967Z",
     "iopub.status.idle": "2020-11-16T20:26:43.532612Z",
     "shell.execute_reply": "2020-11-16T20:26:43.533163Z"
    },
    "executionInfo": {
     "elapsed": 7292,
     "status": "ok",
     "timestamp": 1596356841232,
     "user": {
      "displayName": "RUCHI BHATIA",
      "photoUrl": "",
      "userId": "04469733066996764193"
     },
     "user_tz": -330
    },
    "id": "TjodyxR1FZEf",
    "outputId": "42ff044f-971d-42b3-a712-b91debfb744b",
    "papermill": {
     "duration": 0.11234,
     "end_time": "2020-11-16T20:26:43.533328",
     "exception": false,
     "start_time": "2020-11-16T20:26:43.420988",
     "status": "completed"
    },
    "tags": []
   },
   "outputs": [
    {
     "data": {
      "text/html": [
       "<div>\n",
       "<style scoped>\n",
       "    .dataframe tbody tr th:only-of-type {\n",
       "        vertical-align: middle;\n",
       "    }\n",
       "\n",
       "    .dataframe tbody tr th {\n",
       "        vertical-align: top;\n",
       "    }\n",
       "\n",
       "    .dataframe thead th {\n",
       "        text-align: right;\n",
       "    }\n",
       "</style>\n",
       "<table border=\"1\" class=\"dataframe\">\n",
       "  <thead>\n",
       "    <tr style=\"text-align: right;\">\n",
       "      <th></th>\n",
       "      <th>Player_Name</th>\n",
       "      <th>Strike_Rate</th>\n",
       "      <th>DOB</th>\n",
       "      <th>Country</th>\n",
       "    </tr>\n",
       "  </thead>\n",
       "  <tbody>\n",
       "    <tr>\n",
       "      <th>64</th>\n",
       "      <td>CR Brathwaite</td>\n",
       "      <td>207.50</td>\n",
       "      <td>18-Jul-88</td>\n",
       "      <td>West Indies</td>\n",
       "    </tr>\n",
       "    <tr>\n",
       "      <th>86</th>\n",
       "      <td>Umar Gul</td>\n",
       "      <td>205.26</td>\n",
       "      <td>14-Apr-84</td>\n",
       "      <td>Pakistan</td>\n",
       "    </tr>\n",
       "    <tr>\n",
       "      <th>120</th>\n",
       "      <td>RS Sodhi</td>\n",
       "      <td>200.00</td>\n",
       "      <td>18-Oct-80</td>\n",
       "      <td>India</td>\n",
       "    </tr>\n",
       "    <tr>\n",
       "      <th>75</th>\n",
       "      <td>KH Pandya</td>\n",
       "      <td>186.61</td>\n",
       "      <td>24-Mar-91</td>\n",
       "      <td>India</td>\n",
       "    </tr>\n",
       "    <tr>\n",
       "      <th>100</th>\n",
       "      <td>Shahid Afridi</td>\n",
       "      <td>176.09</td>\n",
       "      <td>1-Mar-80</td>\n",
       "      <td>Pakistan</td>\n",
       "    </tr>\n",
       "  </tbody>\n",
       "</table>\n",
       "</div>"
      ],
      "text/plain": [
       "       Player_Name  Strike_Rate        DOB      Country\n",
       "64   CR Brathwaite       207.50  18-Jul-88  West Indies\n",
       "86        Umar Gul       205.26  14-Apr-84     Pakistan\n",
       "120       RS Sodhi       200.00  18-Oct-80        India\n",
       "75       KH Pandya       186.61  24-Mar-91        India\n",
       "100  Shahid Afridi       176.09   1-Mar-80     Pakistan"
      ]
     },
     "execution_count": 45,
     "metadata": {},
     "output_type": "execute_result"
    }
   ],
   "source": [
    "batsmen_team=batsmen[['Player_Name','Strike_Rate','DOB','Country']].sort_values(by=['Strike_Rate'],ascending=False)\n",
    "batsmen_team=batsmen_team.head(5)\n",
    "batsmen_team"
   ]
  },
  {
   "cell_type": "markdown",
   "metadata": {
    "id": "aA34hwuLegY-",
    "papermill": {
     "duration": 0.089933,
     "end_time": "2020-11-16T20:26:43.712088",
     "exception": false,
     "start_time": "2020-11-16T20:26:43.622155",
     "status": "completed"
    },
    "tags": []
   },
   "source": [
    "Selecting top 5 bowlers"
   ]
  },
  {
   "cell_type": "code",
   "execution_count": 46,
   "metadata": {
    "execution": {
     "iopub.execute_input": "2020-11-16T20:26:43.907763Z",
     "iopub.status.busy": "2020-11-16T20:26:43.906759Z",
     "iopub.status.idle": "2020-11-16T20:26:43.912528Z",
     "shell.execute_reply": "2020-11-16T20:26:43.911729Z"
    },
    "executionInfo": {
     "elapsed": 7285,
     "status": "ok",
     "timestamp": 1596356841232,
     "user": {
      "displayName": "RUCHI BHATIA",
      "photoUrl": "",
      "userId": "04469733066996764193"
     },
     "user_tz": -330
    },
    "id": "6I4oS1s3tPLt",
    "outputId": "070a31bd-1815-4fb8-dec8-9a452560e78d",
    "papermill": {
     "duration": 0.111399,
     "end_time": "2020-11-16T20:26:43.912653",
     "exception": false,
     "start_time": "2020-11-16T20:26:43.801254",
     "status": "completed"
    },
    "tags": []
   },
   "outputs": [
    {
     "data": {
      "text/html": [
       "<div>\n",
       "<style scoped>\n",
       "    .dataframe tbody tr th:only-of-type {\n",
       "        vertical-align: middle;\n",
       "    }\n",
       "\n",
       "    .dataframe tbody tr th {\n",
       "        vertical-align: top;\n",
       "    }\n",
       "\n",
       "    .dataframe thead th {\n",
       "        text-align: right;\n",
       "    }\n",
       "</style>\n",
       "<table border=\"1\" class=\"dataframe\">\n",
       "  <thead>\n",
       "    <tr style=\"text-align: right;\">\n",
       "      <th></th>\n",
       "      <th>Player_Name</th>\n",
       "      <th>Econ_Rate</th>\n",
       "      <th>DOB</th>\n",
       "      <th>Country</th>\n",
       "    </tr>\n",
       "  </thead>\n",
       "  <tbody>\n",
       "    <tr>\n",
       "      <th>60</th>\n",
       "      <td>Sachin Baby</td>\n",
       "      <td>4.80</td>\n",
       "      <td>18-Dec-88</td>\n",
       "      <td>India</td>\n",
       "    </tr>\n",
       "    <tr>\n",
       "      <th>28</th>\n",
       "      <td>AM Rahane</td>\n",
       "      <td>5.00</td>\n",
       "      <td>6-Jun-88</td>\n",
       "      <td>India</td>\n",
       "    </tr>\n",
       "    <tr>\n",
       "      <th>17</th>\n",
       "      <td>SS Mundhe</td>\n",
       "      <td>5.14</td>\n",
       "      <td>27-Oct-88</td>\n",
       "      <td>India</td>\n",
       "    </tr>\n",
       "    <tr>\n",
       "      <th>25</th>\n",
       "      <td>LA Carseldine</td>\n",
       "      <td>5.14</td>\n",
       "      <td>17-Nov-75</td>\n",
       "      <td>Australia</td>\n",
       "    </tr>\n",
       "    <tr>\n",
       "      <th>96</th>\n",
       "      <td>DJ Thornely</td>\n",
       "      <td>5.45</td>\n",
       "      <td>1-Oct-78</td>\n",
       "      <td>Australia</td>\n",
       "    </tr>\n",
       "  </tbody>\n",
       "</table>\n",
       "</div>"
      ],
      "text/plain": [
       "      Player_Name  Econ_Rate        DOB    Country\n",
       "60    Sachin Baby       4.80  18-Dec-88      India\n",
       "28      AM Rahane       5.00   6-Jun-88      India\n",
       "17      SS Mundhe       5.14  27-Oct-88      India\n",
       "25  LA Carseldine       5.14  17-Nov-75  Australia\n",
       "96    DJ Thornely       5.45   1-Oct-78  Australia"
      ]
     },
     "execution_count": 46,
     "metadata": {},
     "output_type": "execute_result"
    }
   ],
   "source": [
    "bowlers_team=bowlers[['Player_Name','Econ_Rate','DOB','Country']].sort_values(by=['Econ_Rate'])\n",
    "bowlers_team=bowlers_team.head(5)\n",
    "bowlers_team"
   ]
  },
  {
   "cell_type": "markdown",
   "metadata": {
    "id": "SjvWXN0vei_V",
    "papermill": {
     "duration": 0.088914,
     "end_time": "2020-11-16T20:26:44.094358",
     "exception": false,
     "start_time": "2020-11-16T20:26:44.005444",
     "status": "completed"
    },
    "tags": []
   },
   "source": [
    "Selecting top 10 all rounders"
   ]
  },
  {
   "cell_type": "code",
   "execution_count": 47,
   "metadata": {
    "execution": {
     "iopub.execute_input": "2020-11-16T20:26:44.285853Z",
     "iopub.status.busy": "2020-11-16T20:26:44.284792Z",
     "iopub.status.idle": "2020-11-16T20:26:44.315885Z",
     "shell.execute_reply": "2020-11-16T20:26:44.315273Z"
    },
    "executionInfo": {
     "elapsed": 7280,
     "status": "ok",
     "timestamp": 1596356841233,
     "user": {
      "displayName": "RUCHI BHATIA",
      "photoUrl": "",
      "userId": "04469733066996764193"
     },
     "user_tz": -330
    },
    "id": "YHjo6sq_uvsX",
    "outputId": "f8643258-c5c0-4695-8f37-b75690cff950",
    "papermill": {
     "duration": 0.131334,
     "end_time": "2020-11-16T20:26:44.316011",
     "exception": false,
     "start_time": "2020-11-16T20:26:44.184677",
     "status": "completed"
    },
    "tags": []
   },
   "outputs": [
    {
     "name": "stderr",
     "output_type": "stream",
     "text": [
      "/opt/conda/lib/python3.7/site-packages/pandas/core/frame.py:4301: SettingWithCopyWarning:\n",
      "\n",
      "\n",
      "A value is trying to be set on a copy of a slice from a DataFrame\n",
      "\n",
      "See the caveats in the documentation: https://pandas.pydata.org/pandas-docs/stable/user_guide/indexing.html#returning-a-view-versus-a-copy\n",
      "\n"
     ]
    },
    {
     "data": {
      "text/html": [
       "<div>\n",
       "<style scoped>\n",
       "    .dataframe tbody tr th:only-of-type {\n",
       "        vertical-align: middle;\n",
       "    }\n",
       "\n",
       "    .dataframe tbody tr th {\n",
       "        vertical-align: top;\n",
       "    }\n",
       "\n",
       "    .dataframe thead th {\n",
       "        text-align: right;\n",
       "    }\n",
       "</style>\n",
       "<table border=\"1\" class=\"dataframe\">\n",
       "  <thead>\n",
       "    <tr style=\"text-align: right;\">\n",
       "      <th></th>\n",
       "      <th>Player_Name</th>\n",
       "      <th>Strike_Rate</th>\n",
       "      <th>Econ_Rate</th>\n",
       "      <th>DOB</th>\n",
       "      <th>Country</th>\n",
       "    </tr>\n",
       "  </thead>\n",
       "  <tbody>\n",
       "    <tr>\n",
       "      <th>0</th>\n",
       "      <td>DJ Bravo</td>\n",
       "      <td>122.29</td>\n",
       "      <td>7.90</td>\n",
       "      <td>7-Oct-83</td>\n",
       "      <td>West Indies</td>\n",
       "    </tr>\n",
       "    <tr>\n",
       "      <th>1</th>\n",
       "      <td>BJ Hodge</td>\n",
       "      <td>121.42</td>\n",
       "      <td>7.79</td>\n",
       "      <td>29-Dec-74</td>\n",
       "      <td>Australia</td>\n",
       "    </tr>\n",
       "    <tr>\n",
       "      <th>2</th>\n",
       "      <td>JD Ryder</td>\n",
       "      <td>129.61</td>\n",
       "      <td>7.67</td>\n",
       "      <td>6-Aug-84</td>\n",
       "      <td>New Zealand</td>\n",
       "    </tr>\n",
       "    <tr>\n",
       "      <th>3</th>\n",
       "      <td>KP Pietersen</td>\n",
       "      <td>132.06</td>\n",
       "      <td>7.13</td>\n",
       "      <td>27-Jun-80</td>\n",
       "      <td>South Africa</td>\n",
       "    </tr>\n",
       "    <tr>\n",
       "      <th>4</th>\n",
       "      <td>MC Henriques</td>\n",
       "      <td>122.70</td>\n",
       "      <td>7.82</td>\n",
       "      <td>1-Feb-87</td>\n",
       "      <td>Australia</td>\n",
       "    </tr>\n",
       "    <tr>\n",
       "      <th>5</th>\n",
       "      <td>AD Mathews</td>\n",
       "      <td>121.19</td>\n",
       "      <td>7.97</td>\n",
       "      <td>2-Jun-87</td>\n",
       "      <td>Sri Lanka</td>\n",
       "    </tr>\n",
       "    <tr>\n",
       "      <th>6</th>\n",
       "      <td>STR Binny</td>\n",
       "      <td>126.94</td>\n",
       "      <td>7.38</td>\n",
       "      <td>3-Jun-84</td>\n",
       "      <td>India</td>\n",
       "    </tr>\n",
       "    <tr>\n",
       "      <th>7</th>\n",
       "      <td>AD Russell</td>\n",
       "      <td>164.00</td>\n",
       "      <td>8.41</td>\n",
       "      <td>29-Apr-88</td>\n",
       "      <td>West Indies</td>\n",
       "    </tr>\n",
       "    <tr>\n",
       "      <th>8</th>\n",
       "      <td>A Symonds</td>\n",
       "      <td>124.71</td>\n",
       "      <td>7.71</td>\n",
       "      <td>9-Jun-75</td>\n",
       "      <td>Australia</td>\n",
       "    </tr>\n",
       "    <tr>\n",
       "      <th>9</th>\n",
       "      <td>JA Morkel</td>\n",
       "      <td>136.94</td>\n",
       "      <td>7.90</td>\n",
       "      <td>10-Jun-81</td>\n",
       "      <td>South Africa</td>\n",
       "    </tr>\n",
       "  </tbody>\n",
       "</table>\n",
       "</div>"
      ],
      "text/plain": [
       "    Player_Name  Strike_Rate  Econ_Rate        DOB       Country\n",
       "0      DJ Bravo       122.29       7.90   7-Oct-83   West Indies\n",
       "1      BJ Hodge       121.42       7.79  29-Dec-74     Australia\n",
       "2      JD Ryder       129.61       7.67   6-Aug-84   New Zealand\n",
       "3  KP Pietersen       132.06       7.13  27-Jun-80  South Africa\n",
       "4  MC Henriques       122.70       7.82   1-Feb-87     Australia\n",
       "5    AD Mathews       121.19       7.97   2-Jun-87     Sri Lanka\n",
       "6     STR Binny       126.94       7.38   3-Jun-84         India\n",
       "7    AD Russell       164.00       8.41  29-Apr-88   West Indies\n",
       "8     A Symonds       124.71       7.71   9-Jun-75     Australia\n",
       "9     JA Morkel       136.94       7.90  10-Jun-81  South Africa"
      ]
     },
     "execution_count": 47,
     "metadata": {},
     "output_type": "execute_result"
    }
   ],
   "source": [
    "d1 = pd.merge(batsmen,bowlers, how='inner', on=['Player_Id'])\n",
    "d2 = pd.merge(d1,players, on='Player_Id')\n",
    "all_rounder_team=d2[['Player_Name_x','Strike_Rate','Econ_Rate','DOB','Country']]\n",
    "all_rounder_team.rename(columns = {'Player_Name_x':'Player_Name'}, inplace = True) \n",
    "all_rounder_team=all_rounder_team.head(10)\n",
    "all_rounder_team"
   ]
  },
  {
   "cell_type": "code",
   "execution_count": 48,
   "metadata": {
    "execution": {
     "iopub.execute_input": "2020-11-16T20:26:44.530821Z",
     "iopub.status.busy": "2020-11-16T20:26:44.529732Z",
     "iopub.status.idle": "2020-11-16T20:26:44.536538Z",
     "shell.execute_reply": "2020-11-16T20:26:44.537102Z"
    },
    "executionInfo": {
     "elapsed": 7273,
     "status": "ok",
     "timestamp": 1596356841233,
     "user": {
      "displayName": "RUCHI BHATIA",
      "photoUrl": "",
      "userId": "04469733066996764193"
     },
     "user_tz": -330
    },
    "id": "4zzGT4z4EsvP",
    "outputId": "48daa1a8-dc73-4c68-efdb-ee27f110597e",
    "papermill": {
     "duration": 0.129124,
     "end_time": "2020-11-16T20:26:44.537267",
     "exception": false,
     "start_time": "2020-11-16T20:26:44.408143",
     "status": "completed"
    },
    "tags": []
   },
   "outputs": [
    {
     "name": "stdout",
     "output_type": "stream",
     "text": [
      "------------------------------ Well rounded team ------------------------------ \n",
      "\n"
     ]
    },
    {
     "data": {
      "text/html": [
       "<div>\n",
       "<style scoped>\n",
       "    .dataframe tbody tr th:only-of-type {\n",
       "        vertical-align: middle;\n",
       "    }\n",
       "\n",
       "    .dataframe tbody tr th {\n",
       "        vertical-align: top;\n",
       "    }\n",
       "\n",
       "    .dataframe thead th {\n",
       "        text-align: right;\n",
       "    }\n",
       "</style>\n",
       "<table border=\"1\" class=\"dataframe\">\n",
       "  <thead>\n",
       "    <tr style=\"text-align: right;\">\n",
       "      <th></th>\n",
       "      <th>Player_Name</th>\n",
       "      <th>Strike_Rate</th>\n",
       "      <th>Econ_Rate</th>\n",
       "      <th>DOB</th>\n",
       "      <th>Country</th>\n",
       "    </tr>\n",
       "  </thead>\n",
       "  <tbody>\n",
       "    <tr>\n",
       "      <th>0</th>\n",
       "      <td>CR Brathwaite</td>\n",
       "      <td>207.50</td>\n",
       "      <td>NaN</td>\n",
       "      <td>18-Jul-88</td>\n",
       "      <td>West Indies</td>\n",
       "    </tr>\n",
       "    <tr>\n",
       "      <th>1</th>\n",
       "      <td>Umar Gul</td>\n",
       "      <td>205.26</td>\n",
       "      <td>NaN</td>\n",
       "      <td>14-Apr-84</td>\n",
       "      <td>Pakistan</td>\n",
       "    </tr>\n",
       "    <tr>\n",
       "      <th>2</th>\n",
       "      <td>RS Sodhi</td>\n",
       "      <td>200.00</td>\n",
       "      <td>NaN</td>\n",
       "      <td>18-Oct-80</td>\n",
       "      <td>India</td>\n",
       "    </tr>\n",
       "    <tr>\n",
       "      <th>3</th>\n",
       "      <td>KH Pandya</td>\n",
       "      <td>186.61</td>\n",
       "      <td>NaN</td>\n",
       "      <td>24-Mar-91</td>\n",
       "      <td>India</td>\n",
       "    </tr>\n",
       "    <tr>\n",
       "      <th>4</th>\n",
       "      <td>Shahid Afridi</td>\n",
       "      <td>176.09</td>\n",
       "      <td>NaN</td>\n",
       "      <td>1-Mar-80</td>\n",
       "      <td>Pakistan</td>\n",
       "    </tr>\n",
       "    <tr>\n",
       "      <th>5</th>\n",
       "      <td>Sachin Baby</td>\n",
       "      <td>NaN</td>\n",
       "      <td>4.80</td>\n",
       "      <td>18-Dec-88</td>\n",
       "      <td>India</td>\n",
       "    </tr>\n",
       "    <tr>\n",
       "      <th>6</th>\n",
       "      <td>AM Rahane</td>\n",
       "      <td>NaN</td>\n",
       "      <td>5.00</td>\n",
       "      <td>6-Jun-88</td>\n",
       "      <td>India</td>\n",
       "    </tr>\n",
       "    <tr>\n",
       "      <th>7</th>\n",
       "      <td>SS Mundhe</td>\n",
       "      <td>NaN</td>\n",
       "      <td>5.14</td>\n",
       "      <td>27-Oct-88</td>\n",
       "      <td>India</td>\n",
       "    </tr>\n",
       "    <tr>\n",
       "      <th>8</th>\n",
       "      <td>LA Carseldine</td>\n",
       "      <td>NaN</td>\n",
       "      <td>5.14</td>\n",
       "      <td>17-Nov-75</td>\n",
       "      <td>Australia</td>\n",
       "    </tr>\n",
       "    <tr>\n",
       "      <th>9</th>\n",
       "      <td>DJ Thornely</td>\n",
       "      <td>NaN</td>\n",
       "      <td>5.45</td>\n",
       "      <td>1-Oct-78</td>\n",
       "      <td>Australia</td>\n",
       "    </tr>\n",
       "    <tr>\n",
       "      <th>10</th>\n",
       "      <td>DJ Bravo</td>\n",
       "      <td>122.29</td>\n",
       "      <td>7.90</td>\n",
       "      <td>7-Oct-83</td>\n",
       "      <td>West Indies</td>\n",
       "    </tr>\n",
       "    <tr>\n",
       "      <th>11</th>\n",
       "      <td>BJ Hodge</td>\n",
       "      <td>121.42</td>\n",
       "      <td>7.79</td>\n",
       "      <td>29-Dec-74</td>\n",
       "      <td>Australia</td>\n",
       "    </tr>\n",
       "    <tr>\n",
       "      <th>12</th>\n",
       "      <td>JD Ryder</td>\n",
       "      <td>129.61</td>\n",
       "      <td>7.67</td>\n",
       "      <td>6-Aug-84</td>\n",
       "      <td>New Zealand</td>\n",
       "    </tr>\n",
       "    <tr>\n",
       "      <th>13</th>\n",
       "      <td>KP Pietersen</td>\n",
       "      <td>132.06</td>\n",
       "      <td>7.13</td>\n",
       "      <td>27-Jun-80</td>\n",
       "      <td>South Africa</td>\n",
       "    </tr>\n",
       "    <tr>\n",
       "      <th>14</th>\n",
       "      <td>MC Henriques</td>\n",
       "      <td>122.70</td>\n",
       "      <td>7.82</td>\n",
       "      <td>1-Feb-87</td>\n",
       "      <td>Australia</td>\n",
       "    </tr>\n",
       "    <tr>\n",
       "      <th>15</th>\n",
       "      <td>AD Mathews</td>\n",
       "      <td>121.19</td>\n",
       "      <td>7.97</td>\n",
       "      <td>2-Jun-87</td>\n",
       "      <td>Sri Lanka</td>\n",
       "    </tr>\n",
       "    <tr>\n",
       "      <th>16</th>\n",
       "      <td>STR Binny</td>\n",
       "      <td>126.94</td>\n",
       "      <td>7.38</td>\n",
       "      <td>3-Jun-84</td>\n",
       "      <td>India</td>\n",
       "    </tr>\n",
       "    <tr>\n",
       "      <th>17</th>\n",
       "      <td>AD Russell</td>\n",
       "      <td>164.00</td>\n",
       "      <td>8.41</td>\n",
       "      <td>29-Apr-88</td>\n",
       "      <td>West Indies</td>\n",
       "    </tr>\n",
       "    <tr>\n",
       "      <th>18</th>\n",
       "      <td>A Symonds</td>\n",
       "      <td>124.71</td>\n",
       "      <td>7.71</td>\n",
       "      <td>9-Jun-75</td>\n",
       "      <td>Australia</td>\n",
       "    </tr>\n",
       "    <tr>\n",
       "      <th>19</th>\n",
       "      <td>JA Morkel</td>\n",
       "      <td>136.94</td>\n",
       "      <td>7.90</td>\n",
       "      <td>10-Jun-81</td>\n",
       "      <td>South Africa</td>\n",
       "    </tr>\n",
       "  </tbody>\n",
       "</table>\n",
       "</div>"
      ],
      "text/plain": [
       "      Player_Name  Strike_Rate  Econ_Rate        DOB       Country\n",
       "0   CR Brathwaite       207.50        NaN  18-Jul-88   West Indies\n",
       "1        Umar Gul       205.26        NaN  14-Apr-84      Pakistan\n",
       "2        RS Sodhi       200.00        NaN  18-Oct-80         India\n",
       "3       KH Pandya       186.61        NaN  24-Mar-91         India\n",
       "4   Shahid Afridi       176.09        NaN   1-Mar-80      Pakistan\n",
       "5     Sachin Baby          NaN       4.80  18-Dec-88         India\n",
       "6       AM Rahane          NaN       5.00   6-Jun-88         India\n",
       "7       SS Mundhe          NaN       5.14  27-Oct-88         India\n",
       "8   LA Carseldine          NaN       5.14  17-Nov-75     Australia\n",
       "9     DJ Thornely          NaN       5.45   1-Oct-78     Australia\n",
       "10       DJ Bravo       122.29       7.90   7-Oct-83   West Indies\n",
       "11       BJ Hodge       121.42       7.79  29-Dec-74     Australia\n",
       "12       JD Ryder       129.61       7.67   6-Aug-84   New Zealand\n",
       "13   KP Pietersen       132.06       7.13  27-Jun-80  South Africa\n",
       "14   MC Henriques       122.70       7.82   1-Feb-87     Australia\n",
       "15     AD Mathews       121.19       7.97   2-Jun-87     Sri Lanka\n",
       "16      STR Binny       126.94       7.38   3-Jun-84         India\n",
       "17     AD Russell       164.00       8.41  29-Apr-88   West Indies\n",
       "18      A Symonds       124.71       7.71   9-Jun-75     Australia\n",
       "19      JA Morkel       136.94       7.90  10-Jun-81  South Africa"
      ]
     },
     "execution_count": 48,
     "metadata": {},
     "output_type": "execute_result"
    }
   ],
   "source": [
    "df=pd.concat([batsmen_team,bowlers_team,all_rounder_team],sort=True).drop_duplicates(subset='Player_Name', keep=\"first\").reset_index(drop=True)\n",
    "df=df[['Player_Name','Strike_Rate','Econ_Rate','DOB','Country']]\n",
    "print(\"-\"*30,\"Well rounded team\",\"-\"*30,\"\\n\")\n",
    "df"
   ]
  },
  {
   "cell_type": "markdown",
   "metadata": {
    "id": "XbtfVpAl0gC9",
    "papermill": {
     "duration": 0.095581,
     "end_time": "2020-11-16T20:26:44.725568",
     "exception": false,
     "start_time": "2020-11-16T20:26:44.629987",
     "status": "completed"
    },
    "tags": []
   },
   "source": [
    "The players with:\n",
    "\n",
    "Strike_Rate: NaN are **batsmen**\n",
    "\n",
    "Economy_Rate: NaN are **bowlers**\n",
    "\n",
    "both Strike_Rate and Economy_Rate listed are **all rounders**."
   ]
  }
 ],
 "metadata": {
  "kernelspec": {
   "display_name": "Python 3",
   "language": "python",
   "name": "python3"
  },
  "language_info": {
   "codemirror_mode": {
    "name": "ipython",
    "version": 3
   },
   "file_extension": ".py",
   "mimetype": "text/x-python",
   "name": "python",
   "nbconvert_exporter": "python",
   "pygments_lexer": "ipython3",
   "version": "3.7.6"
  },
  "papermill": {
   "duration": 30.078771,
   "end_time": "2020-11-16T20:26:44.939571",
   "environment_variables": {},
   "exception": null,
   "input_path": "__notebook__.ipynb",
   "output_path": "__notebook__.ipynb",
   "parameters": {},
   "start_time": "2020-11-16T20:26:14.860800",
   "version": "2.1.0"
  }
 },
 "nbformat": 4,
 "nbformat_minor": 4
}
